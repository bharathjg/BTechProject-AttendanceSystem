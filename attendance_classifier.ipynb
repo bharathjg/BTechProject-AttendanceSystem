{
  "nbformat": 4,
  "nbformat_minor": 0,
  "metadata": {
    "colab": {
      "provenance": []
    },
    "kernelspec": {
      "name": "python3",
      "display_name": "Python 3"
    }
  },
  "cells": [
    {
      "cell_type": "code",
      "metadata": {
        "id": "nEezL6yU1wLt",
        "colab": {
          "base_uri": "https://localhost:8080/",
          "height": 122
        },
        "outputId": "4294f9fe-0e86-44ed-9ea9-a91cf1c33127"
      },
      "source": [
        "import pickle\n",
        "import numpy as np\n",
        "import h5py\n",
        "import matplotlib.pyplot as plt\n",
        "\n",
        "from google.colab import drive\n",
        "drive.mount('/content/drive')"
      ],
      "execution_count": null,
      "outputs": [
        {
          "output_type": "stream",
          "text": [
            "Go to this URL in a browser: https://accounts.google.com/o/oauth2/auth?client_id=947318989803-6bn6qk8qdgf4n4g3pfee6491hc0brc4i.apps.googleusercontent.com&redirect_uri=urn%3aietf%3awg%3aoauth%3a2.0%3aoob&response_type=code&scope=email%20https%3a%2f%2fwww.googleapis.com%2fauth%2fdocs.test%20https%3a%2f%2fwww.googleapis.com%2fauth%2fdrive%20https%3a%2f%2fwww.googleapis.com%2fauth%2fdrive.photos.readonly%20https%3a%2f%2fwww.googleapis.com%2fauth%2fpeopleapi.readonly\n",
            "\n",
            "Enter your authorization code:\n",
            "··········\n",
            "Mounted at /content/drive\n"
          ],
          "name": "stdout"
        }
      ]
    },
    {
      "cell_type": "code",
      "metadata": {
        "id": "S97_5tCS2CtS"
      },
      "source": [
        "from sklearn.linear_model import LogisticRegression\n",
        "from sklearn.datasets import make_blobs\n",
        "import pandas as pd\n"
      ],
      "execution_count": null,
      "outputs": []
    },
    {
      "cell_type": "code",
      "metadata": {
        "id": "SgrvBRDf2DsC",
        "colab": {
          "base_uri": "https://localhost:8080/",
          "height": 102
        },
        "outputId": "fae04167-e0c9-47da-fa87-dfbb450981f6"
      },
      "source": [
        "dbfile=open('/content/drive/My Drive/Colab Notebooks/aggregatepickle.pkl','rb')\n",
        "db=pickle.load(dbfile)\n",
        "dbfile.close()\n",
        "print(len(db['names']))\n",
        "print(len(db['encodings']))\n",
        "print(np.unique(db['names']))\n",
        "\n",
        "encodings=db['encodings']\n",
        "names=db['names']\n",
        "X=np.array(encodings)\n",
        "\n",
        "\n",
        "print(X.shape)"
      ],
      "execution_count": null,
      "outputs": [
        {
          "output_type": "stream",
          "text": [
            "824\n",
            "824\n",
            "['Adarsh' 'Athira' 'Midhun' 'Navami' 'Naveen' 'Oscar' 'Ramdas'\n",
            " 'Shivatheertha' 'Sruthi']\n",
            "(824, 128)\n"
          ],
          "name": "stdout"
        }
      ]
    },
    {
      "cell_type": "code",
      "metadata": {
        "id": "BpfipPjjXNEV",
        "colab": {
          "base_uri": "https://localhost:8080/",
          "height": 272
        },
        "outputId": "f60a2b8d-3ac0-4ae3-bdc2-92934ba5b042"
      },
      "source": [
        " from sklearn.preprocessing import LabelBinarizer\n",
        " encoder = LabelBinarizer()\n",
        " transformed_labels2 = encoder.fit_transform(np.unique(db['names']))\n",
        " transformed_labels= np.zeros([9,1],dtype=int)\n",
        " for i in range(0,9):\n",
        "   transformed_labels[i]=i\n",
        " print(np.unique(db['names']))\n",
        " print(transformed_labels.shape)\n",
        " print(transformed_labels[0].shape)\n",
        " print(transformed_labels)\n",
        " Y=np.zeros([824,1],dtype=int)\n",
        "\n",
        " for i in range(0,824):\n",
        "   if names[i]==\"Adarsh\":\n",
        "     Y[i]=transformed_labels[0]\n",
        "   if names[i]==\"Athira\":\n",
        "     Y[i]=transformed_labels[1]\n",
        "   if names[i]==\"Midhun\":\n",
        "     Y[i]=transformed_labels[2]\n",
        "   if names[i]==\"Navami\":\n",
        "     Y[i]=transformed_labels[3]\n",
        "   if names[i]==\"Naveen\":\n",
        "     Y[i]=transformed_labels[4]\n",
        "   if names[i]==\"Oscar\":\n",
        "     Y[i]=transformed_labels[5]\n",
        "   if names[i]==\"Ramdas\":\n",
        "     Y[i]=transformed_labels[6]\n",
        "   if names[i]==\"Shivatheertha\":\n",
        "     Y[i]=transformed_labels[7]\n",
        "   if names[i]==\"Sruthi\":\n",
        "     Y[i]=transformed_labels[8]\n",
        "\n",
        "print(Y[0])\n",
        "print(names[0])"
      ],
      "execution_count": null,
      "outputs": [
        {
          "output_type": "stream",
          "text": [
            "['Adarsh' 'Athira' 'Midhun' 'Navami' 'Naveen' 'Oscar' 'Ramdas'\n",
            " 'Shivatheertha' 'Sruthi']\n",
            "(9, 1)\n",
            "(1,)\n",
            "[[0]\n",
            " [1]\n",
            " [2]\n",
            " [3]\n",
            " [4]\n",
            " [5]\n",
            " [6]\n",
            " [7]\n",
            " [8]]\n",
            "[4]\n",
            "Naveen\n"
          ],
          "name": "stdout"
        }
      ]
    },
    {
      "cell_type": "code",
      "metadata": {
        "id": "3rfd6gex2F-X",
        "colab": {
          "base_uri": "https://localhost:8080/",
          "height": 85
        },
        "outputId": "74bfd1bc-4f91-474c-e4e0-d76fae324b40"
      },
      "source": [
        "# Using Skicit-learn to split data into training and testing sets\n",
        "from sklearn.model_selection import train_test_split\n",
        "# Split the data into training and testing sets\n",
        "x_train, x_test, y_train, y_test = train_test_split(X, Y, test_size = 0.4, random_state = 42)\n",
        "print('Training Features(X) Shape:', x_train.shape)\n",
        "print('Training Labels(y) Shape:', y_train.shape)\n",
        "print('Testing Features(X) Shape:', x_test.shape)\n",
        "print('Testing Labels(y) Shape:', y_test.shape)"
      ],
      "execution_count": null,
      "outputs": [
        {
          "output_type": "stream",
          "text": [
            "Training Features(X) Shape: (494, 128)\n",
            "Training Labels(y) Shape: (494, 1)\n",
            "Testing Features(X) Shape: (330, 128)\n",
            "Testing Labels(y) Shape: (330, 1)\n"
          ],
          "name": "stdout"
        }
      ]
    },
    {
      "cell_type": "code",
      "metadata": {
        "id": "kNoVIwNgWrxh",
        "colab": {
          "base_uri": "https://localhost:8080/",
          "height": 408
        },
        "outputId": "3eac3f67-f37b-4122-ff98-5a75128ac912"
      },
      "source": [
        "print(Y.T)\n",
        "# Distribution of labels is as follows\n",
        "# 0-82 -> Label 4    || 83 examples\n",
        "# 83-126 -> Label 8  || 44 examples\n",
        "# 127-216 -> Label 3 || 90 examples\n",
        "# 217-358 -> Label 2 || 142 examples\n",
        "# 359-405 -> Label 7 || 47 examples\n",
        "# 406-451 -> Label 0 || 46 examples\n",
        "# 452-497 -> Label 1 || 46 examples\n",
        "# 498-568 -> Label 5 || 71 examples\n",
        "# 569-823 -> Label 6 || 255 examples"
      ],
      "execution_count": null,
      "outputs": [
        {
          "output_type": "stream",
          "text": [
            "[[4 4 4 4 4 4 4 4 4 4 4 4 4 4 4 4 4 4 4 4 4 4 4 4 4 4 4 4 4 4 4 4 4 4 4 4\n",
            "  4 4 4 4 4 4 4 4 4 4 4 4 4 4 4 4 4 4 4 4 4 4 4 4 4 4 4 4 4 4 4 4 4 4 4 4\n",
            "  4 4 4 4 4 4 4 4 4 4 4 8 8 8 8 8 8 8 8 8 8 8 8 8 8 8 8 8 8 8 8 8 8 8 8 8\n",
            "  8 8 8 8 8 8 8 8 8 8 8 8 8 8 8 8 8 8 8 3 3 3 3 3 3 3 3 3 3 3 3 3 3 3 3 3\n",
            "  3 3 3 3 3 3 3 3 3 3 3 3 3 3 3 3 3 3 3 3 3 3 3 3 3 3 3 3 3 3 3 3 3 3 3 3\n",
            "  3 3 3 3 3 3 3 3 3 3 3 3 3 3 3 3 3 3 3 3 3 3 3 3 3 3 3 3 3 3 3 3 3 3 3 3\n",
            "  3 2 2 2 2 2 2 2 2 2 2 2 2 2 2 2 2 2 2 2 2 2 2 2 2 2 2 2 2 2 2 2 2 2 2 2\n",
            "  2 2 2 2 2 2 2 2 2 2 2 2 2 2 2 2 2 2 2 2 2 2 2 2 2 2 2 2 2 2 2 2 2 2 2 2\n",
            "  2 2 2 2 2 2 2 2 2 2 2 2 2 2 2 2 2 2 2 2 2 2 2 2 2 2 2 2 2 2 2 2 2 2 2 2\n",
            "  2 2 2 2 2 2 2 2 2 2 2 2 2 2 2 2 2 2 2 2 2 2 2 2 2 2 2 2 2 2 2 2 2 2 2 7\n",
            "  7 7 7 7 7 7 7 7 7 7 7 7 7 7 7 7 7 7 7 7 7 7 7 7 7 7 7 7 7 7 7 7 7 7 7 7\n",
            "  7 7 7 7 7 7 7 7 7 7 0 0 0 0 0 0 0 0 0 0 0 0 0 0 0 0 0 0 0 0 0 0 0 0 0 0\n",
            "  0 0 0 0 0 0 0 0 0 0 0 0 0 0 0 0 0 0 0 0 1 1 1 1 1 1 1 1 1 1 1 1 1 1 1 1\n",
            "  1 1 1 1 1 1 1 1 1 1 1 1 1 1 1 1 1 1 1 1 1 1 1 1 1 1 1 1 1 1 5 5 5 5 5 5\n",
            "  5 5 5 5 5 5 5 5 5 5 5 5 5 5 5 5 5 5 5 5 5 5 5 5 5 5 5 5 5 5 5 5 5 5 5 5\n",
            "  5 5 5 5 5 5 5 5 5 5 5 5 5 5 5 5 5 5 5 5 5 5 5 5 5 5 5 5 5 6 6 6 6 6 6 6\n",
            "  6 6 6 6 6 6 6 6 6 6 6 6 6 6 6 6 6 6 6 6 6 6 6 6 6 6 6 6 6 6 6 6 6 6 6 6\n",
            "  6 6 6 6 6 6 6 6 6 6 6 6 6 6 6 6 6 6 6 6 6 6 6 6 6 6 6 6 6 6 6 6 6 6 6 6\n",
            "  6 6 6 6 6 6 6 6 6 6 6 6 6 6 6 6 6 6 6 6 6 6 6 6 6 6 6 6 6 6 6 6 6 6 6 6\n",
            "  6 6 6 6 6 6 6 6 6 6 6 6 6 6 6 6 6 6 6 6 6 6 6 6 6 6 6 6 6 6 6 6 6 6 6 6\n",
            "  6 6 6 6 6 6 6 6 6 6 6 6 6 6 6 6 6 6 6 6 6 6 6 6 6 6 6 6 6 6 6 6 6 6 6 6\n",
            "  6 6 6 6 6 6 6 6 6 6 6 6 6 6 6 6 6 6 6 6 6 6 6 6 6 6 6 6 6 6 6 6 6 6 6 6\n",
            "  6 6 6 6 6 6 6 6 6 6 6 6 6 6 6 6 6 6 6 6 6 6 6 6 6 6 6 6 6 6 6 6]]\n"
          ],
          "name": "stdout"
        }
      ]
    },
    {
      "cell_type": "code",
      "metadata": {
        "id": "Bq_XE7hR_RcO",
        "colab": {
          "base_uri": "https://localhost:8080/",
          "height": 357
        },
        "outputId": "79c50cb8-9871-4283-87bd-a040a752e7e4"
      },
      "source": [
        "print(y_test.T)\n",
        "c0=0\n",
        "c1=0\n",
        "c2=0\n",
        "c3=0\n",
        "c4=0\n",
        "c5=0\n",
        "c6=0\n",
        "c7=0\n",
        "c8=0\n",
        "c9=0\n",
        "for i in range(len(y_test)):\n",
        "  if y_test[i]==0:\n",
        "    c0=c0+1\n",
        "  if y_test[i]==1:\n",
        "    c1=c1+1\n",
        "  if y_test[i]==2:\n",
        "    c2=c2+1\n",
        "  if y_test[i]==3:\n",
        "    c3=c3+1\n",
        "  if y_test[i]==4:\n",
        "    c4=c4+1\n",
        "  if y_test[i]==5:\n",
        "    c5=c5+1\n",
        "  if y_test[i]==6:\n",
        "    c6=c6+1\n",
        "  if y_test[i]==7:\n",
        "    c7=c7+1\n",
        "  if y_test[i]==8:\n",
        "    c8=c8+1\n",
        "\n",
        "print('Distribution of labels in test set')\n",
        "print('No. of 0 labels=',c0)\n",
        "print('No. of 1 labels=',c1)\n",
        "print('No. of 2 labels=',c2)\n",
        "print('No. of 3 labels=',c3)\n",
        "print('No. of 4 labels=',c4)\n",
        "print('No. of 5 labels=',c5)\n",
        "print('No. of 6 labels=',c6)\n",
        "print('No. of 7 labels=',c7)\n",
        "print('No. of 8 labels=',c8)\n"
      ],
      "execution_count": null,
      "outputs": [
        {
          "output_type": "stream",
          "text": [
            "[[6 3 4 3 2 2 6 8 6 6 6 2 0 4 6 6 4 3 6 7 6 2 7 2 6 6 0 2 6 3 2 2 0 3 2 5\n",
            "  4 4 5 3 4 8 3 5 2 6 2 6 4 6 6 5 2 1 5 6 0 3 2 6 6 5 7 6 0 3 6 4 1 4 8 6\n",
            "  2 3 3 6 4 4 0 2 5 5 3 6 7 4 4 6 6 0 2 6 0 6 2 5 6 6 7 0 6 3 4 4 6 6 2 6\n",
            "  8 3 4 8 7 6 2 7 6 1 8 4 6 8 6 1 6 7 2 6 8 6 2 4 6 6 2 6 4 6 0 5 6 6 2 6\n",
            "  0 2 6 5 7 4 2 8 2 2 5 6 4 6 0 6 2 3 0 6 5 2 6 6 0 2 7 4 3 7 2 6 2 3 1 6\n",
            "  3 7 7 5 4 0 6 7 6 6 6 2 5 4 6 6 6 2 6 6 7 2 3 6 6 8 6 3 6 6 6 3 4 2 3 4\n",
            "  4 2 7 2 2 3 4 3 3 4 0 3 5 5 6 3 0 2 3 1 4 5 6 2 6 4 6 6 6 3 6 2 2 1 2 3\n",
            "  7 6 0 6 0 4 6 8 2 4 1 2 0 4 6 7 7 4 6 6 2 5 6 2 2 4 6 5 8 4 6 2 5 6 3 0\n",
            "  5 2 5 1 2 2 1 6 3 6 7 3 2 5 6 4 1 6 8 8 2 8 0 8 0 6 6 5 5 5 4 7 4 4 3 6\n",
            "  1 6 0 3 5 6]]\n",
            "Distribution of labels in test set\n",
            "No. of 0 labels= 24\n",
            "No. of 1 labels= 12\n",
            "No. of 2 labels= 55\n",
            "No. of 3 labels= 35\n",
            "No. of 4 labels= 41\n",
            "No. of 5 labels= 28\n",
            "No. of 6 labels= 98\n",
            "No. of 7 labels= 21\n",
            "No. of 8 labels= 16\n"
          ],
          "name": "stdout"
        }
      ]
    },
    {
      "cell_type": "code",
      "metadata": {
        "id": "krm9ICcP_K1D"
      },
      "source": [
        "import tensorflow as tf\n",
        "from tensorflow import keras\n",
        "from tensorflow.keras import layers"
      ],
      "execution_count": null,
      "outputs": []
    },
    {
      "cell_type": "code",
      "metadata": {
        "id": "olL2DzUb-35Q",
        "colab": {
          "base_uri": "https://localhost:8080/",
          "height": 289
        },
        "outputId": "a6956e39-0875-40c6-d7e2-b952d2d97d2c"
      },
      "source": [
        "model = tf.keras.Sequential()\n",
        "model.add(tf.keras.Input(shape=(128,)))\n",
        "model.add(layers.Dense(25, activation=\"relu\"))\n",
        "model.add(layers.Dense(15, activation=\"relu\"))\n",
        "model.add(layers.Dense(10, activation=\"relu\"))\n",
        "model.add(layers.Dense(9, activation=\"softmax\"))\n",
        "\n",
        "model.summary()"
      ],
      "execution_count": null,
      "outputs": [
        {
          "output_type": "stream",
          "text": [
            "Model: \"sequential\"\n",
            "_________________________________________________________________\n",
            "Layer (type)                 Output Shape              Param #   \n",
            "=================================================================\n",
            "dense (Dense)                (None, 25)                3225      \n",
            "_________________________________________________________________\n",
            "dense_1 (Dense)              (None, 15)                390       \n",
            "_________________________________________________________________\n",
            "dense_2 (Dense)              (None, 10)                160       \n",
            "_________________________________________________________________\n",
            "dense_3 (Dense)              (None, 9)                 99        \n",
            "=================================================================\n",
            "Total params: 3,874\n",
            "Trainable params: 3,874\n",
            "Non-trainable params: 0\n",
            "_________________________________________________________________\n"
          ],
          "name": "stdout"
        }
      ]
    },
    {
      "cell_type": "code",
      "metadata": {
        "id": "ryPSUSkcI6wP"
      },
      "source": [
        "model.compile(\n",
        "    optimizer='rmsprop',  # Optimizer\n",
        "    # Loss function to minimize\n",
        "    loss='sparse_categorical_crossentropy',\n",
        "    # List of metrics to monitor\n",
        "    metrics=['sparse_categorical_accuracy'],\n",
        ")"
      ],
      "execution_count": null,
      "outputs": []
    },
    {
      "cell_type": "code",
      "metadata": {
        "id": "cS2Kc30_LrSi",
        "colab": {
          "base_uri": "https://localhost:8080/",
          "height": 1000
        },
        "outputId": "dff87b4d-85c1-4e31-be1d-d6c2874ea0b9"
      },
      "source": [
        "print(\"Fit model on training data\")\n",
        "history = model.fit(\n",
        "    x_train,\n",
        "    y_train,\n",
        "    batch_size=64,\n",
        "    epochs=200\n",
        "    # We pass some validation for\n",
        "    # monitoring validation loss and metrics\n",
        "    # at the end of each epoch\n",
        ")\n",
        "# list all data in history\n",
        "print(history.history.keys())\n",
        "\n",
        "# summarize history for accuracy\n",
        "plt.plot(history.history['sparse_categorical_accuracy'])\n",
        "plt.title('model accuracy')\n",
        "plt.ylabel('accuracy')\n",
        "plt.xlabel('epoch')\n",
        "plt.legend(['train'], loc='upper left')\n",
        "plt.show()\n",
        "# summarize history for loss\n",
        "plt.plot(history.history['loss'])\n",
        "plt.title('model loss')\n",
        "plt.ylabel('loss')\n",
        "plt.xlabel('epoch')\n",
        "plt.legend(['train'], loc='upper left')\n",
        "plt.show()"
      ],
      "execution_count": null,
      "outputs": [
        {
          "output_type": "stream",
          "text": [
            "Fit model on training data\n",
            "Epoch 1/200\n",
            "8/8 [==============================] - 0s 2ms/step - loss: 2.1727 - sparse_categorical_accuracy: 0.2834\n",
            "Epoch 2/200\n",
            "8/8 [==============================] - 0s 2ms/step - loss: 2.1223 - sparse_categorical_accuracy: 0.3300\n",
            "Epoch 3/200\n",
            "8/8 [==============================] - 0s 2ms/step - loss: 2.0737 - sparse_categorical_accuracy: 0.3178\n",
            "Epoch 4/200\n",
            "8/8 [==============================] - 0s 2ms/step - loss: 2.0237 - sparse_categorical_accuracy: 0.3178\n",
            "Epoch 5/200\n",
            "8/8 [==============================] - 0s 2ms/step - loss: 1.9721 - sparse_categorical_accuracy: 0.3178\n",
            "Epoch 6/200\n",
            "8/8 [==============================] - 0s 2ms/step - loss: 1.9188 - sparse_categorical_accuracy: 0.3178\n",
            "Epoch 7/200\n",
            "8/8 [==============================] - 0s 2ms/step - loss: 1.8685 - sparse_categorical_accuracy: 0.3178\n",
            "Epoch 8/200\n",
            "8/8 [==============================] - 0s 2ms/step - loss: 1.8208 - sparse_categorical_accuracy: 0.3178\n",
            "Epoch 9/200\n",
            "8/8 [==============================] - 0s 2ms/step - loss: 1.7741 - sparse_categorical_accuracy: 0.3198\n",
            "Epoch 10/200\n",
            "8/8 [==============================] - 0s 2ms/step - loss: 1.7285 - sparse_categorical_accuracy: 0.3219\n",
            "Epoch 11/200\n",
            "8/8 [==============================] - 0s 2ms/step - loss: 1.6834 - sparse_categorical_accuracy: 0.3279\n",
            "Epoch 12/200\n",
            "8/8 [==============================] - 0s 2ms/step - loss: 1.6386 - sparse_categorical_accuracy: 0.3583\n",
            "Epoch 13/200\n",
            "8/8 [==============================] - 0s 2ms/step - loss: 1.5959 - sparse_categorical_accuracy: 0.3745\n",
            "Epoch 14/200\n",
            "8/8 [==============================] - 0s 2ms/step - loss: 1.5521 - sparse_categorical_accuracy: 0.3765\n",
            "Epoch 15/200\n",
            "8/8 [==============================] - 0s 2ms/step - loss: 1.5134 - sparse_categorical_accuracy: 0.3947\n",
            "Epoch 16/200\n",
            "8/8 [==============================] - 0s 2ms/step - loss: 1.4740 - sparse_categorical_accuracy: 0.4170\n",
            "Epoch 17/200\n",
            "8/8 [==============================] - 0s 2ms/step - loss: 1.4275 - sparse_categorical_accuracy: 0.4737\n",
            "Epoch 18/200\n",
            "8/8 [==============================] - 0s 2ms/step - loss: 1.3836 - sparse_categorical_accuracy: 0.4818\n",
            "Epoch 19/200\n",
            "8/8 [==============================] - 0s 2ms/step - loss: 1.3457 - sparse_categorical_accuracy: 0.4879\n",
            "Epoch 20/200\n",
            "8/8 [==============================] - 0s 3ms/step - loss: 1.3084 - sparse_categorical_accuracy: 0.4899\n",
            "Epoch 21/200\n",
            "8/8 [==============================] - 0s 3ms/step - loss: 1.2749 - sparse_categorical_accuracy: 0.4960\n",
            "Epoch 22/200\n",
            "8/8 [==============================] - 0s 2ms/step - loss: 1.2407 - sparse_categorical_accuracy: 0.5202\n",
            "Epoch 23/200\n",
            "8/8 [==============================] - 0s 2ms/step - loss: 1.2097 - sparse_categorical_accuracy: 0.5506\n",
            "Epoch 24/200\n",
            "8/8 [==============================] - 0s 2ms/step - loss: 1.1770 - sparse_categorical_accuracy: 0.6154\n",
            "Epoch 25/200\n",
            "8/8 [==============================] - 0s 2ms/step - loss: 1.1491 - sparse_categorical_accuracy: 0.6215\n",
            "Epoch 26/200\n",
            "8/8 [==============================] - 0s 2ms/step - loss: 1.1156 - sparse_categorical_accuracy: 0.6498\n",
            "Epoch 27/200\n",
            "8/8 [==============================] - 0s 2ms/step - loss: 1.0873 - sparse_categorical_accuracy: 0.6640\n",
            "Epoch 28/200\n",
            "8/8 [==============================] - 0s 2ms/step - loss: 1.0541 - sparse_categorical_accuracy: 0.6903\n",
            "Epoch 29/200\n",
            "8/8 [==============================] - 0s 2ms/step - loss: 1.0213 - sparse_categorical_accuracy: 0.6964\n",
            "Epoch 30/200\n",
            "8/8 [==============================] - 0s 2ms/step - loss: 0.9917 - sparse_categorical_accuracy: 0.7045\n",
            "Epoch 31/200\n",
            "8/8 [==============================] - 0s 2ms/step - loss: 0.9615 - sparse_categorical_accuracy: 0.7328\n",
            "Epoch 32/200\n",
            "8/8 [==============================] - 0s 2ms/step - loss: 0.9335 - sparse_categorical_accuracy: 0.7348\n",
            "Epoch 33/200\n",
            "8/8 [==============================] - 0s 2ms/step - loss: 0.9035 - sparse_categorical_accuracy: 0.7510\n",
            "Epoch 34/200\n",
            "8/8 [==============================] - 0s 2ms/step - loss: 0.8793 - sparse_categorical_accuracy: 0.7530\n",
            "Epoch 35/200\n",
            "8/8 [==============================] - 0s 2ms/step - loss: 0.8513 - sparse_categorical_accuracy: 0.7713\n",
            "Epoch 36/200\n",
            "8/8 [==============================] - 0s 2ms/step - loss: 0.8264 - sparse_categorical_accuracy: 0.7794\n",
            "Epoch 37/200\n",
            "8/8 [==============================] - 0s 2ms/step - loss: 0.8034 - sparse_categorical_accuracy: 0.7672\n",
            "Epoch 38/200\n",
            "8/8 [==============================] - 0s 2ms/step - loss: 0.7782 - sparse_categorical_accuracy: 0.7773\n",
            "Epoch 39/200\n",
            "8/8 [==============================] - 0s 2ms/step - loss: 0.7543 - sparse_categorical_accuracy: 0.7773\n",
            "Epoch 40/200\n",
            "8/8 [==============================] - 0s 2ms/step - loss: 0.7322 - sparse_categorical_accuracy: 0.7915\n",
            "Epoch 41/200\n",
            "8/8 [==============================] - 0s 2ms/step - loss: 0.7107 - sparse_categorical_accuracy: 0.7976\n",
            "Epoch 42/200\n",
            "8/8 [==============================] - 0s 2ms/step - loss: 0.6892 - sparse_categorical_accuracy: 0.8036\n",
            "Epoch 43/200\n",
            "8/8 [==============================] - 0s 2ms/step - loss: 0.6690 - sparse_categorical_accuracy: 0.8239\n",
            "Epoch 44/200\n",
            "8/8 [==============================] - 0s 2ms/step - loss: 0.6508 - sparse_categorical_accuracy: 0.8340\n",
            "Epoch 45/200\n",
            "8/8 [==============================] - 0s 2ms/step - loss: 0.6309 - sparse_categorical_accuracy: 0.8300\n",
            "Epoch 46/200\n",
            "8/8 [==============================] - 0s 2ms/step - loss: 0.6151 - sparse_categorical_accuracy: 0.8522\n",
            "Epoch 47/200\n",
            "8/8 [==============================] - 0s 2ms/step - loss: 0.5951 - sparse_categorical_accuracy: 0.8522\n",
            "Epoch 48/200\n",
            "8/8 [==============================] - 0s 2ms/step - loss: 0.5771 - sparse_categorical_accuracy: 0.8522\n",
            "Epoch 49/200\n",
            "8/8 [==============================] - 0s 2ms/step - loss: 0.5618 - sparse_categorical_accuracy: 0.8684\n",
            "Epoch 50/200\n",
            "8/8 [==============================] - 0s 2ms/step - loss: 0.5464 - sparse_categorical_accuracy: 0.8684\n",
            "Epoch 51/200\n",
            "8/8 [==============================] - 0s 2ms/step - loss: 0.5281 - sparse_categorical_accuracy: 0.8684\n",
            "Epoch 52/200\n",
            "8/8 [==============================] - 0s 2ms/step - loss: 0.5132 - sparse_categorical_accuracy: 0.8745\n",
            "Epoch 53/200\n",
            "8/8 [==============================] - 0s 2ms/step - loss: 0.4958 - sparse_categorical_accuracy: 0.8725\n",
            "Epoch 54/200\n",
            "8/8 [==============================] - 0s 2ms/step - loss: 0.4836 - sparse_categorical_accuracy: 0.8785\n",
            "Epoch 55/200\n",
            "8/8 [==============================] - 0s 2ms/step - loss: 0.4693 - sparse_categorical_accuracy: 0.8826\n",
            "Epoch 56/200\n",
            "8/8 [==============================] - 0s 2ms/step - loss: 0.4526 - sparse_categorical_accuracy: 0.8927\n",
            "Epoch 57/200\n",
            "8/8 [==============================] - 0s 2ms/step - loss: 0.4439 - sparse_categorical_accuracy: 0.8826\n",
            "Epoch 58/200\n",
            "8/8 [==============================] - 0s 2ms/step - loss: 0.4288 - sparse_categorical_accuracy: 0.8907\n",
            "Epoch 59/200\n",
            "8/8 [==============================] - 0s 2ms/step - loss: 0.4144 - sparse_categorical_accuracy: 0.8907\n",
            "Epoch 60/200\n",
            "8/8 [==============================] - 0s 2ms/step - loss: 0.4022 - sparse_categorical_accuracy: 0.8927\n",
            "Epoch 61/200\n",
            "8/8 [==============================] - 0s 2ms/step - loss: 0.3943 - sparse_categorical_accuracy: 0.8887\n",
            "Epoch 62/200\n",
            "8/8 [==============================] - 0s 2ms/step - loss: 0.3775 - sparse_categorical_accuracy: 0.8968\n",
            "Epoch 63/200\n",
            "8/8 [==============================] - 0s 2ms/step - loss: 0.3685 - sparse_categorical_accuracy: 0.8947\n",
            "Epoch 64/200\n",
            "8/8 [==============================] - 0s 2ms/step - loss: 0.3572 - sparse_categorical_accuracy: 0.8988\n",
            "Epoch 65/200\n",
            "8/8 [==============================] - 0s 2ms/step - loss: 0.3444 - sparse_categorical_accuracy: 0.9069\n",
            "Epoch 66/200\n",
            "8/8 [==============================] - 0s 2ms/step - loss: 0.3362 - sparse_categorical_accuracy: 0.9109\n",
            "Epoch 67/200\n",
            "8/8 [==============================] - 0s 2ms/step - loss: 0.3226 - sparse_categorical_accuracy: 0.9028\n",
            "Epoch 68/200\n",
            "8/8 [==============================] - 0s 2ms/step - loss: 0.3138 - sparse_categorical_accuracy: 0.9190\n",
            "Epoch 69/200\n",
            "8/8 [==============================] - 0s 2ms/step - loss: 0.3029 - sparse_categorical_accuracy: 0.9190\n",
            "Epoch 70/200\n",
            "8/8 [==============================] - 0s 2ms/step - loss: 0.2951 - sparse_categorical_accuracy: 0.9312\n",
            "Epoch 71/200\n",
            "8/8 [==============================] - 0s 2ms/step - loss: 0.2878 - sparse_categorical_accuracy: 0.9271\n",
            "Epoch 72/200\n",
            "8/8 [==============================] - 0s 2ms/step - loss: 0.2760 - sparse_categorical_accuracy: 0.9211\n",
            "Epoch 73/200\n",
            "8/8 [==============================] - 0s 2ms/step - loss: 0.2668 - sparse_categorical_accuracy: 0.9352\n",
            "Epoch 74/200\n",
            "8/8 [==============================] - 0s 2ms/step - loss: 0.2577 - sparse_categorical_accuracy: 0.9372\n",
            "Epoch 75/200\n",
            "8/8 [==============================] - 0s 2ms/step - loss: 0.2526 - sparse_categorical_accuracy: 0.9433\n",
            "Epoch 76/200\n",
            "8/8 [==============================] - 0s 2ms/step - loss: 0.2410 - sparse_categorical_accuracy: 0.9494\n",
            "Epoch 77/200\n",
            "8/8 [==============================] - 0s 2ms/step - loss: 0.2352 - sparse_categorical_accuracy: 0.9453\n",
            "Epoch 78/200\n",
            "8/8 [==============================] - 0s 2ms/step - loss: 0.2262 - sparse_categorical_accuracy: 0.9494\n",
            "Epoch 79/200\n",
            "8/8 [==============================] - 0s 2ms/step - loss: 0.2174 - sparse_categorical_accuracy: 0.9534\n",
            "Epoch 80/200\n",
            "8/8 [==============================] - 0s 2ms/step - loss: 0.2176 - sparse_categorical_accuracy: 0.9595\n",
            "Epoch 81/200\n",
            "8/8 [==============================] - 0s 2ms/step - loss: 0.2026 - sparse_categorical_accuracy: 0.9636\n",
            "Epoch 82/200\n",
            "8/8 [==============================] - 0s 2ms/step - loss: 0.1970 - sparse_categorical_accuracy: 0.9615\n",
            "Epoch 83/200\n",
            "8/8 [==============================] - 0s 2ms/step - loss: 0.1921 - sparse_categorical_accuracy: 0.9636\n",
            "Epoch 84/200\n",
            "8/8 [==============================] - 0s 3ms/step - loss: 0.1852 - sparse_categorical_accuracy: 0.9696\n",
            "Epoch 85/200\n",
            "8/8 [==============================] - 0s 2ms/step - loss: 0.1797 - sparse_categorical_accuracy: 0.9636\n",
            "Epoch 86/200\n",
            "8/8 [==============================] - 0s 2ms/step - loss: 0.1740 - sparse_categorical_accuracy: 0.9696\n",
            "Epoch 87/200\n",
            "8/8 [==============================] - 0s 2ms/step - loss: 0.1690 - sparse_categorical_accuracy: 0.9777\n",
            "Epoch 88/200\n",
            "8/8 [==============================] - 0s 2ms/step - loss: 0.1628 - sparse_categorical_accuracy: 0.9757\n",
            "Epoch 89/200\n",
            "8/8 [==============================] - 0s 3ms/step - loss: 0.1584 - sparse_categorical_accuracy: 0.9757\n",
            "Epoch 90/200\n",
            "8/8 [==============================] - 0s 2ms/step - loss: 0.1530 - sparse_categorical_accuracy: 0.9737\n",
            "Epoch 91/200\n",
            "8/8 [==============================] - 0s 2ms/step - loss: 0.1539 - sparse_categorical_accuracy: 0.9757\n",
            "Epoch 92/200\n",
            "8/8 [==============================] - 0s 2ms/step - loss: 0.1412 - sparse_categorical_accuracy: 0.9757\n",
            "Epoch 93/200\n",
            "8/8 [==============================] - 0s 2ms/step - loss: 0.1373 - sparse_categorical_accuracy: 0.9838\n",
            "Epoch 94/200\n",
            "8/8 [==============================] - 0s 2ms/step - loss: 0.1347 - sparse_categorical_accuracy: 0.9777\n",
            "Epoch 95/200\n",
            "8/8 [==============================] - 0s 2ms/step - loss: 0.1326 - sparse_categorical_accuracy: 0.9798\n",
            "Epoch 96/200\n",
            "8/8 [==============================] - 0s 2ms/step - loss: 0.1274 - sparse_categorical_accuracy: 0.9838\n",
            "Epoch 97/200\n",
            "8/8 [==============================] - 0s 2ms/step - loss: 0.1211 - sparse_categorical_accuracy: 0.9818\n",
            "Epoch 98/200\n",
            "8/8 [==============================] - 0s 2ms/step - loss: 0.1178 - sparse_categorical_accuracy: 0.9798\n",
            "Epoch 99/200\n",
            "8/8 [==============================] - 0s 2ms/step - loss: 0.1165 - sparse_categorical_accuracy: 0.9818\n",
            "Epoch 100/200\n",
            "8/8 [==============================] - 0s 2ms/step - loss: 0.1114 - sparse_categorical_accuracy: 0.9838\n",
            "Epoch 101/200\n",
            "8/8 [==============================] - 0s 2ms/step - loss: 0.1067 - sparse_categorical_accuracy: 0.9838\n",
            "Epoch 102/200\n",
            "8/8 [==============================] - 0s 2ms/step - loss: 0.1061 - sparse_categorical_accuracy: 0.9798\n",
            "Epoch 103/200\n",
            "8/8 [==============================] - 0s 2ms/step - loss: 0.1038 - sparse_categorical_accuracy: 0.9798\n",
            "Epoch 104/200\n",
            "8/8 [==============================] - 0s 2ms/step - loss: 0.0970 - sparse_categorical_accuracy: 0.9858\n",
            "Epoch 105/200\n",
            "8/8 [==============================] - 0s 2ms/step - loss: 0.0941 - sparse_categorical_accuracy: 0.9858\n",
            "Epoch 106/200\n",
            "8/8 [==============================] - 0s 2ms/step - loss: 0.0954 - sparse_categorical_accuracy: 0.9798\n",
            "Epoch 107/200\n",
            "8/8 [==============================] - 0s 2ms/step - loss: 0.0917 - sparse_categorical_accuracy: 0.9838\n",
            "Epoch 108/200\n",
            "8/8 [==============================] - 0s 2ms/step - loss: 0.0902 - sparse_categorical_accuracy: 0.9838\n",
            "Epoch 109/200\n",
            "8/8 [==============================] - 0s 2ms/step - loss: 0.0863 - sparse_categorical_accuracy: 0.9899\n",
            "Epoch 110/200\n",
            "8/8 [==============================] - 0s 2ms/step - loss: 0.0847 - sparse_categorical_accuracy: 0.9858\n",
            "Epoch 111/200\n",
            "8/8 [==============================] - 0s 2ms/step - loss: 0.0811 - sparse_categorical_accuracy: 0.9838\n",
            "Epoch 112/200\n",
            "8/8 [==============================] - 0s 2ms/step - loss: 0.0793 - sparse_categorical_accuracy: 0.9838\n",
            "Epoch 113/200\n",
            "8/8 [==============================] - 0s 2ms/step - loss: 0.0789 - sparse_categorical_accuracy: 0.9879\n",
            "Epoch 114/200\n",
            "8/8 [==============================] - 0s 2ms/step - loss: 0.0732 - sparse_categorical_accuracy: 0.9858\n",
            "Epoch 115/200\n",
            "8/8 [==============================] - 0s 2ms/step - loss: 0.0698 - sparse_categorical_accuracy: 0.9919\n",
            "Epoch 116/200\n",
            "8/8 [==============================] - 0s 2ms/step - loss: 0.0702 - sparse_categorical_accuracy: 0.9899\n",
            "Epoch 117/200\n",
            "8/8 [==============================] - 0s 2ms/step - loss: 0.0688 - sparse_categorical_accuracy: 0.9899\n",
            "Epoch 118/200\n",
            "8/8 [==============================] - 0s 2ms/step - loss: 0.0679 - sparse_categorical_accuracy: 0.9919\n",
            "Epoch 119/200\n",
            "8/8 [==============================] - 0s 2ms/step - loss: 0.0640 - sparse_categorical_accuracy: 0.9899\n",
            "Epoch 120/200\n",
            "8/8 [==============================] - 0s 2ms/step - loss: 0.0619 - sparse_categorical_accuracy: 0.9939\n",
            "Epoch 121/200\n",
            "8/8 [==============================] - 0s 2ms/step - loss: 0.0616 - sparse_categorical_accuracy: 0.9879\n",
            "Epoch 122/200\n",
            "8/8 [==============================] - 0s 2ms/step - loss: 0.0585 - sparse_categorical_accuracy: 0.9919\n",
            "Epoch 123/200\n",
            "8/8 [==============================] - 0s 2ms/step - loss: 0.0571 - sparse_categorical_accuracy: 0.9879\n",
            "Epoch 124/200\n",
            "8/8 [==============================] - 0s 2ms/step - loss: 0.0552 - sparse_categorical_accuracy: 0.9919\n",
            "Epoch 125/200\n",
            "8/8 [==============================] - 0s 2ms/step - loss: 0.0541 - sparse_categorical_accuracy: 0.9858\n",
            "Epoch 126/200\n",
            "8/8 [==============================] - 0s 2ms/step - loss: 0.0522 - sparse_categorical_accuracy: 0.9899\n",
            "Epoch 127/200\n",
            "8/8 [==============================] - 0s 2ms/step - loss: 0.0503 - sparse_categorical_accuracy: 0.9919\n",
            "Epoch 128/200\n",
            "8/8 [==============================] - 0s 2ms/step - loss: 0.0497 - sparse_categorical_accuracy: 0.9919\n",
            "Epoch 129/200\n",
            "8/8 [==============================] - 0s 2ms/step - loss: 0.0478 - sparse_categorical_accuracy: 0.9939\n",
            "Epoch 130/200\n",
            "8/8 [==============================] - 0s 2ms/step - loss: 0.0429 - sparse_categorical_accuracy: 0.9960\n",
            "Epoch 131/200\n",
            "8/8 [==============================] - 0s 3ms/step - loss: 0.0462 - sparse_categorical_accuracy: 0.9960\n",
            "Epoch 132/200\n",
            "8/8 [==============================] - 0s 2ms/step - loss: 0.0435 - sparse_categorical_accuracy: 0.9960\n",
            "Epoch 133/200\n",
            "8/8 [==============================] - 0s 2ms/step - loss: 0.0425 - sparse_categorical_accuracy: 0.9939\n",
            "Epoch 134/200\n",
            "8/8 [==============================] - 0s 2ms/step - loss: 0.0462 - sparse_categorical_accuracy: 0.9899\n",
            "Epoch 135/200\n",
            "8/8 [==============================] - 0s 2ms/step - loss: 0.0410 - sparse_categorical_accuracy: 0.9939\n",
            "Epoch 136/200\n",
            "8/8 [==============================] - 0s 2ms/step - loss: 0.0392 - sparse_categorical_accuracy: 0.9939\n",
            "Epoch 137/200\n",
            "8/8 [==============================] - 0s 2ms/step - loss: 0.0389 - sparse_categorical_accuracy: 0.9960\n",
            "Epoch 138/200\n",
            "8/8 [==============================] - 0s 2ms/step - loss: 0.0384 - sparse_categorical_accuracy: 0.9939\n",
            "Epoch 139/200\n",
            "8/8 [==============================] - 0s 2ms/step - loss: 0.0382 - sparse_categorical_accuracy: 0.9919\n",
            "Epoch 140/200\n",
            "8/8 [==============================] - 0s 2ms/step - loss: 0.0353 - sparse_categorical_accuracy: 0.9919\n",
            "Epoch 141/200\n",
            "8/8 [==============================] - 0s 2ms/step - loss: 0.0337 - sparse_categorical_accuracy: 0.9960\n",
            "Epoch 142/200\n",
            "8/8 [==============================] - 0s 2ms/step - loss: 0.0366 - sparse_categorical_accuracy: 0.9919\n",
            "Epoch 143/200\n",
            "8/8 [==============================] - 0s 2ms/step - loss: 0.0342 - sparse_categorical_accuracy: 0.9960\n",
            "Epoch 144/200\n",
            "8/8 [==============================] - 0s 2ms/step - loss: 0.0321 - sparse_categorical_accuracy: 0.9960\n",
            "Epoch 145/200\n",
            "8/8 [==============================] - 0s 2ms/step - loss: 0.0310 - sparse_categorical_accuracy: 0.9960\n",
            "Epoch 146/200\n",
            "8/8 [==============================] - 0s 2ms/step - loss: 0.0300 - sparse_categorical_accuracy: 0.9980\n",
            "Epoch 147/200\n",
            "8/8 [==============================] - 0s 2ms/step - loss: 0.0330 - sparse_categorical_accuracy: 0.9960\n",
            "Epoch 148/200\n",
            "8/8 [==============================] - 0s 2ms/step - loss: 0.0294 - sparse_categorical_accuracy: 0.9939\n",
            "Epoch 149/200\n",
            "8/8 [==============================] - 0s 2ms/step - loss: 0.0280 - sparse_categorical_accuracy: 0.9980\n",
            "Epoch 150/200\n",
            "8/8 [==============================] - 0s 2ms/step - loss: 0.0302 - sparse_categorical_accuracy: 0.9960\n",
            "Epoch 151/200\n",
            "8/8 [==============================] - 0s 2ms/step - loss: 0.0271 - sparse_categorical_accuracy: 0.9960\n",
            "Epoch 152/200\n",
            "8/8 [==============================] - 0s 2ms/step - loss: 0.0265 - sparse_categorical_accuracy: 0.9960\n",
            "Epoch 153/200\n",
            "8/8 [==============================] - 0s 2ms/step - loss: 0.0268 - sparse_categorical_accuracy: 0.9960\n",
            "Epoch 154/200\n",
            "8/8 [==============================] - 0s 2ms/step - loss: 0.0260 - sparse_categorical_accuracy: 0.9939\n",
            "Epoch 155/200\n",
            "8/8 [==============================] - 0s 2ms/step - loss: 0.0251 - sparse_categorical_accuracy: 0.9960\n",
            "Epoch 156/200\n",
            "8/8 [==============================] - 0s 2ms/step - loss: 0.0245 - sparse_categorical_accuracy: 0.9960\n",
            "Epoch 157/200\n",
            "8/8 [==============================] - 0s 1ms/step - loss: 0.0216 - sparse_categorical_accuracy: 0.9980\n",
            "Epoch 158/200\n",
            "8/8 [==============================] - 0s 2ms/step - loss: 0.0213 - sparse_categorical_accuracy: 0.9980\n",
            "Epoch 159/200\n",
            "8/8 [==============================] - 0s 3ms/step - loss: 0.0213 - sparse_categorical_accuracy: 0.9980\n",
            "Epoch 160/200\n",
            "8/8 [==============================] - 0s 2ms/step - loss: 0.0220 - sparse_categorical_accuracy: 0.9960\n",
            "Epoch 161/200\n",
            "8/8 [==============================] - 0s 2ms/step - loss: 0.0203 - sparse_categorical_accuracy: 0.9980\n",
            "Epoch 162/200\n",
            "8/8 [==============================] - 0s 2ms/step - loss: 0.0219 - sparse_categorical_accuracy: 0.9980\n",
            "Epoch 163/200\n",
            "8/8 [==============================] - 0s 3ms/step - loss: 0.0193 - sparse_categorical_accuracy: 0.9980\n",
            "Epoch 164/200\n",
            "8/8 [==============================] - 0s 2ms/step - loss: 0.0196 - sparse_categorical_accuracy: 0.9960\n",
            "Epoch 165/200\n",
            "8/8 [==============================] - 0s 2ms/step - loss: 0.0189 - sparse_categorical_accuracy: 0.9960\n",
            "Epoch 166/200\n",
            "8/8 [==============================] - 0s 2ms/step - loss: 0.0172 - sparse_categorical_accuracy: 0.9980\n",
            "Epoch 167/200\n",
            "8/8 [==============================] - 0s 2ms/step - loss: 0.0173 - sparse_categorical_accuracy: 1.0000\n",
            "Epoch 168/200\n",
            "8/8 [==============================] - 0s 2ms/step - loss: 0.0184 - sparse_categorical_accuracy: 0.9960\n",
            "Epoch 169/200\n",
            "8/8 [==============================] - 0s 2ms/step - loss: 0.0170 - sparse_categorical_accuracy: 0.9980\n",
            "Epoch 170/200\n",
            "8/8 [==============================] - 0s 2ms/step - loss: 0.0157 - sparse_categorical_accuracy: 1.0000\n",
            "Epoch 171/200\n",
            "8/8 [==============================] - 0s 2ms/step - loss: 0.0150 - sparse_categorical_accuracy: 0.9980\n",
            "Epoch 172/200\n",
            "8/8 [==============================] - 0s 2ms/step - loss: 0.0161 - sparse_categorical_accuracy: 0.9980\n",
            "Epoch 173/200\n",
            "8/8 [==============================] - 0s 2ms/step - loss: 0.0144 - sparse_categorical_accuracy: 1.0000\n",
            "Epoch 174/200\n",
            "8/8 [==============================] - 0s 2ms/step - loss: 0.0143 - sparse_categorical_accuracy: 1.0000\n",
            "Epoch 175/200\n",
            "8/8 [==============================] - 0s 2ms/step - loss: 0.0148 - sparse_categorical_accuracy: 1.0000\n",
            "Epoch 176/200\n",
            "8/8 [==============================] - 0s 2ms/step - loss: 0.0127 - sparse_categorical_accuracy: 1.0000\n",
            "Epoch 177/200\n",
            "8/8 [==============================] - 0s 2ms/step - loss: 0.0128 - sparse_categorical_accuracy: 1.0000\n",
            "Epoch 178/200\n",
            "8/8 [==============================] - 0s 3ms/step - loss: 0.0130 - sparse_categorical_accuracy: 1.0000\n",
            "Epoch 179/200\n",
            "8/8 [==============================] - 0s 2ms/step - loss: 0.0121 - sparse_categorical_accuracy: 1.0000\n",
            "Epoch 180/200\n",
            "8/8 [==============================] - 0s 2ms/step - loss: 0.0128 - sparse_categorical_accuracy: 1.0000\n",
            "Epoch 181/200\n",
            "8/8 [==============================] - 0s 2ms/step - loss: 0.0111 - sparse_categorical_accuracy: 1.0000\n",
            "Epoch 182/200\n",
            "8/8 [==============================] - 0s 2ms/step - loss: 0.0119 - sparse_categorical_accuracy: 1.0000\n",
            "Epoch 183/200\n",
            "8/8 [==============================] - 0s 2ms/step - loss: 0.0107 - sparse_categorical_accuracy: 1.0000\n",
            "Epoch 184/200\n",
            "8/8 [==============================] - 0s 2ms/step - loss: 0.0102 - sparse_categorical_accuracy: 1.0000\n",
            "Epoch 185/200\n",
            "8/8 [==============================] - 0s 2ms/step - loss: 0.0093 - sparse_categorical_accuracy: 1.0000\n",
            "Epoch 186/200\n",
            "8/8 [==============================] - 0s 2ms/step - loss: 0.0101 - sparse_categorical_accuracy: 1.0000\n",
            "Epoch 187/200\n",
            "8/8 [==============================] - 0s 2ms/step - loss: 0.0095 - sparse_categorical_accuracy: 1.0000\n",
            "Epoch 188/200\n",
            "8/8 [==============================] - 0s 3ms/step - loss: 0.0092 - sparse_categorical_accuracy: 1.0000\n",
            "Epoch 189/200\n",
            "8/8 [==============================] - 0s 2ms/step - loss: 0.0089 - sparse_categorical_accuracy: 1.0000\n",
            "Epoch 190/200\n",
            "8/8 [==============================] - 0s 2ms/step - loss: 0.0089 - sparse_categorical_accuracy: 1.0000\n",
            "Epoch 191/200\n",
            "8/8 [==============================] - 0s 2ms/step - loss: 0.0079 - sparse_categorical_accuracy: 1.0000\n",
            "Epoch 192/200\n",
            "8/8 [==============================] - 0s 2ms/step - loss: 0.0075 - sparse_categorical_accuracy: 1.0000\n",
            "Epoch 193/200\n",
            "8/8 [==============================] - 0s 2ms/step - loss: 0.0072 - sparse_categorical_accuracy: 1.0000\n",
            "Epoch 194/200\n",
            "8/8 [==============================] - 0s 2ms/step - loss: 0.0072 - sparse_categorical_accuracy: 1.0000\n",
            "Epoch 195/200\n",
            "8/8 [==============================] - 0s 2ms/step - loss: 0.0063 - sparse_categorical_accuracy: 1.0000\n",
            "Epoch 196/200\n",
            "8/8 [==============================] - 0s 2ms/step - loss: 0.0066 - sparse_categorical_accuracy: 1.0000\n",
            "Epoch 197/200\n",
            "8/8 [==============================] - 0s 2ms/step - loss: 0.0070 - sparse_categorical_accuracy: 1.0000\n",
            "Epoch 198/200\n",
            "8/8 [==============================] - 0s 2ms/step - loss: 0.0056 - sparse_categorical_accuracy: 1.0000\n",
            "Epoch 199/200\n",
            "8/8 [==============================] - 0s 2ms/step - loss: 0.0063 - sparse_categorical_accuracy: 1.0000\n",
            "Epoch 200/200\n",
            "8/8 [==============================] - 0s 2ms/step - loss: 0.0051 - sparse_categorical_accuracy: 1.0000\n",
            "dict_keys(['loss', 'sparse_categorical_accuracy'])\n"
          ],
          "name": "stdout"
        },
        {
          "output_type": "display_data",
          "data": {
            "image/png": "[encoded data removed]",
            "text/plain": [
              "<Figure size 432x288 with 1 Axes>"
            ]
          },
          "metadata": {
            "tags": [],
            "needs_background": "light"
          }
        },
        {
          "output_type": "display_data",
          "data": {
            "image/png": "[encoded data removed]",
            "text/plain": [
              "<Figure size 432x288 with 1 Axes>"
            ]
          },
          "metadata": {
            "tags": [],
            "needs_background": "light"
          }
        }
      ]
    },
    {
      "cell_type": "code",
      "metadata": {
        "id": "76JZF1u-PA3k",
        "colab": {
          "base_uri": "https://localhost:8080/",
          "height": 102
        },
        "outputId": "bbcd6be7-8cc8-4e53-cb6b-9289b4e12de9"
      },
      "source": [
        "print(\"Evaluate on test data\")\n",
        "results = model.evaluate(x_test, y_test, batch_size=128)\n",
        "print(\"test loss, test acc:\", results)\n",
        "\n",
        "# Generate predictions (probabilities -- the output of the last layer)\n",
        "# on new data using `predict`\n",
        "print(\"Generate predictions for 3 samples\")\n",
        "predictions = model.predict(x_test)\n",
        "print(\"predictions shape:\", predictions.shape)"
      ],
      "execution_count": null,
      "outputs": [
        {
          "output_type": "stream",
          "text": [
            "Evaluate on test data\n",
            "3/3 [==============================] - 0s 2ms/step - loss: 0.0524 - sparse_categorical_accuracy: 0.9758\n",
            "test loss, test acc: [0.052381955087184906, 0.9757575988769531]\n",
            "Generate predictions for 3 samples\n",
            "predictions shape: (330, 9)\n"
          ],
          "name": "stdout"
        }
      ]
    },
    {
      "cell_type": "code",
      "metadata": {
        "id": "iK8ozvHg7S_8",
        "colab": {
          "base_uri": "https://localhost:8080/",
          "height": 408
        },
        "outputId": "f87c8691-bffb-418b-c9ec-327eb00321f7"
      },
      "source": [
        "y_pred=np.zeros((len(x_test),),dtype=int)\n",
        "\n",
        "print(y_pred.shape)\n",
        "for i in range(len(x_test)):\n",
        "  prediction=model.predict(x_test[i:i+1])\n",
        "  y_pred[i]= np.where(prediction == np.max(prediction[0,:]))[1][0]\n",
        "print(y_pred)\n",
        "print(predictions)"
      ],
      "execution_count": null,
      "outputs": [
        {
          "output_type": "stream",
          "text": [
            "(330,)\n",
            "[6 3 4 3 2 2 6 8 6 6 6 2 0 4 6 6 4 3 6 7 6 2 7 2 6 6 0 2 6 3 2 2 0 3 2 5 4\n",
            " 4 5 3 4 8 3 5 2 6 2 6 4 6 6 5 2 1 5 6 0 3 2 6 6 5 7 6 6 3 6 4 1 4 8 6 2 3\n",
            " 3 6 4 4 0 2 5 5 3 6 7 4 4 6 6 0 2 6 0 6 2 5 6 6 7 0 6 3 4 4 6 6 2 6 8 3 4\n",
            " 8 7 6 2 7 6 1 8 4 6 8 6 1 6 1 2 6 8 6 2 4 6 6 2 6 4 6 0 5 6 6 2 6 0 2 6 5\n",
            " 7 4 2 8 2 2 5 6 4 6 6 6 2 3 0 6 5 2 6 6 0 2 7 4 3 7 2 6 2 3 1 6 3 7 7 6 4\n",
            " 0 6 7 6 6 6 2 5 4 6 6 6 2 6 6 1 2 3 6 6 8 6 3 6 6 6 3 4 2 3 4 4 2 7 2 2 3\n",
            " 4 3 3 4 0 3 5 5 6 3 0 2 3 1 4 5 6 2 6 4 6 6 6 3 6 2 2 1 2 3 1 6 0 6 2 4 6\n",
            " 8 2 4 1 2 2 4 6 7 7 4 6 6 2 5 6 2 2 4 6 5 8 4 6 2 5 6 3 0 5 2 5 1 2 2 1 6\n",
            " 3 6 7 3 2 5 6 4 1 6 8 8 2 8 0 8 0 6 6 5 5 5 4 7 4 4 3 6 1 6 0 3 5 6]\n",
            "[[2.1008984e-05 1.4978648e-18 3.1773995e-09 ... 9.9995494e-01\n",
            "  5.9072964e-31 9.1175428e-26]\n",
            " [7.7955281e-12 1.3166931e-04 8.2417670e-11 ... 1.2624546e-13\n",
            "  1.0804823e-04 4.3730328e-10]\n",
            " [4.4419430e-08 6.4837262e-02 1.3829889e-07 ... 6.4082667e-12\n",
            "  2.4330604e-04 6.2963026e-09]\n",
            " ...\n",
            " [3.5460755e-15 1.2407808e-04 9.0264367e-12 ... 8.4694080e-18\n",
            "  1.4328331e-05 8.3739042e-09]\n",
            " [1.5468742e-06 3.7800331e-04 6.7609358e-06 ... 3.1256807e-06\n",
            "  7.5059408e-09 2.6714489e-10]\n",
            " [1.3576930e-04 7.4696232e-20 7.9227812e-11 ... 9.9981493e-01\n",
            "  9.5251003e-31 1.9774336e-28]]\n"
          ],
          "name": "stdout"
        }
      ]
    },
    {
      "cell_type": "code",
      "metadata": {
        "id": "EXBmGJWnbbV2",
        "colab": {
          "base_uri": "https://localhost:8080/",
          "height": 51
        },
        "outputId": "e1b1f0c5-2a5b-43de-c04e-e8710feb6186"
      },
      "source": [
        "print(predictions[7])"
      ],
      "execution_count": null,
      "outputs": [
        {
          "output_type": "stream",
          "text": [
            "[4.5954814e-13 6.3255839e-03 5.5090198e-04 1.8516533e-07 8.6843279e-08\n",
            " 7.0382737e-15 4.1826709e-16 4.7195452e-15 9.9312323e-01]\n"
          ],
          "name": "stdout"
        }
      ]
    },
    {
      "cell_type": "code",
      "metadata": {
        "id": "h_XLUrz3bVa8",
        "colab": {
          "base_uri": "https://localhost:8080/",
          "height": 442
        },
        "outputId": "9b5add89-ec68-4ea7-860a-3341dfd5493f"
      },
      "source": [
        "from sklearn import metrics\n",
        "print(metrics.confusion_matrix(y_test,y_pred))\n",
        "print(metrics.classification_report(y_test, y_pred, digits=3))"
      ],
      "execution_count": null,
      "outputs": [
        {
          "output_type": "stream",
          "text": [
            "[[20  0  2  0  0  0  2  0  0]\n",
            " [ 0 12  0  0  0  0  0  0  0]\n",
            " [ 0  0 55  0  0  0  0  0  0]\n",
            " [ 0  0  0 35  0  0  0  0  0]\n",
            " [ 0  0  0  0 41  0  0  0  0]\n",
            " [ 0  0  0  0  0 27  1  0  0]\n",
            " [ 0  0  0  0  0  0 98  0  0]\n",
            " [ 0  3  0  0  0  0  0 18  0]\n",
            " [ 0  0  0  0  0  0  0  0 16]]\n",
            "              precision    recall  f1-score   support\n",
            "\n",
            "           0      1.000     0.833     0.909        24\n",
            "           1      0.800     1.000     0.889        12\n",
            "           2      0.965     1.000     0.982        55\n",
            "           3      1.000     1.000     1.000        35\n",
            "           4      1.000     1.000     1.000        41\n",
            "           5      1.000     0.964     0.982        28\n",
            "           6      0.970     1.000     0.985        98\n",
            "           7      1.000     0.857     0.923        21\n",
            "           8      1.000     1.000     1.000        16\n",
            "\n",
            "    accuracy                          0.976       330\n",
            "   macro avg      0.971     0.962     0.963       330\n",
            "weighted avg      0.978     0.976     0.975       330\n",
            "\n"
          ],
          "name": "stdout"
        }
      ]
    }
  ]
}