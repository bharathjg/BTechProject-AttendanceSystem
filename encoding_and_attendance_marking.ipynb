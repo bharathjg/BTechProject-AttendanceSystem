{
  "nbformat": 4,
  "nbformat_minor": 0,
  "metadata": {
    "colab": {
      "provenance": [],
      "toc_visible": true,
      "include_colab_link": true
    },
    "kernelspec": {
      "name": "python3",
      "display_name": "Python 3"
    },
    "accelerator": "GPU"
  },
  "cells": [
    {
      "cell_type": "markdown",
      "metadata": {
        "id": "view-in-github",
        "colab_type": "text"
      },
      "source": [
        "<a href=\"https://colab.research.google.com/github/bharathjg/BTechProject-AttendanceSystem/blob/main/encoding_and_attendance_marking.ipynb\" target=\"_parent\"><img src=\"https://colab.research.google.com/assets/colab-badge.svg\" alt=\"Open In Colab\"/></a>"
      ]
    },
    {
      "cell_type": "code",
      "metadata": {
        "id": "fL1cTdIaLJbN"
      },
      "source": [
        "number_of_students = 4\n",
        "name_matrix = [\"Anuroop\",\"kunju\",\"midhun\",\"Ramdas\"]\n",
        "#attendance_matrix = np.empty([number_of_students,7,5])\n",
        "attendance_matrix_test = np.zeros([number_of_students,1])"
      ],
      "execution_count": null,
      "outputs": []
    },
    {
      "cell_type": "markdown",
      "metadata": {
        "id": "kqMLiYRoXgwr"
      },
      "source": [
        "-------------\n",
        "#PROJECT NAME : FINAL REPO (previously named copy of Rebuild Main Dataset)\n",
        "### AIM : TO CREATE THE FINAL REPOSITORY PROJECT    \n",
        "-------------"
      ]
    },
    {
      "cell_type": "markdown",
      "metadata": {
        "id": "3xmwSkgjRkun"
      },
      "source": [
        "## REPORT  \n",
        "> THE PEOPLE WHO ARE AVAILABLE IN THE IMAGE HAS BEEN OBTAINED IN THE PICKLE FORMAT  \n",
        "> THE UPDATED CODE HAS BEEN UPDATED IN THE CLOUD.  \n",
        "> NEXT, WE NEED TO CHECK FOR AN IMAGE CONTAINING MULTIPLE PERSONNEL  \n",
        "> THIS COPY WAS MADE TO RUN WITH THE BIGASS DATASET  \n",
        "> FACED A SMALL PROBLEM. THE GPU IS RUNNING OUT OF MEMORY. SO, WE NEED A SMALLER TRAINING SET  \n",
        "> THE SMALL DATASET HAS BEEN MADE. IT GOES BY THE NAME OF CUT_DATASET    \n",
        "> CODE TO TAKE THE ATTENDANCE FOR AN HOUR IE FOR ONE IMAGE HAS BEEN COMPLETED  \n",
        ">"
      ]
    },
    {
      "cell_type": "markdown",
      "metadata": {
        "id": "b9Qz55KENwHX"
      },
      "source": [
        "+++++++++++++++++++++++++++++++++++++++++++++++++++++++++++++++++++++++++++++++++++++++++++++++++++\n",
        "## PREVIOUSLY ON  \n",
        "1. Created a smalldataset and observed the working of pickle\n"
      ]
    },
    {
      "cell_type": "markdown",
      "metadata": {
        "id": "Em_0QmEy4ug5"
      },
      "source": [
        "## NEXT\n",
        "1. Find a way to append pickle                                                  : DONE  \n",
        "2. Write code to create pickle for large dataset\n",
        "3. Show a small demonstration of the whole thing\n",
        "4. Now, attempting to change the structure of the pyimagesearch guy and make it output 256 layes  \n",
        "5. Appending the pickle in a loop until everyone's image's vector is in it"
      ]
    },
    {
      "cell_type": "markdown",
      "metadata": {
        "id": "ODaX3DZl_HFt"
      },
      "source": [
        "-------------\n",
        "## AIM : import the cuda compatible dlib\n",
        "note : To speed up the process using the gpu  \n",
        "status : stable  \n",
        "Project description : DLib is the library that contains the core classification network around which this project is built.   \n",
        "Mission control : GO\n",
        "-------------\n"
      ]
    },
    {
      "cell_type": "code",
      "metadata": {
        "id": "qZujk4kf-SRs",
        "colab": {
          "base_uri": "https://localhost:8080/",
          "height": 197
        },
        "outputId": "862c10ff-93c6-4f4b-9da2-af02c3116978"
      },
      "source": [
        "!git clone https://github.com/davisking/dlib.git\n",
        "!cd dlib\n",
        "!mkdir build\n",
        "!cd build\n",
        "!cmake .. -DDLIB_USE_CUDA=1 -DUSE_AVX_INSTRUCTIONS=1\n",
        "!cmake --build .\n",
        "!cd ..\n",
        "!python setup.py install --yes USE_AVX_INSTRUCTIONS --yes DLIB_USE_CUDA"
      ],
      "execution_count": null,
      "outputs": [
        {
          "output_type": "stream",
          "text": [
            "Cloning into 'dlib'...\n",
            "remote: Enumerating objects: 9, done.\u001b[K\n",
            "remote: Counting objects:  11% (1/9)\u001b[K\rremote: Counting objects:  22% (2/9)\u001b[K\rremote: Counting objects:  33% (3/9)\u001b[K\rremote: Counting objects:  44% (4/9)\u001b[K\rremote: Counting objects:  55% (5/9)\u001b[K\rremote: Counting objects:  66% (6/9)\u001b[K\rremote: Counting objects:  77% (7/9)\u001b[K\rremote: Counting objects:  88% (8/9)\u001b[K\rremote: Counting objects: 100% (9/9)\u001b[K\rremote: Counting objects: 100% (9/9), done.\u001b[K\n",
            "remote: Compressing objects: 100% (8/8), done.\u001b[K\n",
            "remote: Total 48171 (delta 1), reused 5 (delta 1), pack-reused 48162\u001b[K\n",
            "Receiving objects: 100% (48171/48171), 22.81 MiB | 17.33 MiB/s, done.\n",
            "Resolving deltas: 100% (33988/33988), done.\n",
            "CMake Error: The source directory \"/\" does not appear to contain CMakeLists.txt.\n",
            "Specify --help for usage, or press the help button on the CMake GUI.\n",
            "Error: could not load cache\n",
            "python3: can't open file 'setup.py': [Errno 2] No such file or directory\n"
          ],
          "name": "stdout"
        }
      ]
    },
    {
      "cell_type": "markdown",
      "metadata": {
        "id": "ERAvre3oYHAu"
      },
      "source": [
        "-------------  \n",
        "## AIM                 : To Install the Libraries\n",
        "Note             : openCV,face_recognition, imutils, tree  \n",
        "Status           : stable  \n",
        "Project Description : The list of libraries used are\n",
        "> XlsxWriter : This is the library used to finally write the output as an xlsx file.   \n",
        "> openCV : Used for image manipulations and transformations.  \n",
        "> face_recognition : The library developed by <insert name> to work around the dlib framework.  \n",
        "> pickle_mixin : The library used for pickling.  \n",
        "> imutils  : The package that makes image processing with openCV, matplot.lib and python easier.\n",
        "Mission Control : GO\n",
        "-------------"
      ]
    },
    {
      "cell_type": "code",
      "metadata": {
        "id": "XRTFKkYptTqe",
        "colab": {
          "base_uri": "https://localhost:8080/",
          "height": 118
        },
        "outputId": "c09f5f8b-02fa-4ab9-e512-599bf3d6dfb9"
      },
      "source": [
        "!pip install XlsxWriter"
      ],
      "execution_count": null,
      "outputs": [
        {
          "output_type": "stream",
          "text": [
            "Collecting XlsxWriter\n",
            "\u001b[?25l  Downloading https://files.pythonhosted.org/packages/c8/a2/e5f28b67b7d883c9a6585c0ef32b4bb002bff0292b3008f3d6d3fc7eee59/XlsxWriter-1.2.9-py2.py3-none-any.whl (141kB)\n",
            "\r\u001b[K     |██▎                             | 10kB 18.4MB/s eta 0:00:01\r\u001b[K     |████▋                           | 20kB 5.1MB/s eta 0:00:01\r\u001b[K     |███████                         | 30kB 6.4MB/s eta 0:00:01\r\u001b[K     |█████████▎                      | 40kB 4.3MB/s eta 0:00:01\r\u001b[K     |███████████▋                    | 51kB 4.9MB/s eta 0:00:01\r\u001b[K     |█████████████▉                  | 61kB 5.4MB/s eta 0:00:01\r\u001b[K     |████████████████▏               | 71kB 5.7MB/s eta 0:00:01\r\u001b[K     |██████████████████▌             | 81kB 5.9MB/s eta 0:00:01\r\u001b[K     |████████████████████▉           | 92kB 6.3MB/s eta 0:00:01\r\u001b[K     |███████████████████████▏        | 102kB 6.6MB/s eta 0:00:01\r\u001b[K     |█████████████████████████▌      | 112kB 6.6MB/s eta 0:00:01\r\u001b[K     |███████████████████████████▊    | 122kB 6.6MB/s eta 0:00:01\r\u001b[K     |██████████████████████████████  | 133kB 6.6MB/s eta 0:00:01\r\u001b[K     |████████████████████████████████| 143kB 6.6MB/s \n",
            "\u001b[?25hInstalling collected packages: XlsxWriter\n",
            "Successfully installed XlsxWriter-1.2.9\n"
          ],
          "name": "stdout"
        }
      ]
    },
    {
      "cell_type": "code",
      "metadata": {
        "id": "haOTB1mlQIFj",
        "colab": {
          "base_uri": "https://localhost:8080/",
          "height": 925
        },
        "outputId": "dcf1247f-f7d5-4a4f-f561-e6ad8671967a"
      },
      "source": [
        "!pip install opencv-contrib-python\n",
        "!pip install face_recognition\n",
        "!pip install imutils\n",
        "!sudo apt install tree\n",
        "!pip install pickle-mixin"
      ],
      "execution_count": null,
      "outputs": [
        {
          "output_type": "stream",
          "text": [
            "Requirement already satisfied: opencv-contrib-python in /usr/local/lib/python3.6/dist-packages (4.1.2.30)\n",
            "Requirement already satisfied: numpy>=1.11.3 in /usr/local/lib/python3.6/dist-packages (from opencv-contrib-python) (1.18.5)\n",
            "Collecting face_recognition\n",
            "  Downloading https://files.pythonhosted.org/packages/1e/95/f6c9330f54ab07bfa032bf3715c12455a381083125d8880c43cbe76bb3d0/face_recognition-1.3.0-py2.py3-none-any.whl\n",
            "Requirement already satisfied: Click>=6.0 in /usr/local/lib/python3.6/dist-packages (from face_recognition) (7.1.2)\n",
            "Requirement already satisfied: Pillow in /usr/local/lib/python3.6/dist-packages (from face_recognition) (7.0.0)\n",
            "Requirement already satisfied: numpy in /usr/local/lib/python3.6/dist-packages (from face_recognition) (1.18.5)\n",
            "Requirement already satisfied: dlib>=19.7 in /usr/local/lib/python3.6/dist-packages (from face_recognition) (19.18.0)\n",
            "Collecting face-recognition-models>=0.3.0\n",
            "\u001b[?25l  Downloading https://files.pythonhosted.org/packages/cf/3b/4fd8c534f6c0d1b80ce0973d01331525538045084c73c153ee6df20224cf/face_recognition_models-0.3.0.tar.gz (100.1MB)\n",
            "\u001b[K     |████████████████████████████████| 100.2MB 31kB/s \n",
            "\u001b[?25hBuilding wheels for collected packages: face-recognition-models\n",
            "  Building wheel for face-recognition-models (setup.py) ... \u001b[?25l\u001b[?25hdone\n",
            "  Created wheel for face-recognition-models: filename=face_recognition_models-0.3.0-py2.py3-none-any.whl size=100566172 sha256=727cc58e6515c17f73456440098338fc1a90e63b6793bcf46c5dba1ed0004d0a\n",
            "  Stored in directory: /root/.cache/pip/wheels/d2/99/18/59c6c8f01e39810415c0e63f5bede7d83dfb0ffc039865465f\n",
            "Successfully built face-recognition-models\n",
            "Installing collected packages: face-recognition-models, face-recognition\n",
            "Successfully installed face-recognition-1.3.0 face-recognition-models-0.3.0\n",
            "Requirement already satisfied: imutils in /usr/local/lib/python3.6/dist-packages (0.5.3)\n",
            "Reading package lists... Done\n",
            "Building dependency tree       \n",
            "Reading state information... Done\n",
            "The following package was automatically installed and is no longer required:\n",
            "  libnvidia-common-440\n",
            "Use 'sudo apt autoremove' to remove it.\n",
            "The following NEW packages will be installed:\n",
            "  tree\n",
            "0 upgraded, 1 newly installed, 0 to remove and 33 not upgraded.\n",
            "Need to get 40.7 kB of archives.\n",
            "After this operation, 105 kB of additional disk space will be used.\n",
            "Get:1 http://archive.ubuntu.com/ubuntu bionic/universe amd64 tree amd64 1.7.0-5 [40.7 kB]\n",
            "Fetched 40.7 kB in 0s (850 kB/s)\n",
            "debconf: unable to initialize frontend: Dialog\n",
            "debconf: (No usable dialog-like program is installed, so the dialog based frontend cannot be used. at /usr/share/perl5/Debconf/FrontEnd/Dialog.pm line 76, <> line 1.)\n",
            "debconf: falling back to frontend: Readline\n",
            "debconf: unable to initialize frontend: Readline\n",
            "debconf: (This frontend requires a controlling tty.)\n",
            "debconf: falling back to frontend: Teletype\n",
            "dpkg-preconfigure: unable to re-open stdin: \n",
            "Selecting previously unselected package tree.\n",
            "(Reading database ... 144379 files and directories currently installed.)\n",
            "Preparing to unpack .../tree_1.7.0-5_amd64.deb ...\n",
            "Unpacking tree (1.7.0-5) ...\n",
            "Setting up tree (1.7.0-5) ...\n",
            "Processing triggers for man-db (2.8.3-2ubuntu0.1) ...\n",
            "Collecting pickle-mixin\n",
            "  Downloading https://files.pythonhosted.org/packages/02/77/9d5eb2201bbc130e2a5cc41fc949e4ab0da74b619107eac1c511be3af7a7/pickle-mixin-1.0.2.tar.gz\n",
            "Building wheels for collected packages: pickle-mixin\n",
            "  Building wheel for pickle-mixin (setup.py) ... \u001b[?25l\u001b[?25hdone\n",
            "  Created wheel for pickle-mixin: filename=pickle_mixin-1.0.2-cp36-none-any.whl size=5998 sha256=5e06266c11f6c783e50a380475eb6c6debef9548755ff8aee9138593ebfc839b\n",
            "  Stored in directory: /root/.cache/pip/wheels/cd/05/42/71de70fa36b9cbb7657bb5793a16f8028c1cdc1bdd3b8e1ac3\n",
            "Successfully built pickle-mixin\n",
            "Installing collected packages: pickle-mixin\n",
            "Successfully installed pickle-mixin-1.0.2\n"
          ],
          "name": "stdout"
        }
      ]
    },
    {
      "cell_type": "markdown",
      "metadata": {
        "id": "NhsqL50JR8RK"
      },
      "source": [
        "-------------\n",
        "## AIM                 : Importing Libraries\n",
        "##### Note             : plt,mpimg,Image,os\n",
        "##### Status           : Stable\n",
        "Project Description :  \n",
        "Following are the libraries and the functions used that belongs to them  \n",
        "> matplotlib.pyplot : <insert functions>  \n",
        "> matplotlib.image : <insert the used functions>  \n",
        "> Image as part of PIL :  \n",
        "> Pickle :  \n",
        "> numpy :  \n",
        "> xlsxwriter :  \n",
        "##### Mission control  : GO\n",
        "-------------"
      ]
    },
    {
      "cell_type": "code",
      "metadata": {
        "id": "WDPYQADmtpgQ"
      },
      "source": [
        "import matplotlib.pyplot as plt\n",
        "import matplotlib.image as mpimg\n",
        "from PIL import Image\n",
        "import os\n",
        "import pickle\n",
        "import numpy as np\n",
        "import xlsxwriter"
      ],
      "execution_count": null,
      "outputs": []
    },
    {
      "cell_type": "markdown",
      "metadata": {
        "id": "DhL609aUZCY1"
      },
      "source": [
        "-------------\n",
        "## AIM                 : Mounting The Google Drive\n",
        "##### Note             : Mount vrsreeganesh@gmail.com\n",
        "##### Status           : Stable\n",
        "##### Mission control  : GO\n",
        "-------------"
      ]
    },
    {
      "cell_type": "code",
      "metadata": {
        "id": "eOtW2xIhQVM0",
        "colab": {
          "base_uri": "https://localhost:8080/",
          "height": 118
        },
        "outputId": "fe497fb3-7ac9-4ab2-bfac-a94482f144da"
      },
      "source": [
        "#mounting the google drive\n",
        "from google.colab import drive\n",
        "drive.mount('/content/drive')"
      ],
      "execution_count": null,
      "outputs": [
        {
          "output_type": "stream",
          "text": [
            "Go to this URL in a browser: https://accounts.google.com/o/oauth2/auth?client_id=947318989803-6bn6qk8qdgf4n4g3pfee6491hc0brc4i.apps.googleusercontent.com&redirect_uri=urn%3aietf%3awg%3aoauth%3a2.0%3aoob&response_type=code&scope=email%20https%3a%2f%2fwww.googleapis.com%2fauth%2fdocs.test%20https%3a%2f%2fwww.googleapis.com%2fauth%2fdrive%20https%3a%2f%2fwww.googleapis.com%2fauth%2fdrive.photos.readonly%20https%3a%2f%2fwww.googleapis.com%2fauth%2fpeopleapi.readonly\n",
            "\n",
            "Enter your authorization code:\n",
            "··········\n",
            "Mounted at /content/drive\n"
          ],
          "name": "stdout"
        }
      ]
    },
    {
      "cell_type": "markdown",
      "metadata": {
        "id": "8tibBOO8ZMuN"
      },
      "source": [
        "-------------\n",
        "## AIM                 : Copying the Main Zip File\n",
        "##### Note             : Zip file contains code and data\n",
        "##### Status           : Stable\n",
        "Project Description : The zip file which is about to be copied contains the data from the pyimagesearch.com and associated files.\n",
        "##### Mission control  : GO\n",
        "-------------"
      ]
    },
    {
      "cell_type": "code",
      "metadata": {
        "id": "8FQIFR5mWH3k"
      },
      "source": [
        "# Subsection A\n",
        "# Note : copying the zip file\n",
        "!cp /content/drive/My\\ Drive/face-recognition-opencv.zip /content/"
      ],
      "execution_count": null,
      "outputs": []
    },
    {
      "cell_type": "code",
      "metadata": {
        "id": "Id0r-HqLXOSa",
        "colab": {
          "base_uri": "https://localhost:8080/",
          "height": 1000
        },
        "outputId": "45d3a851-4cee-4ba6-8182-aad92ce1aca4"
      },
      "source": [
        "# Subsection B\n",
        "# Note : unzipping the file\n",
        "!unzip face-recognition-opencv.zip"
      ],
      "execution_count": null,
      "outputs": [
        {
          "output_type": "stream",
          "text": [
            "Archive:  face-recognition-opencv.zip\n",
            "   creating: face-recognition-opencv/\n",
            "   creating: face-recognition-opencv/dataset/\n",
            "   creating: face-recognition-opencv/dataset/alan_grant/\n",
            "  inflating: face-recognition-opencv/dataset/alan_grant/00000000.jpg  \n",
            "  inflating: face-recognition-opencv/dataset/alan_grant/00000002.jpg  \n",
            " extracting: face-recognition-opencv/dataset/alan_grant/00000004.png  \n",
            "  inflating: face-recognition-opencv/dataset/alan_grant/00000005.jpg  \n",
            "  inflating: face-recognition-opencv/dataset/alan_grant/00000006.jpg  \n",
            " extracting: face-recognition-opencv/dataset/alan_grant/00000009.png  \n",
            "  inflating: face-recognition-opencv/dataset/alan_grant/00000015.JPG  \n",
            "  inflating: face-recognition-opencv/dataset/alan_grant/00000017.jpg  \n",
            "  inflating: face-recognition-opencv/dataset/alan_grant/00000021.jpg  \n",
            "  inflating: face-recognition-opencv/dataset/alan_grant/00000022.jpg  \n",
            "  inflating: face-recognition-opencv/dataset/alan_grant/00000023.jpg  \n",
            "  inflating: face-recognition-opencv/dataset/alan_grant/00000024.jpg  \n",
            "  inflating: face-recognition-opencv/dataset/alan_grant/00000025.png  \n",
            " extracting: face-recognition-opencv/dataset/alan_grant/00000027.png  \n",
            "  inflating: face-recognition-opencv/dataset/alan_grant/00000028.png  \n",
            "  inflating: face-recognition-opencv/dataset/alan_grant/00000031.jpg  \n",
            "  inflating: face-recognition-opencv/dataset/alan_grant/00000041.JPG  \n",
            "  inflating: face-recognition-opencv/dataset/alan_grant/00000046.jpg  \n",
            "  inflating: face-recognition-opencv/dataset/alan_grant/00000063.jpg  \n",
            " extracting: face-recognition-opencv/dataset/alan_grant/00000065.png  \n",
            "  inflating: face-recognition-opencv/dataset/alan_grant/00000082.jpg  \n",
            "  inflating: face-recognition-opencv/dataset/alan_grant/00000089.jpeg  \n",
            "   creating: face-recognition-opencv/dataset/claire_dearing/\n",
            " extracting: face-recognition-opencv/dataset/claire_dearing/00000000.png  \n",
            "  inflating: face-recognition-opencv/dataset/claire_dearing/00000001.jpg  \n",
            "  inflating: face-recognition-opencv/dataset/claire_dearing/00000002.jpg  \n",
            "  inflating: face-recognition-opencv/dataset/claire_dearing/00000003.jpg  \n",
            " extracting: face-recognition-opencv/dataset/claire_dearing/00000004.png  \n",
            " extracting: face-recognition-opencv/dataset/claire_dearing/00000005.png  \n",
            "  inflating: face-recognition-opencv/dataset/claire_dearing/00000006.jpg  \n",
            " extracting: face-recognition-opencv/dataset/claire_dearing/00000008.png  \n",
            "  inflating: face-recognition-opencv/dataset/claire_dearing/00000009.jpg  \n",
            "  inflating: face-recognition-opencv/dataset/claire_dearing/00000010.jpg  \n",
            "  inflating: face-recognition-opencv/dataset/claire_dearing/00000011.jpg  \n",
            "  inflating: face-recognition-opencv/dataset/claire_dearing/00000012.jpg  \n",
            "  inflating: face-recognition-opencv/dataset/claire_dearing/00000014.jpg  \n",
            " extracting: face-recognition-opencv/dataset/claire_dearing/00000015.png  \n",
            " extracting: face-recognition-opencv/dataset/claire_dearing/00000016.png  \n",
            " extracting: face-recognition-opencv/dataset/claire_dearing/00000017.png  \n",
            "  inflating: face-recognition-opencv/dataset/claire_dearing/00000018.jpg  \n",
            " extracting: face-recognition-opencv/dataset/claire_dearing/00000019.png  \n",
            " extracting: face-recognition-opencv/dataset/claire_dearing/00000020.png  \n",
            " extracting: face-recognition-opencv/dataset/claire_dearing/00000021.png  \n",
            "  inflating: face-recognition-opencv/dataset/claire_dearing/00000022.jpg  \n",
            "  inflating: face-recognition-opencv/dataset/claire_dearing/00000023.jpg  \n",
            "  inflating: face-recognition-opencv/dataset/claire_dearing/00000024.jpg  \n",
            "  inflating: face-recognition-opencv/dataset/claire_dearing/00000025.jpg  \n",
            "  inflating: face-recognition-opencv/dataset/claire_dearing/00000026.jpg  \n",
            " extracting: face-recognition-opencv/dataset/claire_dearing/00000028.png  \n",
            "  inflating: face-recognition-opencv/dataset/claire_dearing/00000029.jpg  \n",
            " extracting: face-recognition-opencv/dataset/claire_dearing/00000031.jpg  \n",
            " extracting: face-recognition-opencv/dataset/claire_dearing/00000033.png  \n",
            "  inflating: face-recognition-opencv/dataset/claire_dearing/00000034.jpg  \n",
            "  inflating: face-recognition-opencv/dataset/claire_dearing/00000035.jpg  \n",
            "  inflating: face-recognition-opencv/dataset/claire_dearing/00000036.jpg  \n",
            "  inflating: face-recognition-opencv/dataset/claire_dearing/00000037.png  \n",
            " extracting: face-recognition-opencv/dataset/claire_dearing/00000038.png  \n",
            " extracting: face-recognition-opencv/dataset/claire_dearing/00000041.png  \n",
            " extracting: face-recognition-opencv/dataset/claire_dearing/00000043.png  \n",
            "  inflating: face-recognition-opencv/dataset/claire_dearing/00000052.jpg  \n",
            "  inflating: face-recognition-opencv/dataset/claire_dearing/00000054.png  \n",
            " extracting: face-recognition-opencv/dataset/claire_dearing/00000055.png  \n",
            " extracting: face-recognition-opencv/dataset/claire_dearing/00000060.png  \n",
            " extracting: face-recognition-opencv/dataset/claire_dearing/00000062.jpg  \n",
            "  inflating: face-recognition-opencv/dataset/claire_dearing/00000063.jpg  \n",
            "  inflating: face-recognition-opencv/dataset/claire_dearing/00000068.jpg  \n",
            "  inflating: face-recognition-opencv/dataset/claire_dearing/00000071.jpg  \n",
            " extracting: face-recognition-opencv/dataset/claire_dearing/00000072.png  \n",
            "  inflating: face-recognition-opencv/dataset/claire_dearing/00000073.jpg  \n",
            "  inflating: face-recognition-opencv/dataset/claire_dearing/00000074.jpg  \n",
            " extracting: face-recognition-opencv/dataset/claire_dearing/00000075.png  \n",
            "  inflating: face-recognition-opencv/dataset/claire_dearing/00000076.jpg  \n",
            "  inflating: face-recognition-opencv/dataset/claire_dearing/00000078.jpg  \n",
            "  inflating: face-recognition-opencv/dataset/claire_dearing/00000079.jpg  \n",
            " extracting: face-recognition-opencv/dataset/claire_dearing/00000081.png  \n",
            "  inflating: face-recognition-opencv/dataset/claire_dearing/00000083.jpg  \n",
            "   creating: face-recognition-opencv/dataset/ellie_sattler/\n",
            "  inflating: face-recognition-opencv/dataset/ellie_sattler/00000000.jpg  \n",
            "  inflating: face-recognition-opencv/dataset/ellie_sattler/00000001.jpg  \n",
            "  inflating: face-recognition-opencv/dataset/ellie_sattler/00000002.jpg  \n",
            "  inflating: face-recognition-opencv/dataset/ellie_sattler/00000003.jpeg  \n",
            "  inflating: face-recognition-opencv/dataset/ellie_sattler/00000004.jpg  \n",
            "  inflating: face-recognition-opencv/dataset/ellie_sattler/00000005.jpg  \n",
            "  inflating: face-recognition-opencv/dataset/ellie_sattler/00000007.jpg  \n",
            "  inflating: face-recognition-opencv/dataset/ellie_sattler/00000008.jpg  \n",
            "  inflating: face-recognition-opencv/dataset/ellie_sattler/00000009.jpg  \n",
            "  inflating: face-recognition-opencv/dataset/ellie_sattler/00000012.jpg  \n",
            "  inflating: face-recognition-opencv/dataset/ellie_sattler/00000014.jpg  \n",
            "  inflating: face-recognition-opencv/dataset/ellie_sattler/00000015.jpg  \n",
            "  inflating: face-recognition-opencv/dataset/ellie_sattler/00000016.jpg  \n",
            "  inflating: face-recognition-opencv/dataset/ellie_sattler/00000017.jpg  \n",
            "  inflating: face-recognition-opencv/dataset/ellie_sattler/00000020.jpg  \n",
            "  inflating: face-recognition-opencv/dataset/ellie_sattler/00000022.jpg  \n",
            "  inflating: face-recognition-opencv/dataset/ellie_sattler/00000025.jpg  \n",
            "  inflating: face-recognition-opencv/dataset/ellie_sattler/00000028.jpg  \n",
            "  inflating: face-recognition-opencv/dataset/ellie_sattler/00000030.jpg  \n",
            "  inflating: face-recognition-opencv/dataset/ellie_sattler/00000032.jpg  \n",
            "  inflating: face-recognition-opencv/dataset/ellie_sattler/00000037.jpg  \n",
            "  inflating: face-recognition-opencv/dataset/ellie_sattler/00000038.jpg  \n",
            "  inflating: face-recognition-opencv/dataset/ellie_sattler/00000042.jpg  \n",
            "  inflating: face-recognition-opencv/dataset/ellie_sattler/00000054.jpg  \n",
            " extracting: face-recognition-opencv/dataset/ellie_sattler/00000059.jpg  \n",
            "  inflating: face-recognition-opencv/dataset/ellie_sattler/00000064.jpg  \n",
            "  inflating: face-recognition-opencv/dataset/ellie_sattler/00000065.jpg  \n",
            "  inflating: face-recognition-opencv/dataset/ellie_sattler/00000069.jpg  \n",
            "  inflating: face-recognition-opencv/dataset/ellie_sattler/00000070.jpg  \n",
            "  inflating: face-recognition-opencv/dataset/ellie_sattler/00000083.jpg  \n",
            "  inflating: face-recognition-opencv/dataset/ellie_sattler/00000087.jpg  \n",
            "   creating: face-recognition-opencv/dataset/ian_malcolm/\n",
            "  inflating: face-recognition-opencv/dataset/ian_malcolm/00000000.jpg  \n",
            "  inflating: face-recognition-opencv/dataset/ian_malcolm/00000001.jpg  \n",
            " extracting: face-recognition-opencv/dataset/ian_malcolm/00000003.jpg  \n",
            "  inflating: face-recognition-opencv/dataset/ian_malcolm/00000004.jpg  \n",
            "  inflating: face-recognition-opencv/dataset/ian_malcolm/00000005.jpg  \n",
            "  inflating: face-recognition-opencv/dataset/ian_malcolm/00000007.jpg  \n",
            "  inflating: face-recognition-opencv/dataset/ian_malcolm/00000008.jpg  \n",
            "  inflating: face-recognition-opencv/dataset/ian_malcolm/00000009.jpg  \n",
            "  inflating: face-recognition-opencv/dataset/ian_malcolm/00000010.jpg  \n",
            "  inflating: face-recognition-opencv/dataset/ian_malcolm/00000011.jpg  \n",
            "  inflating: face-recognition-opencv/dataset/ian_malcolm/00000012.png  \n",
            "  inflating: face-recognition-opencv/dataset/ian_malcolm/00000013.jpg  \n",
            "  inflating: face-recognition-opencv/dataset/ian_malcolm/00000014.jpg  \n",
            "  inflating: face-recognition-opencv/dataset/ian_malcolm/00000015.jpg  \n",
            "  inflating: face-recognition-opencv/dataset/ian_malcolm/00000016.jpg  \n",
            "  inflating: face-recognition-opencv/dataset/ian_malcolm/00000018.jpg  \n",
            " extracting: face-recognition-opencv/dataset/ian_malcolm/00000019.png  \n",
            "  inflating: face-recognition-opencv/dataset/ian_malcolm/00000020.jpg  \n",
            "  inflating: face-recognition-opencv/dataset/ian_malcolm/00000021.jpg  \n",
            "  inflating: face-recognition-opencv/dataset/ian_malcolm/00000022.jpg  \n",
            "  inflating: face-recognition-opencv/dataset/ian_malcolm/00000023.jpg  \n",
            "  inflating: face-recognition-opencv/dataset/ian_malcolm/00000024.jpg  \n",
            "  inflating: face-recognition-opencv/dataset/ian_malcolm/00000027.jpg  \n",
            "  inflating: face-recognition-opencv/dataset/ian_malcolm/00000030.jpg  \n",
            "  inflating: face-recognition-opencv/dataset/ian_malcolm/00000031.jpg  \n",
            "  inflating: face-recognition-opencv/dataset/ian_malcolm/00000035.jpg  \n",
            "  inflating: face-recognition-opencv/dataset/ian_malcolm/00000036.jpg  \n",
            "  inflating: face-recognition-opencv/dataset/ian_malcolm/00000040.jpg  \n",
            "  inflating: face-recognition-opencv/dataset/ian_malcolm/00000048.jpg  \n",
            "  inflating: face-recognition-opencv/dataset/ian_malcolm/00000050.jpg  \n",
            "  inflating: face-recognition-opencv/dataset/ian_malcolm/00000051.jpg  \n",
            "  inflating: face-recognition-opencv/dataset/ian_malcolm/00000062.jpg  \n",
            " extracting: face-recognition-opencv/dataset/ian_malcolm/00000069.png  \n",
            "  inflating: face-recognition-opencv/dataset/ian_malcolm/00000072.jpg  \n",
            "  inflating: face-recognition-opencv/dataset/ian_malcolm/00000074.jpg  \n",
            "  inflating: face-recognition-opencv/dataset/ian_malcolm/00000080.jpg  \n",
            "  inflating: face-recognition-opencv/dataset/ian_malcolm/00000082.jpg  \n",
            "  inflating: face-recognition-opencv/dataset/ian_malcolm/00000083.jpg  \n",
            "  inflating: face-recognition-opencv/dataset/ian_malcolm/00000086.jpg  \n",
            " extracting: face-recognition-opencv/dataset/ian_malcolm/00000088.png  \n",
            "  inflating: face-recognition-opencv/dataset/ian_malcolm/00000092.jpg  \n",
            "   creating: face-recognition-opencv/dataset/john_hammond/\n",
            " extracting: face-recognition-opencv/dataset/john_hammond/00000000.jpg  \n",
            "  inflating: face-recognition-opencv/dataset/john_hammond/00000001.jpg  \n",
            "  inflating: face-recognition-opencv/dataset/john_hammond/00000002.jpg  \n",
            "  inflating: face-recognition-opencv/dataset/john_hammond/00000003.jpg  \n",
            "  inflating: face-recognition-opencv/dataset/john_hammond/00000004.jpg  \n",
            " extracting: face-recognition-opencv/dataset/john_hammond/00000005.png  \n",
            "  inflating: face-recognition-opencv/dataset/john_hammond/00000006.jpg  \n",
            "  inflating: face-recognition-opencv/dataset/john_hammond/00000007.jpg  \n",
            "  inflating: face-recognition-opencv/dataset/john_hammond/00000008.jpg  \n",
            "  inflating: face-recognition-opencv/dataset/john_hammond/00000009.jpg  \n",
            " extracting: face-recognition-opencv/dataset/john_hammond/00000010.jpg  \n",
            "  inflating: face-recognition-opencv/dataset/john_hammond/00000012.jpg  \n",
            "  inflating: face-recognition-opencv/dataset/john_hammond/00000013.jpg  \n",
            "  inflating: face-recognition-opencv/dataset/john_hammond/00000014.jpg  \n",
            "  inflating: face-recognition-opencv/dataset/john_hammond/00000015.jpg  \n",
            "  inflating: face-recognition-opencv/dataset/john_hammond/00000016.jpg  \n",
            "  inflating: face-recognition-opencv/dataset/john_hammond/00000021.jpg  \n",
            "  inflating: face-recognition-opencv/dataset/john_hammond/00000022.jpg  \n",
            "  inflating: face-recognition-opencv/dataset/john_hammond/00000025.jpg  \n",
            "  inflating: face-recognition-opencv/dataset/john_hammond/00000029.jpg  \n",
            " extracting: face-recognition-opencv/dataset/john_hammond/00000031.png  \n",
            "  inflating: face-recognition-opencv/dataset/john_hammond/00000032.jpg  \n",
            "  inflating: face-recognition-opencv/dataset/john_hammond/00000036.jpg  \n",
            " extracting: face-recognition-opencv/dataset/john_hammond/00000037.png  \n",
            "  inflating: face-recognition-opencv/dataset/john_hammond/00000038.jpg  \n",
            "  inflating: face-recognition-opencv/dataset/john_hammond/00000042.jpg  \n",
            "  inflating: face-recognition-opencv/dataset/john_hammond/00000065.jpg  \n",
            "  inflating: face-recognition-opencv/dataset/john_hammond/00000066.jpg  \n",
            "  inflating: face-recognition-opencv/dataset/john_hammond/00000068.jpg  \n",
            "  inflating: face-recognition-opencv/dataset/john_hammond/00000072.jpg  \n",
            "  inflating: face-recognition-opencv/dataset/john_hammond/00000073.jpg  \n",
            " extracting: face-recognition-opencv/dataset/john_hammond/00000075.png  \n",
            "  inflating: face-recognition-opencv/dataset/john_hammond/00000085.jpg  \n",
            "  inflating: face-recognition-opencv/dataset/john_hammond/00000088.jpg  \n",
            "  inflating: face-recognition-opencv/dataset/john_hammond/00000089.jpg  \n",
            "  inflating: face-recognition-opencv/dataset/john_hammond/00000090.jpg  \n",
            "   creating: face-recognition-opencv/dataset/owen_grady/\n",
            "  inflating: face-recognition-opencv/dataset/owen_grady/00000000.jpg  \n",
            "  inflating: face-recognition-opencv/dataset/owen_grady/00000001.jpg  \n",
            "  inflating: face-recognition-opencv/dataset/owen_grady/00000002.jpg  \n",
            "  inflating: face-recognition-opencv/dataset/owen_grady/00000003.jpg  \n",
            "  inflating: face-recognition-opencv/dataset/owen_grady/00000004.jpg  \n",
            "  inflating: face-recognition-opencv/dataset/owen_grady/00000005.jpg  \n",
            "  inflating: face-recognition-opencv/dataset/owen_grady/00000006.jpg  \n",
            "  inflating: face-recognition-opencv/dataset/owen_grady/00000007.jpg  \n",
            "  inflating: face-recognition-opencv/dataset/owen_grady/00000010.jpg  \n",
            "  inflating: face-recognition-opencv/dataset/owen_grady/00000012.jpg  \n",
            "  inflating: face-recognition-opencv/dataset/owen_grady/00000013.jpg  \n",
            "  inflating: face-recognition-opencv/dataset/owen_grady/00000014.jpg  \n",
            "  inflating: face-recognition-opencv/dataset/owen_grady/00000015.jpg  \n",
            "  inflating: face-recognition-opencv/dataset/owen_grady/00000016.jpg  \n",
            "  inflating: face-recognition-opencv/dataset/owen_grady/00000017.jpg  \n",
            " extracting: face-recognition-opencv/dataset/owen_grady/00000018.jpg  \n",
            "  inflating: face-recognition-opencv/dataset/owen_grady/00000019.jpg  \n",
            "  inflating: face-recognition-opencv/dataset/owen_grady/00000020.jpg  \n",
            "  inflating: face-recognition-opencv/dataset/owen_grady/00000021.jpg  \n",
            "  inflating: face-recognition-opencv/dataset/owen_grady/00000022.jpg  \n",
            "  inflating: face-recognition-opencv/dataset/owen_grady/00000024.jpg  \n",
            "  inflating: face-recognition-opencv/dataset/owen_grady/00000026.jpg  \n",
            "  inflating: face-recognition-opencv/dataset/owen_grady/00000027.jpeg  \n",
            "  inflating: face-recognition-opencv/dataset/owen_grady/00000029.jpg  \n",
            "  inflating: face-recognition-opencv/dataset/owen_grady/00000030.jpg  \n",
            "  inflating: face-recognition-opencv/dataset/owen_grady/00000034.jpg  \n",
            "  inflating: face-recognition-opencv/dataset/owen_grady/00000035.jpg  \n",
            "  inflating: face-recognition-opencv/dataset/owen_grady/00000041.jpg  \n",
            "  inflating: face-recognition-opencv/dataset/owen_grady/00000047.jpg  \n",
            "  inflating: face-recognition-opencv/dataset/owen_grady/00000059.jpg  \n",
            "  inflating: face-recognition-opencv/dataset/owen_grady/00000068.jpg  \n",
            "  inflating: face-recognition-opencv/dataset/owen_grady/00000070.jpg  \n",
            "  inflating: face-recognition-opencv/dataset/owen_grady/00000080.jpg  \n",
            "  inflating: face-recognition-opencv/dataset/owen_grady/00000083.jpg  \n",
            " extracting: face-recognition-opencv/dataset/owen_grady/00000086.jpg  \n",
            "  inflating: face-recognition-opencv/encode_faces.py  \n",
            "  inflating: face-recognition-opencv/encodings.pickle  \n",
            "   creating: face-recognition-opencv/examples/\n",
            "  inflating: face-recognition-opencv/examples/example_01.png  \n",
            "  inflating: face-recognition-opencv/examples/example_02.png  \n",
            "  inflating: face-recognition-opencv/examples/example_03.png  \n",
            "   creating: face-recognition-opencv/output/\n",
            "  inflating: face-recognition-opencv/output/lunch_scene_output.avi  \n",
            "  inflating: face-recognition-opencv/recognize_faces_image.py  \n",
            "  inflating: face-recognition-opencv/recognize_faces_video.py  \n",
            "  inflating: face-recognition-opencv/recognize_faces_video_file.py  \n",
            "  inflating: face-recognition-opencv/search_bing_api.py  \n",
            "   creating: face-recognition-opencv/videos/\n",
            "  inflating: face-recognition-opencv/videos/lunch_scene.mp4  \n"
          ],
          "name": "stdout"
        }
      ]
    },
    {
      "cell_type": "code",
      "metadata": {
        "id": "P-KTBuPwdGGU",
        "colab": {
          "base_uri": "https://localhost:8080/",
          "height": 32
        },
        "outputId": "d6998f63-2e34-43f8-e647-0ca79001eaa7"
      },
      "source": [
        "# Subsection       : B1\n",
        "# Aim              : To import the updated files (encoded and rec) from drive\n",
        "# Note             : Hasn't been updated btw in the drive side btw. (update cheythittundu)\n",
        "# Status           : complete\n",
        "# Mission control  : GO\n",
        "\n",
        "!pwd\n",
        "!mkdir actual_file #creating a directory to store the tbu code\n",
        "!cp /content/drive/My\\ Drive/dataset_local/encode_faces.py /content/actual_file\n",
        "!cp /content/drive/My\\ Drive/dataset_local/recognize_faces_image.py /content/actual_file"
      ],
      "execution_count": null,
      "outputs": [
        {
          "output_type": "stream",
          "text": [
            "/content\n"
          ],
          "name": "stdout"
        }
      ]
    },
    {
      "cell_type": "code",
      "metadata": {
        "id": "2IfF_mkC80sA",
        "colab": {
          "base_uri": "https://localhost:8080/",
          "height": 32
        },
        "outputId": "530aea27-d37c-4274-c47b-bf1df552436c"
      },
      "source": [
        "# Subsection : C\n",
        "# Note : to enter the directory\n",
        "%cd /content/face-recognition-opencv"
      ],
      "execution_count": null,
      "outputs": [
        {
          "output_type": "stream",
          "text": [
            "/content/face-recognition-opencv\n"
          ],
          "name": "stdout"
        }
      ]
    },
    {
      "cell_type": "code",
      "metadata": {
        "id": "PmH8O_hlAjjx",
        "colab": {
          "base_uri": "https://localhost:8080/",
          "height": 32
        },
        "outputId": "56e4de36-bc32-4712-e9d3-e829de513145"
      },
      "source": [
        "\n",
        "# Subsection : D\n",
        "# Note : To find the path\n",
        "!pwd"
      ],
      "execution_count": null,
      "outputs": [
        {
          "output_type": "stream",
          "text": [
            "/content/face-recognition-opencv\n"
          ],
          "name": "stdout"
        }
      ]
    },
    {
      "cell_type": "markdown",
      "metadata": {
        "id": "K_ZNPbIpSvxl"
      },
      "source": [
        "-------------\n",
        "## AIM                 : Transfer cut dataset\n",
        "##### Note             : This dataset contains amal, anuroop, kunju, midhun, ramdas  \n",
        "##### Status           : Stable\n",
        "Project Description :  The dataset that contains that of the students from the class are copied from the drive.\n",
        "##### Mission control  : GO\n",
        "-------------"
      ]
    },
    {
      "cell_type": "code",
      "metadata": {
        "id": "kpzdzsUCOTPP",
        "colab": {
          "base_uri": "https://localhost:8080/",
          "height": 1000
        },
        "outputId": "0e133235-5fdc-448e-df3d-206026a97bbd"
      },
      "source": [
        "# don't run this until you want the datset local in the live dataset\n",
        "!cp -avr /content/drive/My\\ Drive/dataset_local/cut_dataset /content/face-recognition-opencv/dataset/"
      ],
      "execution_count": null,
      "outputs": [
        {
          "output_type": "stream",
          "text": [
            "'/content/drive/My Drive/dataset_local/cut_dataset' -> '/content/face-recognition-opencv/dataset/cut_dataset'\n",
            "'/content/drive/My Drive/dataset_local/cut_dataset/midhun' -> '/content/face-recognition-opencv/dataset/cut_dataset/midhun'\n",
            "'/content/drive/My Drive/dataset_local/cut_dataset/midhun/20200205_124803 100.jpg' -> '/content/face-recognition-opencv/dataset/cut_dataset/midhun/20200205_124803 100.jpg'\n",
            "'/content/drive/My Drive/dataset_local/cut_dataset/midhun/20200205_124803 073.jpg' -> '/content/face-recognition-opencv/dataset/cut_dataset/midhun/20200205_124803 073.jpg'\n",
            "'/content/drive/My Drive/dataset_local/cut_dataset/midhun/20200205_124803 028.jpg' -> '/content/face-recognition-opencv/dataset/cut_dataset/midhun/20200205_124803 028.jpg'\n",
            "'/content/drive/My Drive/dataset_local/cut_dataset/midhun/20200205_124803 064.jpg' -> '/content/face-recognition-opencv/dataset/cut_dataset/midhun/20200205_124803 064.jpg'\n",
            "'/content/drive/My Drive/dataset_local/cut_dataset/midhun/20200205_124803 082.jpg' -> '/content/face-recognition-opencv/dataset/cut_dataset/midhun/20200205_124803 082.jpg'\n",
            "'/content/drive/My Drive/dataset_local/cut_dataset/midhun/20200205_124803 037.jpg' -> '/content/face-recognition-opencv/dataset/cut_dataset/midhun/20200205_124803 037.jpg'\n",
            "'/content/drive/My Drive/dataset_local/cut_dataset/midhun/20200205_124803 109.jpg' -> '/content/face-recognition-opencv/dataset/cut_dataset/midhun/20200205_124803 109.jpg'\n",
            "'/content/drive/My Drive/dataset_local/cut_dataset/midhun/20200205_124803 055.jpg' -> '/content/face-recognition-opencv/dataset/cut_dataset/midhun/20200205_124803 055.jpg'\n",
            "'/content/drive/My Drive/dataset_local/cut_dataset/midhun/20200205_124803 046.jpg' -> '/content/face-recognition-opencv/dataset/cut_dataset/midhun/20200205_124803 046.jpg'\n",
            "'/content/drive/My Drive/dataset_local/cut_dataset/midhun/20200205_124803 091.jpg' -> '/content/face-recognition-opencv/dataset/cut_dataset/midhun/20200205_124803 091.jpg'\n",
            "'/content/drive/My Drive/dataset_local/cut_dataset/Amal' -> '/content/face-recognition-opencv/dataset/cut_dataset/Amal'\n",
            "'/content/drive/My Drive/dataset_local/cut_dataset/Amal/frame91.jpg' -> '/content/face-recognition-opencv/dataset/cut_dataset/Amal/frame91.jpg'\n",
            "'/content/drive/My Drive/dataset_local/cut_dataset/Amal/frame52.jpg' -> '/content/face-recognition-opencv/dataset/cut_dataset/Amal/frame52.jpg'\n",
            "'/content/drive/My Drive/dataset_local/cut_dataset/Amal/frame78.jpg' -> '/content/face-recognition-opencv/dataset/cut_dataset/Amal/frame78.jpg'\n",
            "'/content/drive/My Drive/dataset_local/cut_dataset/Amal/frame208.jpg' -> '/content/face-recognition-opencv/dataset/cut_dataset/Amal/frame208.jpg'\n",
            "'/content/drive/My Drive/dataset_local/cut_dataset/Amal/frame234.jpg' -> '/content/face-recognition-opencv/dataset/cut_dataset/Amal/frame234.jpg'\n",
            "'/content/drive/My Drive/dataset_local/cut_dataset/Amal/frame195.jpg' -> '/content/face-recognition-opencv/dataset/cut_dataset/Amal/frame195.jpg'\n",
            "'/content/drive/My Drive/dataset_local/cut_dataset/Amal/frame156.jpg' -> '/content/face-recognition-opencv/dataset/cut_dataset/Amal/frame156.jpg'\n",
            "'/content/drive/My Drive/dataset_local/cut_dataset/Amal/frame143.jpg' -> '/content/face-recognition-opencv/dataset/cut_dataset/Amal/frame143.jpg'\n",
            "'/content/drive/My Drive/dataset_local/cut_dataset/Amal/frame221.jpg' -> '/content/face-recognition-opencv/dataset/cut_dataset/Amal/frame221.jpg'\n",
            "'/content/drive/My Drive/dataset_local/cut_dataset/Amal/frame182.jpg' -> '/content/face-recognition-opencv/dataset/cut_dataset/Amal/frame182.jpg'\n",
            "'/content/drive/My Drive/dataset_local/cut_dataset/Amal/frame169.jpg' -> '/content/face-recognition-opencv/dataset/cut_dataset/Amal/frame169.jpg'\n",
            "'/content/drive/My Drive/dataset_local/cut_dataset/Amal/frame286.jpg' -> '/content/face-recognition-opencv/dataset/cut_dataset/Amal/frame286.jpg'\n",
            "'/content/drive/My Drive/dataset_local/cut_dataset/Amal/frame130.jpg' -> '/content/face-recognition-opencv/dataset/cut_dataset/Amal/frame130.jpg'\n",
            "'/content/drive/My Drive/dataset_local/cut_dataset/Amal/frame247.jpg' -> '/content/face-recognition-opencv/dataset/cut_dataset/Amal/frame247.jpg'\n",
            "'/content/drive/My Drive/dataset_local/cut_dataset/Amal/frame273.jpg' -> '/content/face-recognition-opencv/dataset/cut_dataset/Amal/frame273.jpg'\n",
            "'/content/drive/My Drive/dataset_local/cut_dataset/Amal/frame104.jpg' -> '/content/face-recognition-opencv/dataset/cut_dataset/Amal/frame104.jpg'\n",
            "'/content/drive/My Drive/dataset_local/cut_dataset/Amal/frame299.jpg' -> '/content/face-recognition-opencv/dataset/cut_dataset/Amal/frame299.jpg'\n",
            "'/content/drive/My Drive/dataset_local/cut_dataset/Amal/frame117.jpg' -> '/content/face-recognition-opencv/dataset/cut_dataset/Amal/frame117.jpg'\n",
            "'/content/drive/My Drive/dataset_local/cut_dataset/Amal/frame260.jpg' -> '/content/face-recognition-opencv/dataset/cut_dataset/Amal/frame260.jpg'\n",
            "'/content/drive/My Drive/dataset_local/cut_dataset/Amal/frame65.jpg' -> '/content/face-recognition-opencv/dataset/cut_dataset/Amal/frame65.jpg'\n",
            "'/content/drive/My Drive/dataset_local/cut_dataset/Anuroop' -> '/content/face-recognition-opencv/dataset/cut_dataset/Anuroop'\n",
            "'/content/drive/My Drive/dataset_local/cut_dataset/Anuroop/20200205_125056 010.jpg' -> '/content/face-recognition-opencv/dataset/cut_dataset/Anuroop/20200205_125056 010.jpg'\n",
            "'/content/drive/My Drive/dataset_local/cut_dataset/Anuroop/20200205_125056 028.jpg' -> '/content/face-recognition-opencv/dataset/cut_dataset/Anuroop/20200205_125056 028.jpg'\n",
            "'/content/drive/My Drive/dataset_local/cut_dataset/Anuroop/20200205_125056 001.jpg' -> '/content/face-recognition-opencv/dataset/cut_dataset/Anuroop/20200205_125056 001.jpg'\n",
            "'/content/drive/My Drive/dataset_local/cut_dataset/Anuroop/20200205_125056 073.jpg' -> '/content/face-recognition-opencv/dataset/cut_dataset/Anuroop/20200205_125056 073.jpg'\n",
            "'/content/drive/My Drive/dataset_local/cut_dataset/Anuroop/20200205_125056 064.jpg' -> '/content/face-recognition-opencv/dataset/cut_dataset/Anuroop/20200205_125056 064.jpg'\n",
            "'/content/drive/My Drive/dataset_local/cut_dataset/Anuroop/20200205_125056 091.jpg' -> '/content/face-recognition-opencv/dataset/cut_dataset/Anuroop/20200205_125056 091.jpg'\n",
            "'/content/drive/My Drive/dataset_local/cut_dataset/Anuroop/20200205_125056 046.jpg' -> '/content/face-recognition-opencv/dataset/cut_dataset/Anuroop/20200205_125056 046.jpg'\n",
            "'/content/drive/My Drive/dataset_local/cut_dataset/Anuroop/20200205_125056 082.jpg' -> '/content/face-recognition-opencv/dataset/cut_dataset/Anuroop/20200205_125056 082.jpg'\n",
            "'/content/drive/My Drive/dataset_local/cut_dataset/Anuroop/20200205_125056 055.jpg' -> '/content/face-recognition-opencv/dataset/cut_dataset/Anuroop/20200205_125056 055.jpg'\n",
            "'/content/drive/My Drive/dataset_local/cut_dataset/Anuroop/20200205_125056 019.jpg' -> '/content/face-recognition-opencv/dataset/cut_dataset/Anuroop/20200205_125056 019.jpg'\n",
            "'/content/drive/My Drive/dataset_local/cut_dataset/Anuroop/20200205_125056 037.jpg' -> '/content/face-recognition-opencv/dataset/cut_dataset/Anuroop/20200205_125056 037.jpg'\n",
            "'/content/drive/My Drive/dataset_local/cut_dataset/Ramdas' -> '/content/face-recognition-opencv/dataset/cut_dataset/Ramdas'\n",
            "'/content/drive/My Drive/dataset_local/cut_dataset/Ramdas/20200205_125201 019.jpg' -> '/content/face-recognition-opencv/dataset/cut_dataset/Ramdas/20200205_125201 019.jpg'\n",
            "'/content/drive/My Drive/dataset_local/cut_dataset/Ramdas/20200205_125201 037.jpg' -> '/content/face-recognition-opencv/dataset/cut_dataset/Ramdas/20200205_125201 037.jpg'\n",
            "'/content/drive/My Drive/dataset_local/cut_dataset/Ramdas/20200205_125201 091.jpg' -> '/content/face-recognition-opencv/dataset/cut_dataset/Ramdas/20200205_125201 091.jpg'\n",
            "'/content/drive/My Drive/dataset_local/cut_dataset/Ramdas/20200205_125201 127.jpg' -> '/content/face-recognition-opencv/dataset/cut_dataset/Ramdas/20200205_125201 127.jpg'\n",
            "'/content/drive/My Drive/dataset_local/cut_dataset/Ramdas/20200205_125201 055.jpg' -> '/content/face-recognition-opencv/dataset/cut_dataset/Ramdas/20200205_125201 055.jpg'\n",
            "'/content/drive/My Drive/dataset_local/cut_dataset/Ramdas/20200205_125201 109.jpg' -> '/content/face-recognition-opencv/dataset/cut_dataset/Ramdas/20200205_125201 109.jpg'\n",
            "'/content/drive/My Drive/dataset_local/cut_dataset/Ramdas/20200205_125201 073.jpg' -> '/content/face-recognition-opencv/dataset/cut_dataset/Ramdas/20200205_125201 073.jpg'\n",
            "'/content/drive/My Drive/dataset_local/cut_dataset/kunju' -> '/content/face-recognition-opencv/dataset/cut_dataset/kunju'\n",
            "'/content/drive/My Drive/dataset_local/cut_dataset/kunju/frame144.jpg' -> '/content/face-recognition-opencv/dataset/cut_dataset/kunju/frame144.jpg'\n",
            "'/content/drive/My Drive/dataset_local/cut_dataset/kunju/frame90.jpg' -> '/content/face-recognition-opencv/dataset/cut_dataset/kunju/frame90.jpg'\n",
            "'/content/drive/My Drive/dataset_local/cut_dataset/kunju/frame153.jpg' -> '/content/face-recognition-opencv/dataset/cut_dataset/kunju/frame153.jpg'\n",
            "'/content/drive/My Drive/dataset_local/cut_dataset/kunju/frame45.jpg' -> '/content/face-recognition-opencv/dataset/cut_dataset/kunju/frame45.jpg'\n",
            "'/content/drive/My Drive/dataset_local/cut_dataset/kunju/frame81.jpg' -> '/content/face-recognition-opencv/dataset/cut_dataset/kunju/frame81.jpg'\n",
            "'/content/drive/My Drive/dataset_local/cut_dataset/kunju/frame126.jpg' -> '/content/face-recognition-opencv/dataset/cut_dataset/kunju/frame126.jpg'\n",
            "'/content/drive/My Drive/dataset_local/cut_dataset/kunju/frame180.jpg' -> '/content/face-recognition-opencv/dataset/cut_dataset/kunju/frame180.jpg'\n",
            "'/content/drive/My Drive/dataset_local/cut_dataset/kunju/frame54.jpg' -> '/content/face-recognition-opencv/dataset/cut_dataset/kunju/frame54.jpg'\n",
            "'/content/drive/My Drive/dataset_local/cut_dataset/kunju/frame27.jpg' -> '/content/face-recognition-opencv/dataset/cut_dataset/kunju/frame27.jpg'\n",
            "'/content/drive/My Drive/dataset_local/cut_dataset/kunju/frame135.jpg' -> '/content/face-recognition-opencv/dataset/cut_dataset/kunju/frame135.jpg'\n",
            "'/content/drive/My Drive/dataset_local/cut_dataset/kunju/frame117.jpg' -> '/content/face-recognition-opencv/dataset/cut_dataset/kunju/frame117.jpg'\n",
            "'/content/drive/My Drive/dataset_local/cut_dataset/kunju/frame36.jpg' -> '/content/face-recognition-opencv/dataset/cut_dataset/kunju/frame36.jpg'\n",
            "'/content/drive/My Drive/dataset_local/cut_dataset/kunju/frame108.jpg' -> '/content/face-recognition-opencv/dataset/cut_dataset/kunju/frame108.jpg'\n",
            "'/content/drive/My Drive/dataset_local/cut_dataset/kunju/frame171.jpg' -> '/content/face-recognition-opencv/dataset/cut_dataset/kunju/frame171.jpg'\n",
            "'/content/drive/My Drive/dataset_local/cut_dataset/kunju/frame72.jpg' -> '/content/face-recognition-opencv/dataset/cut_dataset/kunju/frame72.jpg'\n",
            "'/content/drive/My Drive/dataset_local/cut_dataset/kunju/frame162.jpg' -> '/content/face-recognition-opencv/dataset/cut_dataset/kunju/frame162.jpg'\n",
            "'/content/drive/My Drive/dataset_local/cut_dataset/kunju/frame63.jpg' -> '/content/face-recognition-opencv/dataset/cut_dataset/kunju/frame63.jpg'\n",
            "'/content/drive/My Drive/dataset_local/cut_dataset/kunju/frame99.jpg' -> '/content/face-recognition-opencv/dataset/cut_dataset/kunju/frame99.jpg'\n"
          ],
          "name": "stdout"
        }
      ]
    },
    {
      "cell_type": "markdown",
      "metadata": {
        "id": "iGpWtSyDTbrA"
      },
      "source": [
        "-------------\n",
        "## Aim                 : Copying The Correct Scripts From The Drive\n",
        "##### Note             :\n",
        "##### Status           : Stable\n",
        "Project Description : The scripts we use are the ones that have been tweaked from the pyimagesearch.com's zip file. The tweaked files are in the drive. Here, what we do is we delete the file we obtained from unzipping the file and we replace it with our tweaked files.\n",
        "##### Mission control  : GO\n",
        "-------------"
      ]
    },
    {
      "cell_type": "code",
      "metadata": {
        "id": "lSr6A7m7bbVG"
      },
      "source": [
        "# Subsection       : A-\n",
        "# Aim              : updating the encoding script\n",
        "# Note             : The old file is deleted and the updated is replaced. Bot have the same filename\n",
        "# Status           : complete\n",
        "# Mission control  : GO\n",
        "\n",
        "!rm /content/face-recognition-opencv/encode_faces.py\n",
        "!rm /content/face-recognition-opencv/recognize_faces_image.py\n",
        "\n",
        "!cp /content/actual_file/encode_faces.py /content/face-recognition-opencv/\n",
        "!cp /content/actual_file/recognize_faces_image.py /content/face-recognition-opencv/"
      ],
      "execution_count": null,
      "outputs": []
    },
    {
      "cell_type": "markdown",
      "metadata": {
        "id": "ja9Dv4LMlzUv"
      },
      "source": [
        "In this segment, we're gonna run those script folder after folder. We're gonna test the loop here."
      ]
    },
    {
      "cell_type": "markdown",
      "metadata": {
        "id": "RsoIrjQ7MkN4"
      },
      "source": [
        "## AIM : Copying the amar_dataset to the live dataset  \n",
        "Note : This dataset contains the photos of students from our class. About 13 in number"
      ]
    },
    {
      "cell_type": "code",
      "metadata": {
        "id": "aCZ5aUAPIedi",
        "colab": {
          "base_uri": "https://localhost:8080/",
          "height": 1000
        },
        "outputId": "45188a00-5075-40fa-e17e-d80318ba1a71"
      },
      "source": [
        "# we gonna unzip the zip file that contains the amar_dataset\n",
        "!mkdir /content/face-recognition-opencv/dataset/amar_dataset\n",
        "!unzip /content/drive/My\\ Drive/dataset_local/amar_dataset/amar.zip -d /content/face-recognition-opencv/dataset/amar_dataset/"
      ],
      "execution_count": null,
      "outputs": [
        {
          "output_type": "stream",
          "text": [
            "Archive:  /content/drive/My Drive/dataset_local/amar_dataset/amar.zip\n",
            "   creating: /content/face-recognition-opencv/dataset/amar_dataset/Bharath/\n",
            "   creating: /content/face-recognition-opencv/dataset/amar_dataset/Amal_Mohan/\n",
            "  inflating: /content/face-recognition-opencv/dataset/amar_dataset/Shivatheertha/VID-20200409-WA0068_022.jpg  \n",
            "  inflating: /content/face-recognition-opencv/dataset/amar_dataset/Shivatheertha/VID-20200409-WA0068_027.jpg  \n",
            "  inflating: /content/face-recognition-opencv/dataset/amar_dataset/Shivatheertha/VID-20200409-WA0068_017.jpg  \n",
            "  inflating: /content/face-recognition-opencv/dataset/amar_dataset/Shivatheertha/VID-20200409-WA0068_042.jpg  \n",
            "  inflating: /content/face-recognition-opencv/dataset/amar_dataset/Shivatheertha/VID-20200409-WA0068_025.jpg  \n",
            "  inflating: /content/face-recognition-opencv/dataset/amar_dataset/Shivatheertha/VID-20200409-WA0068_019.jpg  \n",
            "  inflating: /content/face-recognition-opencv/dataset/amar_dataset/Shivatheertha/VID-20200409-WA0068_040.jpg  \n",
            "  inflating: /content/face-recognition-opencv/dataset/amar_dataset/Shivatheertha/VID-20200409-WA0068_030.jpg  \n",
            "  inflating: /content/face-recognition-opencv/dataset/amar_dataset/Shivatheertha/VID-20200409-WA0068_023.jpg  \n",
            "  inflating: /content/face-recognition-opencv/dataset/amar_dataset/Shivatheertha/VID-20200409-WA0068_045.jpg  \n",
            "  inflating: /content/face-recognition-opencv/dataset/amar_dataset/Shivatheertha/VID-20200409-WA0068_034.jpg  \n",
            "  inflating: /content/face-recognition-opencv/dataset/amar_dataset/Shivatheertha/VID-20200409-WA0068_046.jpg  \n",
            "  inflating: /content/face-recognition-opencv/dataset/amar_dataset/Shivatheertha/VID-20200409-WA0068_035.jpg  \n",
            "  inflating: /content/face-recognition-opencv/dataset/amar_dataset/Shivatheertha/VID-20200409-WA0068_039.jpg  \n",
            "  inflating: /content/face-recognition-opencv/dataset/amar_dataset/Shivatheertha/VID-20200409-WA0068_032.jpg  \n",
            "  inflating: /content/face-recognition-opencv/dataset/amar_dataset/Shivatheertha/VID-20200409-WA0068_041.jpg  \n",
            "  inflating: /content/face-recognition-opencv/dataset/amar_dataset/Amal_Vincent/VID-20200409-WA0062_047.jpg  \n",
            "  inflating: /content/face-recognition-opencv/dataset/amar_dataset/Shivatheertha/VID-20200409-WA0068_038.jpg  \n",
            "  inflating: /content/face-recognition-opencv/dataset/amar_dataset/Shivatheertha/VID-20200409-WA0068_029.jpg  \n",
            "  inflating: /content/face-recognition-opencv/dataset/amar_dataset/Anuroop/20200205_125056 113.jpg  \n",
            "  inflating: /content/face-recognition-opencv/dataset/amar_dataset/Shivatheertha/VID-20200409-WA0068_024.jpg  \n",
            "  inflating: /content/face-recognition-opencv/dataset/amar_dataset/Shivatheertha/VID-20200409-WA0068_033.jpg  \n",
            "  inflating: /content/face-recognition-opencv/dataset/amar_dataset/Anuroop/20200205_125056 090.jpg  \n",
            "  inflating: /content/face-recognition-opencv/dataset/amar_dataset/Shivatheertha/VID-20200409-WA0068_018.jpg  \n",
            "  inflating: /content/face-recognition-opencv/dataset/amar_dataset/Anuroop/20200205_125056 111.jpg  \n",
            "  inflating: /content/face-recognition-opencv/dataset/amar_dataset/Shivatheertha/VID-20200409-WA0068_028.jpg  \n",
            "  inflating: /content/face-recognition-opencv/dataset/amar_dataset/Anuroop/20200205_125056 059.jpg  \n",
            "  inflating: /content/face-recognition-opencv/dataset/amar_dataset/Anuroop/20200205_125056 024.jpg  \n",
            "  inflating: /content/face-recognition-opencv/dataset/amar_dataset/Shivatheertha/VID-20200409-WA0068_031.jpg  \n",
            "  inflating: /content/face-recognition-opencv/dataset/amar_dataset/Midhun/20200205_124803 100.jpg  \n",
            "  inflating: /content/face-recognition-opencv/dataset/amar_dataset/Midhun/20200205_124803 102.jpg  \n",
            "  inflating: /content/face-recognition-opencv/dataset/amar_dataset/Midhun/20200205_124803 041.jpg  \n",
            "  inflating: /content/face-recognition-opencv/dataset/amar_dataset/Midhun/20200205_124803 097.jpg  \n",
            "  inflating: /content/face-recognition-opencv/dataset/amar_dataset/Midhun/20200205_124803 045.jpg  \n",
            "  inflating: /content/face-recognition-opencv/dataset/amar_dataset/Akshay_PL/scene00112.jpeg  \n",
            "  inflating: /content/face-recognition-opencv/dataset/amar_dataset/Shivatheertha/VID-20200409-WA0068_036.jpg  \n",
            "  inflating: /content/face-recognition-opencv/dataset/amar_dataset/Midhun/20200205_124803 086.jpg  \n",
            "  inflating: /content/face-recognition-opencv/dataset/amar_dataset/Oscar/VID-20200409-WA0060_040.jpg  \n",
            "  inflating: /content/face-recognition-opencv/dataset/amar_dataset/Akshay_PL/scene00032(1).jpeg  \n",
            "  inflating: /content/face-recognition-opencv/dataset/amar_dataset/Ramdas/20200205_125201 117.jpg  \n",
            "  inflating: /content/face-recognition-opencv/dataset/amar_dataset/Akshay_PL/scene00060.jpeg  \n",
            "  inflating: /content/face-recognition-opencv/dataset/amar_dataset/Shivatheertha/VID-20200409-WA0068_020.jpg  \n",
            "  inflating: /content/face-recognition-opencv/dataset/amar_dataset/Amal_Vincent/VID-20200409-WA0062_035.jpg  \n",
            "  inflating: /content/face-recognition-opencv/dataset/amar_dataset/Ramdas/20200205_125201 104.jpg  \n",
            "  inflating: /content/face-recognition-opencv/dataset/amar_dataset/Ramdas/20200205_125201 114.jpg  \n",
            "  inflating: /content/face-recognition-opencv/dataset/amar_dataset/Amal_Vincent/VID-20200409-WA0062_009.jpg  \n",
            "  inflating: /content/face-recognition-opencv/dataset/amar_dataset/Amal_Vincent/VID-20200409-WA0062_061.jpg  \n",
            "  inflating: /content/face-recognition-opencv/dataset/amar_dataset/Navami/VID-20200409-WA0064 33.jpg  \n",
            "  inflating: /content/face-recognition-opencv/dataset/amar_dataset/Akshay_PL/scene00085.jpeg  \n",
            "  inflating: /content/face-recognition-opencv/dataset/amar_dataset/Navami/VID-20200409-WA0064 34.jpg  \n",
            "  inflating: /content/face-recognition-opencv/dataset/amar_dataset/Anuroop/20200205_125056 106.jpg  \n",
            "  inflating: /content/face-recognition-opencv/dataset/amar_dataset/Akshay_PL/scene00082.jpeg  \n",
            "  inflating: /content/face-recognition-opencv/dataset/amar_dataset/Navami/VID-20200409-WA0064 90.jpg  \n",
            "  inflating: /content/face-recognition-opencv/dataset/amar_dataset/Anuroop/20200205_125056 045.jpg  \n",
            "  inflating: /content/face-recognition-opencv/dataset/amar_dataset/Navami/VID-20200409-WA0064 09.jpg  \n",
            "  inflating: /content/face-recognition-opencv/dataset/amar_dataset/Akshay_PL/scene00053.jpeg  \n",
            "  inflating: /content/face-recognition-opencv/dataset/amar_dataset/Anuroop/20200205_125056 015.jpg  \n",
            "  inflating: /content/face-recognition-opencv/dataset/amar_dataset/Ramdas/20200205_125201 118.jpg  \n",
            "  inflating: /content/face-recognition-opencv/dataset/amar_dataset/Naveen/scene00163.jpeg  \n",
            "  inflating: /content/face-recognition-opencv/dataset/amar_dataset/Ramdas/20200205_125201 014.jpg  \n",
            "  inflating: /content/face-recognition-opencv/dataset/amar_dataset/Akshay_PL/scene00075.jpeg  \n",
            "  inflating: /content/face-recognition-opencv/dataset/amar_dataset/Naveen/scene00206.jpeg  \n",
            "  inflating: /content/face-recognition-opencv/dataset/amar_dataset/Midhun/20200205_124803 106.jpg  \n",
            "  inflating: /content/face-recognition-opencv/dataset/amar_dataset/Anuroop/20200205_125056 022.jpg  \n",
            "  inflating: /content/face-recognition-opencv/dataset/amar_dataset/Anuroop/20200205_125056 085.jpg  \n",
            "  inflating: /content/face-recognition-opencv/dataset/amar_dataset/Navami/VID-20200409-WA0064 20.jpg  \n",
            "  inflating: /content/face-recognition-opencv/dataset/amar_dataset/Adarsh/VID-20200409-WA0069_016.jpg  \n",
            "  inflating: /content/face-recognition-opencv/dataset/amar_dataset/Adarsh/VID-20200409-WA0069_038.jpg  \n",
            "  inflating: /content/face-recognition-opencv/dataset/amar_dataset/Akshay_PL/scene00127.jpeg  \n",
            "  inflating: /content/face-recognition-opencv/dataset/amar_dataset/Naveen/scene00153.jpeg  \n",
            "  inflating: /content/face-recognition-opencv/dataset/amar_dataset/Uma_U/VID-20200409-WA0071_010.jpg  \n",
            "  inflating: /content/face-recognition-opencv/dataset/amar_dataset/Naveen/scene00199.jpeg  \n",
            "  inflating: /content/face-recognition-opencv/dataset/amar_dataset/Anuroop/20200205_125056 060.jpg  \n",
            "  inflating: /content/face-recognition-opencv/dataset/amar_dataset/Sruthi/VID-20200409-WA0070_004.jpg  \n",
            "  inflating: /content/face-recognition-opencv/dataset/amar_dataset/Akshay_PL/scene00036.jpeg  \n",
            "  inflating: /content/face-recognition-opencv/dataset/amar_dataset/Ramdas/20200205_125201 006.jpg  \n",
            "  inflating: /content/face-recognition-opencv/dataset/amar_dataset/Amal_Vincent/VID-20200409-WA0062_070.jpg  \n",
            "  inflating: /content/face-recognition-opencv/dataset/amar_dataset/Akshay_PL/scene00034.jpeg  \n",
            "  inflating: /content/face-recognition-opencv/dataset/amar_dataset/Athira/VID-20200409-WA0061_000.jpg  \n",
            "  inflating: /content/face-recognition-opencv/dataset/amar_dataset/Anuroop/20200205_125056 004.jpg  \n",
            "  inflating: /content/face-recognition-opencv/dataset/amar_dataset/Navami/VID-20200409-WA0064 64.jpg  \n",
            "  inflating: /content/face-recognition-opencv/dataset/amar_dataset/Ramdas/20200205_125201 075.jpg  \n",
            "  inflating: /content/face-recognition-opencv/dataset/amar_dataset/Midhun/20200205_124803 126.jpg  \n",
            "  inflating: /content/face-recognition-opencv/dataset/amar_dataset/Naveen/scene00155.jpeg  \n",
            "  inflating: /content/face-recognition-opencv/dataset/amar_dataset/Midhun/20200205_124803 025.jpg  \n",
            "  inflating: /content/face-recognition-opencv/dataset/amar_dataset/Navami/VID-20200409-WA0064 21.jpg  \n",
            "  inflating: /content/face-recognition-opencv/dataset/amar_dataset/Akshay_PL/scene00056.jpeg  \n",
            "  inflating: /content/face-recognition-opencv/dataset/amar_dataset/Naveen/scene00213.jpeg  \n",
            "  inflating: /content/face-recognition-opencv/dataset/amar_dataset/Athira/VID-20200409-WA0061_042.jpg  \n",
            "  inflating: /content/face-recognition-opencv/dataset/amar_dataset/Akshay_PL/scene00040.jpeg  \n",
            "  inflating: /content/face-recognition-opencv/dataset/amar_dataset/Navami/VID-20200409-WA0064 36.jpg  \n",
            "  inflating: /content/face-recognition-opencv/dataset/amar_dataset/Navami/VID-20200409-WA0064 38.jpg  \n",
            "  inflating: /content/face-recognition-opencv/dataset/amar_dataset/Oscar/VID-20200409-WA0060_037.jpg  \n",
            "  inflating: /content/face-recognition-opencv/dataset/amar_dataset/Ramdas/20200205_125201 146.jpg  \n",
            "  inflating: /content/face-recognition-opencv/dataset/amar_dataset/Amal_Vincent/VID-20200409-WA0062_056.jpg  \n",
            "  inflating: /content/face-recognition-opencv/dataset/amar_dataset/Akshay_PL/scene00106.jpeg  \n",
            "  inflating: /content/face-recognition-opencv/dataset/amar_dataset/Amal_Vincent/VID-20200409-WA0062_044.jpg  \n",
            "  inflating: /content/face-recognition-opencv/dataset/amar_dataset/Adarsh/VID-20200409-WA0069_027.jpg  \n",
            "  inflating: /content/face-recognition-opencv/dataset/amar_dataset/Uma_U/VID-20200409-WA0071_031.jpg  \n",
            "  inflating: /content/face-recognition-opencv/dataset/amar_dataset/Naveen/scene00200.jpeg  \n",
            "  inflating: /content/face-recognition-opencv/dataset/amar_dataset/Ramdas/20200205_125201 078.jpg  \n",
            "  inflating: /content/face-recognition-opencv/dataset/amar_dataset/Akshay_PL/scene00008.jpeg  \n",
            "  inflating: /content/face-recognition-opencv/dataset/amar_dataset/Akshay_PL/scene00037.jpeg  \n",
            "  inflating: /content/face-recognition-opencv/dataset/amar_dataset/Midhun/20200205_124803 135.jpg  \n",
            "  inflating: /content/face-recognition-opencv/dataset/amar_dataset/Amal_Vincent/VID-20200409-WA0062_029.jpg  \n",
            "  inflating: /content/face-recognition-opencv/dataset/amar_dataset/Akshay_PL/scene00061.jpeg  \n",
            "  inflating: /content/face-recognition-opencv/dataset/amar_dataset/Akshay_PL/scene00096.jpeg  \n",
            "  inflating: /content/face-recognition-opencv/dataset/amar_dataset/Adarsh/VID-20200409-WA0069_021.jpg  \n",
            "  inflating: /content/face-recognition-opencv/dataset/amar_dataset/Ramdas/20200205_125201 011.jpg  \n",
            "  inflating: /content/face-recognition-opencv/dataset/amar_dataset/Midhun/20200205_124803 062.jpg  \n",
            "  inflating: /content/face-recognition-opencv/dataset/amar_dataset/Sruthi/VID-20200409-WA0070_014.jpg  \n",
            "  inflating: /content/face-recognition-opencv/dataset/amar_dataset/Navami/VID-20200409-WA0064 47.jpg  \n",
            "  inflating: /content/face-recognition-opencv/dataset/amar_dataset/Midhun/20200205_124803 006.jpg  \n",
            "  inflating: /content/face-recognition-opencv/dataset/amar_dataset/Akshay_PL/scene00025.jpeg  \n",
            "  inflating: /content/face-recognition-opencv/dataset/amar_dataset/Navami/VID-20200409-WA0064 07.jpg  \n",
            "  inflating: /content/face-recognition-opencv/dataset/amar_dataset/Adarsh/VID-20200409-WA0069_037.jpg  \n",
            "  inflating: /content/face-recognition-opencv/dataset/amar_dataset/Amal_Vincent/VID-20200409-WA0062_065.jpg  \n",
            "  inflating: /content/face-recognition-opencv/dataset/amar_dataset/Adarsh/VID-20200409-WA0069_044.jpg  \n",
            "  inflating: /content/face-recognition-opencv/dataset/amar_dataset/Akshay_PL/scene00072.jpeg  \n",
            "  inflating: /content/face-recognition-opencv/dataset/amar_dataset/Anuroop/20200205_125056 062.jpg  \n",
            "  inflating: /content/face-recognition-opencv/dataset/amar_dataset/Amal_Vincent/VID-20200409-WA0062_048.jpg  \n",
            "  inflating: /content/face-recognition-opencv/dataset/amar_dataset/Athira/VID-20200409-WA0061_025.jpg  \n",
            "  inflating: /content/face-recognition-opencv/dataset/amar_dataset/Akshay_PL/scene00078.jpeg  \n",
            "  inflating: /content/face-recognition-opencv/dataset/amar_dataset/Akshay_PL/scene00113.jpeg  \n",
            "  inflating: /content/face-recognition-opencv/dataset/amar_dataset/Ramdas/20200205_125201 122.jpg  \n",
            "  inflating: /content/face-recognition-opencv/dataset/amar_dataset/Athira/VID-20200409-WA0061_041.jpg  \n",
            "  inflating: /content/face-recognition-opencv/dataset/amar_dataset/Navami/VID-20200409-WA0064 17.jpg  \n",
            "  inflating: /content/face-recognition-opencv/dataset/amar_dataset/Naveen/scene00196.jpeg  \n",
            "  inflating: /content/face-recognition-opencv/dataset/amar_dataset/Naveen/scene00141.jpeg  \n",
            "  inflating: /content/face-recognition-opencv/dataset/amar_dataset/Ramdas/20200205_125201 084.jpg  \n",
            "  inflating: /content/face-recognition-opencv/dataset/amar_dataset/Amal_Vincent/VID-20200409-WA0062_001.jpg  \n",
            "  inflating: /content/face-recognition-opencv/dataset/amar_dataset/Anuroop/20200205_125056 014.jpg  \n",
            "  inflating: /content/face-recognition-opencv/dataset/amar_dataset/Midhun/20200205_124803 132.jpg  \n",
            "  inflating: /content/face-recognition-opencv/dataset/amar_dataset/Midhun/20200205_124803 008.jpg  \n",
            "  inflating: /content/face-recognition-opencv/dataset/amar_dataset/Naveen/scene00158.jpeg  \n",
            "  inflating: /content/face-recognition-opencv/dataset/amar_dataset/Akshay_PL/scene00065.jpeg  \n",
            "  inflating: /content/face-recognition-opencv/dataset/amar_dataset/Amal_Vincent/VID-20200409-WA0062_054.jpg  \n",
            "  inflating: /content/face-recognition-opencv/dataset/amar_dataset/Akshay_PL/scene00109.jpeg  \n",
            "  inflating: /content/face-recognition-opencv/dataset/amar_dataset/Amal_Vincent/VID-20200409-WA0062_023.jpg  \n",
            "  inflating: /content/face-recognition-opencv/dataset/amar_dataset/Navami/VID-20200409-WA0064 14.jpg  \n",
            "  inflating: /content/face-recognition-opencv/dataset/amar_dataset/Oscar/VID-20200409-WA0060_013.jpg  \n",
            "  inflating: /content/face-recognition-opencv/dataset/amar_dataset/Athira/VID-20200409-WA0061_008.jpg  \n",
            "  inflating: /content/face-recognition-opencv/dataset/amar_dataset/Amal_Vincent/VID-20200409-WA0062_008.jpg  \n",
            "  inflating: /content/face-recognition-opencv/dataset/amar_dataset/Naveen/scene00195.jpeg  \n",
            "  inflating: /content/face-recognition-opencv/dataset/amar_dataset/Midhun/20200205_124803 069.jpg  \n",
            "  inflating: /content/face-recognition-opencv/dataset/amar_dataset/Adarsh/VID-20200409-WA0069_012.jpg  \n",
            "  inflating: /content/face-recognition-opencv/dataset/amar_dataset/Amal_Vincent/VID-20200409-WA0062_060.jpg  \n",
            "  inflating: /content/face-recognition-opencv/dataset/amar_dataset/Ramdas/20200205_125201 065.jpg  \n",
            "  inflating: /content/face-recognition-opencv/dataset/amar_dataset/Amal_Vincent/VID-20200409-WA0062_043.jpg  \n",
            "  inflating: /content/face-recognition-opencv/dataset/amar_dataset/Akshay_PL/scene00079.jpeg  \n",
            "  inflating: /content/face-recognition-opencv/dataset/amar_dataset/Sruthi/VID-20200409-WA0070_003.jpg  \n",
            "  inflating: /content/face-recognition-opencv/dataset/amar_dataset/Akshay_PL/scene00055.jpeg  \n",
            "  inflating: /content/face-recognition-opencv/dataset/amar_dataset/Amal_Vincent/VID-20200409-WA0062_045.jpg  \n",
            "  inflating: /content/face-recognition-opencv/dataset/amar_dataset/Naveen/scene00209.jpeg  \n",
            "  inflating: /content/face-recognition-opencv/dataset/amar_dataset/Naveen/scene00205.jpeg  \n",
            "  inflating: /content/face-recognition-opencv/dataset/amar_dataset/Ramdas/20200205_125201 021.jpg  \n",
            "  inflating: /content/face-recognition-opencv/dataset/amar_dataset/Navami/VID-20200409-WA0064 11.jpg  \n",
            "  inflating: /content/face-recognition-opencv/dataset/amar_dataset/Oscar/VID-20200409-WA0060_027.jpg  \n",
            "  inflating: /content/face-recognition-opencv/dataset/amar_dataset/Ramdas/20200205_125201 116.jpg  \n",
            "  inflating: /content/face-recognition-opencv/dataset/amar_dataset/Akshay_PL/scene00043.jpeg  \n",
            "  inflating: /content/face-recognition-opencv/dataset/amar_dataset/Uma_U/VID-20200409-WA0071_019.jpg  \n",
            "  inflating: /content/face-recognition-opencv/dataset/amar_dataset/Akshay_PL/scene00048.jpeg  \n",
            "  inflating: /content/face-recognition-opencv/dataset/amar_dataset/Naveen/scene00145.jpeg  \n",
            "  inflating: /content/face-recognition-opencv/dataset/amar_dataset/Uma_U/VID-20200409-WA0071_043.jpg  \n",
            "  inflating: /content/face-recognition-opencv/dataset/amar_dataset/Anuroop/20200205_125056 068.jpg  \n",
            "  inflating: /content/face-recognition-opencv/dataset/amar_dataset/Amal_Vincent/VID-20200409-WA0062_028.jpg  \n",
            "  inflating: /content/face-recognition-opencv/dataset/amar_dataset/Anuroop/20200205_125056 056.jpg  \n",
            "  inflating: /content/face-recognition-opencv/dataset/amar_dataset/Anuroop/20200205_125056 039.jpg  \n",
            "  inflating: /content/face-recognition-opencv/dataset/amar_dataset/Akshay_PL/scene00011.jpeg  \n",
            "  inflating: /content/face-recognition-opencv/dataset/amar_dataset/Shivatheertha/VID-20200409-WA0068_043.jpg  \n",
            "  inflating: /content/face-recognition-opencv/dataset/amar_dataset/Sruthi/VID-20200409-WA0070_024.jpg  \n",
            "  inflating: /content/face-recognition-opencv/dataset/amar_dataset/Uma_U/VID-20200409-WA0071_013.jpg  \n",
            "  inflating: /content/face-recognition-opencv/dataset/amar_dataset/Naveen/scene00185.jpeg  \n",
            "  inflating: /content/face-recognition-opencv/dataset/amar_dataset/Anuroop/20200205_125056 079.jpg  \n",
            "  inflating: /content/face-recognition-opencv/dataset/amar_dataset/Midhun/20200205_124803 140.jpg  \n",
            "  inflating: /content/face-recognition-opencv/dataset/amar_dataset/Ramdas/20200205_125201 005.jpg  \n",
            "  inflating: /content/face-recognition-opencv/dataset/amar_dataset/Midhun/20200205_124803 104.jpg  \n",
            "  inflating: /content/face-recognition-opencv/dataset/amar_dataset/Akshay_PL/scene00046.jpeg  \n",
            "  inflating: /content/face-recognition-opencv/dataset/amar_dataset/Midhun/20200205_124803 080.jpg  \n",
            "  inflating: /content/face-recognition-opencv/dataset/amar_dataset/Akshay_PL/scene00081.jpeg  \n",
            "  inflating: /content/face-recognition-opencv/dataset/amar_dataset/Ramdas/20200205_125201 070.jpg  \n",
            "  inflating: /content/face-recognition-opencv/dataset/amar_dataset/Midhun/20200205_124803 014.jpg  \n",
            "  inflating: /content/face-recognition-opencv/dataset/amar_dataset/Naveen/scene00202.jpeg  \n",
            "  inflating: /content/face-recognition-opencv/dataset/amar_dataset/Ramdas/20200205_125201 152.jpg  \n",
            "  inflating: /content/face-recognition-opencv/dataset/amar_dataset/Anuroop/20200205_125056 038.jpg  \n",
            "  inflating: /content/face-recognition-opencv/dataset/amar_dataset/Anuroop/20200205_125056 114.jpg  \n",
            "  inflating: /content/face-recognition-opencv/dataset/amar_dataset/Ramdas/20200205_125201 028.jpg  \n",
            "  inflating: /content/face-recognition-opencv/dataset/amar_dataset/Akshay_PL/scene00010.jpeg  \n",
            "  inflating: /content/face-recognition-opencv/dataset/amar_dataset/Athira/VID-20200409-WA0061_038.jpg  \n",
            "  inflating: /content/face-recognition-opencv/dataset/amar_dataset/Anuroop/20200205_125056 028.jpg  \n",
            "  inflating: /content/face-recognition-opencv/dataset/amar_dataset/Anuroop/20200205_125056 103.jpg  \n",
            "  inflating: /content/face-recognition-opencv/dataset/amar_dataset/Naveen/scene00189.jpeg  \n",
            "  inflating: /content/face-recognition-opencv/dataset/amar_dataset/Sruthi/VID-20200409-WA0070_028.jpg  \n",
            "  inflating: /content/face-recognition-opencv/dataset/amar_dataset/Oscar/VID-20200409-WA0060_022.jpg  \n",
            "  inflating: /content/face-recognition-opencv/dataset/amar_dataset/Navami/VID-20200409-WA0064 59.jpg  \n",
            "  inflating: /content/face-recognition-opencv/dataset/amar_dataset/Naveen/scene00135.jpeg  \n",
            "  inflating: /content/face-recognition-opencv/dataset/amar_dataset/Oscar/VID-20200409-WA0060_061.jpg  \n",
            "  inflating: /content/face-recognition-opencv/dataset/amar_dataset/Akshay_PL/scene00098.jpeg  \n",
            "  inflating: /content/face-recognition-opencv/dataset/amar_dataset/Sruthi/VID-20200409-WA0070_041.jpg  \n",
            "  inflating: /content/face-recognition-opencv/dataset/amar_dataset/Akshay_PL/scene00039.jpeg  \n",
            "  inflating: /content/face-recognition-opencv/dataset/amar_dataset/Akshay_PL/scene00104.jpeg  \n",
            "  inflating: /content/face-recognition-opencv/dataset/amar_dataset/Adarsh/VID-20200409-WA0069_017.jpg  \n",
            "  inflating: /content/face-recognition-opencv/dataset/amar_dataset/Midhun/20200205_124803 033.jpg  \n",
            "  inflating: /content/face-recognition-opencv/dataset/amar_dataset/Shivatheertha/VID-20200409-WA0068_006.jpg  \n",
            "  inflating: /content/face-recognition-opencv/dataset/amar_dataset/Akshay_PL/scene00086.jpeg  \n",
            "  inflating: /content/face-recognition-opencv/dataset/amar_dataset/Anuroop/20200205_125056 013.jpg  \n",
            "  inflating: /content/face-recognition-opencv/dataset/amar_dataset/Anuroop/20200205_125056 118.jpg  \n",
            "  inflating: /content/face-recognition-opencv/dataset/amar_dataset/Naveen/scene00166.jpeg  \n",
            "  inflating: /content/face-recognition-opencv/dataset/amar_dataset/Sruthi/VID-20200409-WA0070_034.jpg  \n",
            "  inflating: /content/face-recognition-opencv/dataset/amar_dataset/Akshay_PL/scene00049.jpeg  \n",
            "  inflating: /content/face-recognition-opencv/dataset/amar_dataset/Navami/VID-20200409-WA0064 43.jpg  \n",
            "  inflating: /content/face-recognition-opencv/dataset/amar_dataset/Naveen/scene00162.jpeg  \n",
            "  inflating: /content/face-recognition-opencv/dataset/amar_dataset/Anuroop/20200205_125056 121.jpg  \n",
            "  inflating: /content/face-recognition-opencv/dataset/amar_dataset/Navami/VID-20200409-WA0064 85.jpg  \n",
            "  inflating: /content/face-recognition-opencv/dataset/amar_dataset/Akshay_PL/scene00017.jpeg  \n",
            "  inflating: /content/face-recognition-opencv/dataset/amar_dataset/Uma_U/VID-20200409-WA0071_011.jpg  \n",
            "  inflating: /content/face-recognition-opencv/dataset/amar_dataset/Sruthi/VID-20200409-WA0070_031.jpg  \n",
            "  inflating: /content/face-recognition-opencv/dataset/amar_dataset/Oscar/VID-20200409-WA0060_000.jpg  \n",
            "  inflating: /content/face-recognition-opencv/dataset/amar_dataset/Navami/VID-20200409-WA0064 12.jpg  \n",
            "  inflating: /content/face-recognition-opencv/dataset/amar_dataset/Navami/VID-20200409-WA0064 24.jpg  \n",
            "  inflating: /content/face-recognition-opencv/dataset/amar_dataset/Oscar/VID-20200409-WA0060_049.jpg  \n",
            "  inflating: /content/face-recognition-opencv/dataset/amar_dataset/Midhun/20200205_124803 007.jpg  \n",
            "  inflating: /content/face-recognition-opencv/dataset/amar_dataset/Anuroop/20200205_125056 007.jpg  \n",
            "  inflating: /content/face-recognition-opencv/dataset/amar_dataset/Ramdas/20200205_125201 139.jpg  \n",
            "  inflating: /content/face-recognition-opencv/dataset/amar_dataset/Oscar/VID-20200409-WA0060_015.jpg  \n",
            "  inflating: /content/face-recognition-opencv/dataset/amar_dataset/Athira/VID-20200409-WA0061_040.jpg  \n",
            "  inflating: /content/face-recognition-opencv/dataset/amar_dataset/Sruthi/VID-20200409-WA0070_000.jpg  \n",
            "  inflating: /content/face-recognition-opencv/dataset/amar_dataset/Midhun/20200205_124803 031.jpg  \n",
            "  inflating: /content/face-recognition-opencv/dataset/amar_dataset/Adarsh/VID-20200409-WA0069_028.jpg  \n",
            "  inflating: /content/face-recognition-opencv/dataset/amar_dataset/Amal_Vincent/VID-20200409-WA0062_038.jpg  \n",
            "  inflating: /content/face-recognition-opencv/dataset/amar_dataset/Sruthi/VID-20200409-WA0070_012.jpg  \n",
            "  inflating: /content/face-recognition-opencv/dataset/amar_dataset/Uma_U/VID-20200409-WA0071_023.jpg  \n",
            "  inflating: /content/face-recognition-opencv/dataset/amar_dataset/Anuroop/20200205_125056 073.jpg  \n",
            "  inflating: /content/face-recognition-opencv/dataset/amar_dataset/Ramdas/20200205_125201 064.jpg  \n",
            "  inflating: /content/face-recognition-opencv/dataset/amar_dataset/Akshay_PL/scene00031(1).jpeg  \n",
            "  inflating: /content/face-recognition-opencv/dataset/amar_dataset/Uma_U/VID-20200409-WA0071_022.jpg  \n",
            "  inflating: /content/face-recognition-opencv/dataset/amar_dataset/Athira/VID-20200409-WA0061_034.jpg  \n",
            "  inflating: /content/face-recognition-opencv/dataset/amar_dataset/Uma_U/VID-20200409-WA0071_025.jpg  \n",
            "  inflating: /content/face-recognition-opencv/dataset/amar_dataset/Midhun/20200205_124803 049.jpg  \n",
            "  inflating: /content/face-recognition-opencv/dataset/amar_dataset/Akshay_PL/scene00014.jpeg  \n",
            "  inflating: /content/face-recognition-opencv/dataset/amar_dataset/Midhun/20200205_124803 010.jpg  \n",
            "  inflating: /content/face-recognition-opencv/dataset/amar_dataset/Navami/VID-20200409-WA0064 46.jpg  \n",
            "  inflating: /content/face-recognition-opencv/dataset/amar_dataset/Anuroop/20200205_125056 107.jpg  \n",
            "  inflating: /content/face-recognition-opencv/dataset/amar_dataset/Akshay_PL/scene00027.jpeg  \n",
            "  inflating: /content/face-recognition-opencv/dataset/amar_dataset/Oscar/VID-20200409-WA0060_004.jpg  \n",
            "  inflating: /content/face-recognition-opencv/dataset/amar_dataset/Naveen/scene00165.jpeg  \n",
            "  inflating: /content/face-recognition-opencv/dataset/amar_dataset/Anuroop/20200205_125056 074.jpg  \n",
            "  inflating: /content/face-recognition-opencv/dataset/amar_dataset/Midhun/20200205_124803 056.jpg  \n",
            "  inflating: /content/face-recognition-opencv/dataset/amar_dataset/Naveen/scene00140.jpeg  \n",
            "  inflating: /content/face-recognition-opencv/dataset/amar_dataset/Navami/VID-20200409-WA0064 48.jpg  \n",
            "  inflating: /content/face-recognition-opencv/dataset/amar_dataset/Navami/VID-20200409-WA0064 18.jpg  \n",
            "  inflating: /content/face-recognition-opencv/dataset/amar_dataset/Midhun/20200205_124803 121.jpg  \n",
            "  inflating: /content/face-recognition-opencv/dataset/amar_dataset/Ramdas/20200205_125201 093.jpg  \n",
            "  inflating: /content/face-recognition-opencv/dataset/amar_dataset/Athira/VID-20200409-WA0061_033.jpg  \n",
            "  inflating: /content/face-recognition-opencv/dataset/amar_dataset/Naveen/scene00211.jpeg  \n",
            "  inflating: /content/face-recognition-opencv/dataset/amar_dataset/Amal_Vincent/VID-20200409-WA0062_022.jpg  \n",
            "  inflating: /content/face-recognition-opencv/dataset/amar_dataset/Midhun/20200205_124803 071.jpg  \n",
            "  inflating: /content/face-recognition-opencv/dataset/amar_dataset/Akshay_PL/scene00087.jpeg  \n",
            "  inflating: /content/face-recognition-opencv/dataset/amar_dataset/Ramdas/20200205_125201 080.jpg  \n",
            "  inflating: /content/face-recognition-opencv/dataset/amar_dataset/Midhun/20200205_124803 091.jpg  \n",
            "  inflating: /content/face-recognition-opencv/dataset/amar_dataset/Akshay_PL/scene00121.jpeg  \n",
            "  inflating: /content/face-recognition-opencv/dataset/amar_dataset/Naveen/scene00203.jpeg  \n",
            "  inflating: /content/face-recognition-opencv/dataset/amar_dataset/Ramdas/20200205_125201 036.jpg  \n",
            "  inflating: /content/face-recognition-opencv/dataset/amar_dataset/Akshay_PL/scene00020.jpeg  \n",
            "  inflating: /content/face-recognition-opencv/dataset/amar_dataset/Naveen/scene00191.jpeg  \n",
            "  inflating: /content/face-recognition-opencv/dataset/amar_dataset/Ramdas/20200205_125201 037.jpg  \n",
            "  inflating: /content/face-recognition-opencv/dataset/amar_dataset/Adarsh/VID-20200409-WA0069_013.jpg  \n",
            "  inflating: /content/face-recognition-opencv/dataset/amar_dataset/Akshay_PL/scene00126.jpeg  \n",
            "  inflating: /content/face-recognition-opencv/dataset/amar_dataset/Ramdas/20200205_125201 098.jpg  \n",
            "  inflating: /content/face-recognition-opencv/dataset/amar_dataset/Oscar/VID-20200409-WA0060_019.jpg  \n",
            "  inflating: /content/face-recognition-opencv/dataset/amar_dataset/Midhun/20200205_124803 035.jpg  \n",
            "  inflating: /content/face-recognition-opencv/dataset/amar_dataset/Akshay_PL/scene00101.jpeg  \n",
            "  inflating: /content/face-recognition-opencv/dataset/amar_dataset/Ramdas/20200205_125201 126.jpg  \n",
            "  inflating: /content/face-recognition-opencv/dataset/amar_dataset/Anuroop/20200205_125056 095.jpg  \n",
            "  inflating: /content/face-recognition-opencv/dataset/amar_dataset/Navami/VID-20200409-WA0064 68.jpg  \n",
            "  inflating: /content/face-recognition-opencv/dataset/amar_dataset/Oscar/VID-20200409-WA0060_068.jpg  \n",
            "  inflating: /content/face-recognition-opencv/dataset/amar_dataset/Amal_Vincent/VID-20200409-WA0062_049.jpg  \n",
            "  inflating: /content/face-recognition-opencv/dataset/amar_dataset/Adarsh/VID-20200409-WA0069_029.jpg  \n",
            "  inflating: /content/face-recognition-opencv/dataset/amar_dataset/Ramdas/20200205_125201 044.jpg  \n",
            "  inflating: /content/face-recognition-opencv/dataset/amar_dataset/Amal_Vincent/VID-20200409-WA0062_021.jpg  \n",
            "  inflating: /content/face-recognition-opencv/dataset/amar_dataset/Midhun/20200205_124803 101.jpg  \n",
            "  inflating: /content/face-recognition-opencv/dataset/amar_dataset/Midhun/20200205_124803 019.jpg  \n",
            "  inflating: /content/face-recognition-opencv/dataset/amar_dataset/Navami/VID-20200409-WA0064 15.jpg  \n",
            "  inflating: /content/face-recognition-opencv/dataset/amar_dataset/Ramdas/20200205_125201 077.jpg  \n",
            "  inflating: /content/face-recognition-opencv/dataset/amar_dataset/Adarsh/VID-20200409-WA0069_008.jpg  \n",
            "  inflating: /content/face-recognition-opencv/dataset/amar_dataset/Midhun/20200205_124803 107.jpg  \n",
            "  inflating: /content/face-recognition-opencv/dataset/amar_dataset/Ramdas/20200205_125201 142.jpg  \n",
            "  inflating: /content/face-recognition-opencv/dataset/amar_dataset/Ramdas/20200205_125201 102.jpg  \n",
            "  inflating: /content/face-recognition-opencv/dataset/amar_dataset/Navami/VID-20200409-WA0064 13.jpg  \n",
            "  inflating: /content/face-recognition-opencv/dataset/amar_dataset/Athira/VID-20200409-WA0061_024.jpg  \n",
            "  inflating: /content/face-recognition-opencv/dataset/amar_dataset/Naveen/scene00150.jpeg  \n",
            "  inflating: /content/face-recognition-opencv/dataset/amar_dataset/Adarsh/VID-20200409-WA0069_025.jpg  \n",
            "  inflating: /content/face-recognition-opencv/dataset/amar_dataset/Amal_Vincent/VID-20200409-WA0062_079.jpg  \n",
            "  inflating: /content/face-recognition-opencv/dataset/amar_dataset/Amal_Vincent/VID-20200409-WA0062_073.jpg  \n",
            "  inflating: /content/face-recognition-opencv/dataset/amar_dataset/Navami/VID-20200409-WA0064 02.jpg  \n",
            "  inflating: /content/face-recognition-opencv/dataset/amar_dataset/Navami/VID-20200409-WA0064 28.jpg  \n",
            "  inflating: /content/face-recognition-opencv/dataset/amar_dataset/Navami/VID-20200409-WA0064 22.jpg  \n",
            "  inflating: /content/face-recognition-opencv/dataset/amar_dataset/Ramdas/20200205_125201 100.jpg  \n",
            "  inflating: /content/face-recognition-opencv/dataset/amar_dataset/Uma_U/VID-20200409-WA0071_004.jpg  \n",
            "  inflating: /content/face-recognition-opencv/dataset/amar_dataset/Midhun/20200205_124803 092.jpg  \n",
            "  inflating: /content/face-recognition-opencv/dataset/amar_dataset/Ramdas/20200205_125201 115.jpg  \n",
            "  inflating: /content/face-recognition-opencv/dataset/amar_dataset/Navami/VID-20200409-WA0064 08.jpg  \n",
            "  inflating: /content/face-recognition-opencv/dataset/amar_dataset/Athira/VID-20200409-WA0061_029.jpg  \n",
            "  inflating: /content/face-recognition-opencv/dataset/amar_dataset/Akshay_PL/scene00090.jpeg  \n",
            "  inflating: /content/face-recognition-opencv/dataset/amar_dataset/Midhun/20200205_124803 096.jpg  \n",
            "  inflating: /content/face-recognition-opencv/dataset/amar_dataset/Adarsh/VID-20200409-WA0069_020.jpg  \n",
            "  inflating: /content/face-recognition-opencv/dataset/amar_dataset/Naveen/scene00172.jpeg  \n",
            "  inflating: /content/face-recognition-opencv/dataset/amar_dataset/Midhun/20200205_124803 017.jpg  \n",
            "  inflating: /content/face-recognition-opencv/dataset/amar_dataset/Ramdas/20200205_125201 040.jpg  \n",
            "  inflating: /content/face-recognition-opencv/dataset/amar_dataset/Naveen/scene00190.jpeg  \n",
            "  inflating: /content/face-recognition-opencv/dataset/amar_dataset/Athira/VID-20200409-WA0061_002.jpg  \n",
            "  inflating: /content/face-recognition-opencv/dataset/amar_dataset/Akshay_PL/scene00031.jpeg  \n",
            "  inflating: /content/face-recognition-opencv/dataset/amar_dataset/Ramdas/20200205_125201 143.jpg  \n",
            "  inflating: /content/face-recognition-opencv/dataset/amar_dataset/Oscar/VID-20200409-WA0060_051.jpg  \n",
            "  inflating: /content/face-recognition-opencv/dataset/amar_dataset/Midhun/20200205_124803 128.jpg  \n",
            "  inflating: /content/face-recognition-opencv/dataset/amar_dataset/Midhun/20200205_124803 027.jpg  \n",
            "  inflating: /content/face-recognition-opencv/dataset/amar_dataset/Midhun/20200205_124803 005.jpg  \n",
            "  inflating: /content/face-recognition-opencv/dataset/amar_dataset/Shivatheertha/VID-20200409-WA0068_014.jpg  \n",
            "  inflating: /content/face-recognition-opencv/dataset/amar_dataset/Akshay_PL/scene00022.jpeg  \n",
            "  inflating: /content/face-recognition-opencv/dataset/amar_dataset/Ramdas/20200205_125201 007.jpg  \n",
            "  inflating: /content/face-recognition-opencv/dataset/amar_dataset/Ramdas/20200205_125201 148.jpg  \n",
            "  inflating: /content/face-recognition-opencv/dataset/amar_dataset/Navami/VID-20200409-WA0064 37.jpg  \n",
            "  inflating: /content/face-recognition-opencv/dataset/amar_dataset/Ramdas/20200205_125201 002.jpg  \n",
            "  inflating: /content/face-recognition-opencv/dataset/amar_dataset/Uma_U/VID-20200409-WA0071_000.jpg  \n",
            "  inflating: /content/face-recognition-opencv/dataset/amar_dataset/Anuroop/20200205_125056 092.jpg  \n",
            "  inflating: /content/face-recognition-opencv/dataset/amar_dataset/Amal_Vincent/VID-20200409-WA0062_051.jpg  \n",
            "  inflating: /content/face-recognition-opencv/dataset/amar_dataset/Ramdas/20200205_125201 048.jpg  \n",
            "  inflating: /content/face-recognition-opencv/dataset/amar_dataset/Anuroop/20200205_125056 116.jpg  \n",
            "  inflating: /content/face-recognition-opencv/dataset/amar_dataset/Anuroop/20200205_125056 029.jpg  \n",
            "  inflating: /content/face-recognition-opencv/dataset/amar_dataset/Naveen/scene00134.jpeg  \n",
            "  inflating: /content/face-recognition-opencv/dataset/amar_dataset/Sruthi/VID-20200409-WA0070_025.jpg  \n",
            "  inflating: /content/face-recognition-opencv/dataset/amar_dataset/Amal_Vincent/VID-20200409-WA0062_010.jpg  \n",
            "  inflating: /content/face-recognition-opencv/dataset/amar_dataset/Anuroop/20200205_125056 099.jpg  \n",
            "  inflating: /content/face-recognition-opencv/dataset/amar_dataset/Navami/VID-20200409-WA0064 27.jpg  \n",
            "  inflating: /content/face-recognition-opencv/dataset/amar_dataset/Anuroop/20200205_125056 067.jpg  \n",
            "  inflating: /content/face-recognition-opencv/dataset/amar_dataset/Midhun/20200205_124803 065.jpg  \n",
            "  inflating: /content/face-recognition-opencv/dataset/amar_dataset/Amal_Vincent/VID-20200409-WA0062_075.jpg  \n",
            "  inflating: /content/face-recognition-opencv/dataset/amar_dataset/Naveen/scene00193.jpeg  \n",
            "  inflating: /content/face-recognition-opencv/dataset/amar_dataset/Adarsh/VID-20200409-WA0069_010.jpg  \n",
            "  inflating: /content/face-recognition-opencv/dataset/amar_dataset/Akshay_PL/scene00038.jpeg  \n",
            "  inflating: /content/face-recognition-opencv/dataset/amar_dataset/Ramdas/20200205_125201 085.jpg  \n",
            "  inflating: /content/face-recognition-opencv/dataset/amar_dataset/Oscar/VID-20200409-WA0060_029.jpg  \n",
            "  inflating: /content/face-recognition-opencv/dataset/amar_dataset/Midhun/20200205_124803 117.jpg  \n",
            "  inflating: /content/face-recognition-opencv/dataset/amar_dataset/Oscar/VID-20200409-WA0060_028.jpg  \n",
            "  inflating: /content/face-recognition-opencv/dataset/amar_dataset/Ramdas/20200205_125201 053.jpg  \n",
            "  inflating: /content/face-recognition-opencv/dataset/amar_dataset/Navami/VID-20200409-WA0064 04.jpg  \n",
            "  inflating: /content/face-recognition-opencv/dataset/amar_dataset/Amal_Vincent/VID-20200409-WA0062_031.jpg  \n",
            "  inflating: /content/face-recognition-opencv/dataset/amar_dataset/Midhun/20200205_124803 059.jpg  \n",
            "  inflating: /content/face-recognition-opencv/dataset/amar_dataset/Sruthi/VID-20200409-WA0070_008.jpg  \n",
            "  inflating: /content/face-recognition-opencv/dataset/amar_dataset/Athira/VID-20200409-WA0061_015.jpg  \n",
            "  inflating: /content/face-recognition-opencv/dataset/amar_dataset/Ramdas/20200205_125201 052.jpg  \n",
            "  inflating: /content/face-recognition-opencv/dataset/amar_dataset/Midhun/20200205_124803 141.jpg  \n",
            "  inflating: /content/face-recognition-opencv/dataset/amar_dataset/Anuroop/20200205_125056 009.jpg  \n",
            "  inflating: /content/face-recognition-opencv/dataset/amar_dataset/Athira/VID-20200409-WA0061_023.jpg  \n",
            "  inflating: /content/face-recognition-opencv/dataset/amar_dataset/Akshay_PL/scene00080.jpeg  \n",
            "  inflating: /content/face-recognition-opencv/dataset/amar_dataset/Naveen/scene00198.jpeg  \n",
            "  inflating: /content/face-recognition-opencv/dataset/amar_dataset/Akshay_PL/scene00117.jpeg  \n",
            "  inflating: /content/face-recognition-opencv/dataset/amar_dataset/Amal_Vincent/VID-20200409-WA0062_057.jpg  \n",
            "  inflating: /content/face-recognition-opencv/dataset/amar_dataset/Ramdas/20200205_125201 119.jpg  \n",
            "  inflating: /content/face-recognition-opencv/dataset/amar_dataset/Oscar/VID-20200409-WA0060_009.jpg  \n",
            "  inflating: /content/face-recognition-opencv/dataset/amar_dataset/Ramdas/20200205_125201 008.jpg  \n",
            "  inflating: /content/face-recognition-opencv/dataset/amar_dataset/Amal_Vincent/VID-20200409-WA0062_016.jpg  \n",
            "  inflating: /content/face-recognition-opencv/dataset/amar_dataset/Navami/VID-20200409-WA0064 45.jpg  \n",
            "  inflating: /content/face-recognition-opencv/dataset/amar_dataset/Navami/VID-20200409-WA0064 60.jpg  \n",
            "  inflating: /content/face-recognition-opencv/dataset/amar_dataset/Ramdas/20200205_125201 105.jpg  \n",
            "  inflating: /content/face-recognition-opencv/dataset/amar_dataset/Ramdas/20200205_125201 086.jpg  \n",
            "  inflating: /content/face-recognition-opencv/dataset/amar_dataset/Akshay_PL/scene00028.jpeg  \n",
            "  inflating: /content/face-recognition-opencv/dataset/amar_dataset/Uma_U/VID-20200409-WA0071_039.jpg  \n",
            "  inflating: /content/face-recognition-opencv/dataset/amar_dataset/Navami/VID-20200409-WA0064 70.jpg  \n",
            "  inflating: /content/face-recognition-opencv/dataset/amar_dataset/Naveen/scene00142.jpeg  \n",
            "  inflating: /content/face-recognition-opencv/dataset/amar_dataset/Midhun/20200205_124803 066.jpg  \n",
            "  inflating: /content/face-recognition-opencv/dataset/amar_dataset/Ramdas/20200205_125201 127.jpg  \n",
            "  inflating: /content/face-recognition-opencv/dataset/amar_dataset/Naveen/scene00197.jpeg  \n",
            "  inflating: /content/face-recognition-opencv/dataset/amar_dataset/Navami/VID-20200409-WA0064 74.jpg  \n",
            "  inflating: /content/face-recognition-opencv/dataset/amar_dataset/Akshay_PL/scene00035(1).jpeg  \n",
            "  inflating: /content/face-recognition-opencv/dataset/amar_dataset/Ramdas/20200205_125201 047.jpg  \n",
            "  inflating: /content/face-recognition-opencv/dataset/amar_dataset/Adarsh/VID-20200409-WA0069_004.jpg  \n",
            "  inflating: /content/face-recognition-opencv/dataset/amar_dataset/Adarsh/VID-20200409-WA0069_035.jpg  \n",
            "  inflating: /content/face-recognition-opencv/dataset/amar_dataset/Ramdas/20200205_125201 137.jpg  \n",
            "  inflating: /content/face-recognition-opencv/dataset/amar_dataset/Oscar/VID-20200409-WA0060_021.jpg  \n",
            "  inflating: /content/face-recognition-opencv/dataset/amar_dataset/Athira/VID-20200409-WA0061_018.jpg  \n",
            "  inflating: /content/face-recognition-opencv/dataset/amar_dataset/Navami/VID-20200409-WA0064 57.jpg  \n",
            "  inflating: /content/face-recognition-opencv/dataset/amar_dataset/Uma_U/VID-20200409-WA0071_026.jpg  \n",
            "  inflating: /content/face-recognition-opencv/dataset/amar_dataset/Sruthi/VID-20200409-WA0070_020.jpg  \n",
            "  inflating: /content/face-recognition-opencv/dataset/amar_dataset/Ramdas/20200205_125201 057.jpg  \n",
            "  inflating: /content/face-recognition-opencv/dataset/amar_dataset/Sruthi/VID-20200409-WA0070_016.jpg  \n",
            "  inflating: /content/face-recognition-opencv/dataset/amar_dataset/Midhun/20200205_124803 088.jpg  \n",
            "  inflating: /content/face-recognition-opencv/dataset/amar_dataset/Sruthi/VID-20200409-WA0070_023.jpg  \n",
            "  inflating: /content/face-recognition-opencv/dataset/amar_dataset/Anuroop/20200205_125056 026.jpg  \n",
            "  inflating: /content/face-recognition-opencv/dataset/amar_dataset/Ramdas/20200205_125201 060.jpg  \n",
            "  inflating: /content/face-recognition-opencv/dataset/amar_dataset/Akshay_PL/scene00066.jpeg  \n",
            "  inflating: /content/face-recognition-opencv/dataset/amar_dataset/Shivatheertha/VID-20200409-WA0068_011.jpg  \n",
            "  inflating: /content/face-recognition-opencv/dataset/amar_dataset/Naveen/scene00184.jpeg  \n",
            "  inflating: /content/face-recognition-opencv/dataset/amar_dataset/Ramdas/20200205_125201 095.jpg  \n",
            "  inflating: /content/face-recognition-opencv/dataset/amar_dataset/Naveen/scene00146.jpeg  \n",
            "  inflating: /content/face-recognition-opencv/dataset/amar_dataset/Ramdas/20200205_125201 147.jpg  \n",
            "  inflating: /content/face-recognition-opencv/dataset/amar_dataset/Oscar/VID-20200409-WA0060_053.jpg  \n",
            "  inflating: /content/face-recognition-opencv/dataset/amar_dataset/Athira/VID-20200409-WA0061_007.jpg  \n",
            "  inflating: /content/face-recognition-opencv/dataset/amar_dataset/Midhun/20200205_124803 001.jpg  \n",
            "  inflating: /content/face-recognition-opencv/dataset/amar_dataset/Athira/VID-20200409-WA0061_003.jpg  \n",
            "  inflating: /content/face-recognition-opencv/dataset/amar_dataset/Athira/VID-20200409-WA0061_043.jpg  \n",
            "  inflating: /content/face-recognition-opencv/dataset/amar_dataset/Amal_Vincent/VID-20200409-WA0062_026.jpg  \n",
            "  inflating: /content/face-recognition-opencv/dataset/amar_dataset/Anuroop/20200205_125056 104.jpg  \n",
            "  inflating: /content/face-recognition-opencv/dataset/amar_dataset/Ramdas/20200205_125201 124.jpg  \n",
            "  inflating: /content/face-recognition-opencv/dataset/amar_dataset/Athira/VID-20200409-WA0061_030.jpg  \n",
            "  inflating: /content/face-recognition-opencv/dataset/amar_dataset/Naveen/scene00157.jpeg  \n",
            "  inflating: /content/face-recognition-opencv/dataset/amar_dataset/Ramdas/20200205_125201 043.jpg  \n",
            "  inflating: /content/face-recognition-opencv/dataset/amar_dataset/Naveen/scene00136.jpeg  \n",
            "  inflating: /content/face-recognition-opencv/dataset/amar_dataset/Ramdas/20200205_125201 128.jpg  \n",
            "  inflating: /content/face-recognition-opencv/dataset/amar_dataset/Ramdas/20200205_125201 026.jpg  \n",
            "  inflating: /content/face-recognition-opencv/dataset/amar_dataset/Navami/VID-20200409-WA0064 80.jpg  \n",
            "  inflating: /content/face-recognition-opencv/dataset/amar_dataset/Anuroop/20200205_125056 046.jpg  \n",
            "  inflating: /content/face-recognition-opencv/dataset/amar_dataset/Midhun/20200205_124803 064.jpg  \n",
            "  inflating: /content/face-recognition-opencv/dataset/amar_dataset/Naveen/scene00148.jpeg  \n",
            "  inflating: /content/face-recognition-opencv/dataset/amar_dataset/Akshay_PL/scene00006.jpeg  \n",
            "  inflating: /content/face-recognition-opencv/dataset/amar_dataset/Oscar/VID-20200409-WA0060_016.jpg  \n",
            "  inflating: /content/face-recognition-opencv/dataset/amar_dataset/Naveen/scene00179.jpeg  \n",
            "  inflating: /content/face-recognition-opencv/dataset/amar_dataset/Anuroop/20200205_125056 016.jpg  \n",
            "  inflating: /content/face-recognition-opencv/dataset/amar_dataset/Akshay_PL/scene00012.jpeg  \n",
            "  inflating: /content/face-recognition-opencv/dataset/amar_dataset/Akshay_PL/scene00123.jpeg  \n",
            "  inflating: /content/face-recognition-opencv/dataset/amar_dataset/Navami/VID-20200409-WA0064 42.jpg  \n",
            "  inflating: /content/face-recognition-opencv/dataset/amar_dataset/Navami/VID-20200409-WA0064 29.jpg  \n",
            "  inflating: /content/face-recognition-opencv/dataset/amar_dataset/Midhun/20200205_124803 034.jpg  \n",
            "  inflating: /content/face-recognition-opencv/dataset/amar_dataset/Ramdas/20200205_125201 030.jpg  \n",
            "  inflating: /content/face-recognition-opencv/dataset/amar_dataset/Akshay_PL/scene00128.jpeg  \n",
            "  inflating: /content/face-recognition-opencv/dataset/amar_dataset/Akshay_PL/scene00054.jpeg  \n",
            "  inflating: /content/face-recognition-opencv/dataset/amar_dataset/Oscar/VID-20200409-WA0060_038.jpg  \n",
            "  inflating: /content/face-recognition-opencv/dataset/amar_dataset/Amal_Vincent/VID-20200409-WA0062_042.jpg  \n",
            "  inflating: /content/face-recognition-opencv/dataset/amar_dataset/Amal_Vincent/VID-20200409-WA0062_053.jpg  \n",
            "  inflating: /content/face-recognition-opencv/dataset/amar_dataset/Uma_U/VID-20200409-WA0071_036.jpg  \n",
            "  inflating: /content/face-recognition-opencv/dataset/amar_dataset/Amal_Vincent/VID-20200409-WA0062_040.jpg  \n",
            "  inflating: /content/face-recognition-opencv/dataset/amar_dataset/Shivatheertha/VID-20200409-WA0068_009.jpg  \n",
            "  inflating: /content/face-recognition-opencv/dataset/amar_dataset/Amal_Vincent/VID-20200409-WA0062_052.jpg  \n",
            "  inflating: /content/face-recognition-opencv/dataset/amar_dataset/Sruthi/VID-20200409-WA0070_006.jpg  \n",
            "  inflating: /content/face-recognition-opencv/dataset/amar_dataset/Amal_Vincent/VID-20200409-WA0062_059.jpg  \n",
            "  inflating: /content/face-recognition-opencv/dataset/amar_dataset/Shivatheertha/VID-20200409-WA0068_007.jpg  \n",
            "  inflating: /content/face-recognition-opencv/dataset/amar_dataset/Anuroop/20200205_125056 018.jpg  \n",
            "  inflating: /content/face-recognition-opencv/dataset/amar_dataset/Amal_Vincent/VID-20200409-WA0062_030.jpg  \n",
            "  inflating: /content/face-recognition-opencv/dataset/amar_dataset/Akshay_PL/scene00115.jpeg  \n",
            "  inflating: /content/face-recognition-opencv/dataset/amar_dataset/Midhun/20200205_124803 123.jpg  \n",
            "  inflating: /content/face-recognition-opencv/dataset/amar_dataset/Midhun/20200205_124803 105.jpg  \n",
            "  inflating: /content/face-recognition-opencv/dataset/amar_dataset/Ramdas/20200205_125201 071.jpg  \n",
            "  inflating: /content/face-recognition-opencv/dataset/amar_dataset/Navami/VID-20200409-WA0064 44.jpg  \n",
            "  inflating: /content/face-recognition-opencv/dataset/amar_dataset/Anuroop/20200205_125056 082.jpg  \n",
            "  inflating: /content/face-recognition-opencv/dataset/amar_dataset/Anuroop/20200205_125056 117.jpg  \n",
            "  inflating: /content/face-recognition-opencv/dataset/amar_dataset/Oscar/VID-20200409-WA0060_033.jpg  \n",
            "  inflating: /content/face-recognition-opencv/dataset/amar_dataset/Uma_U/VID-20200409-WA0071_027.jpg  \n",
            "  inflating: /content/face-recognition-opencv/dataset/amar_dataset/Ramdas/20200205_125201 108.jpg  \n",
            "  inflating: /content/face-recognition-opencv/dataset/amar_dataset/Akshay_PL/scene00084.jpeg  \n",
            "  inflating: /content/face-recognition-opencv/dataset/amar_dataset/Oscar/VID-20200409-WA0060_034.jpg  \n",
            "  inflating: /content/face-recognition-opencv/dataset/amar_dataset/Anuroop/20200205_125056 033.jpg  \n",
            "  inflating: /content/face-recognition-opencv/dataset/amar_dataset/Ramdas/20200205_125201 132.jpg  \n",
            "  inflating: /content/face-recognition-opencv/dataset/amar_dataset/Amal_Vincent/VID-20200409-WA0062_025.jpg  \n",
            "  inflating: /content/face-recognition-opencv/dataset/amar_dataset/Akshay_PL/scene00073.jpeg  \n",
            "  inflating: /content/face-recognition-opencv/dataset/amar_dataset/Midhun/20200205_124803 094.jpg  \n",
            "  inflating: /content/face-recognition-opencv/dataset/amar_dataset/Midhun/20200205_124803 068.jpg  \n",
            "  inflating: /content/face-recognition-opencv/dataset/amar_dataset/Sruthi/VID-20200409-WA0070_022.jpg  \n",
            "  inflating: /content/face-recognition-opencv/dataset/amar_dataset/Oscar/VID-20200409-WA0060_043.jpg  \n",
            "  inflating: /content/face-recognition-opencv/dataset/amar_dataset/Akshay_PL/scene00130.jpeg  \n",
            "  inflating: /content/face-recognition-opencv/dataset/amar_dataset/Navami/VID-20200409-WA0064 50.jpg  \n",
            "  inflating: /content/face-recognition-opencv/dataset/amar_dataset/Oscar/VID-20200409-WA0060_031.jpg  \n",
            "  inflating: /content/face-recognition-opencv/dataset/amar_dataset/Ramdas/20200205_125201 090.jpg  \n",
            "  inflating: /content/face-recognition-opencv/dataset/amar_dataset/Akshay_PL/scene00103.jpeg  \n",
            "  inflating: /content/face-recognition-opencv/dataset/amar_dataset/Ramdas/20200205_125201 059.jpg  \n",
            "  inflating: /content/face-recognition-opencv/dataset/amar_dataset/Anuroop/20200205_125056 063.jpg  \n",
            "  inflating: /content/face-recognition-opencv/dataset/amar_dataset/Navami/VID-20200409-WA0064 10.jpg  \n",
            "  inflating: /content/face-recognition-opencv/dataset/amar_dataset/Midhun/20200205_124803 131.jpg  \n",
            "  inflating: /content/face-recognition-opencv/dataset/amar_dataset/Navami/VID-20200409-WA0064 72.jpg  \n",
            "  inflating: /content/face-recognition-opencv/dataset/amar_dataset/Oscar/VID-20200409-WA0060_046.jpg  \n",
            "  inflating: /content/face-recognition-opencv/dataset/amar_dataset/Sruthi/VID-20200409-WA0070_026.jpg  \n",
            "  inflating: /content/face-recognition-opencv/dataset/amar_dataset/Midhun/20200205_124803 040.jpg  \n",
            "  inflating: /content/face-recognition-opencv/dataset/amar_dataset/Ramdas/20200205_125201 076.jpg  \n",
            "  inflating: /content/face-recognition-opencv/dataset/amar_dataset/Ramdas/20200205_125201 055.jpg  \n",
            "  inflating: /content/face-recognition-opencv/dataset/amar_dataset/Midhun/20200205_124803 110.jpg  \n",
            "  inflating: /content/face-recognition-opencv/dataset/amar_dataset/Midhun/20200205_124803 052.jpg  \n",
            "  inflating: /content/face-recognition-opencv/dataset/amar_dataset/Navami/VID-20200409-WA0064 76.jpg  \n",
            "  inflating: /content/face-recognition-opencv/dataset/amar_dataset/Ramdas/20200205_125201 003.jpg  \n",
            "  inflating: /content/face-recognition-opencv/dataset/amar_dataset/Anuroop/20200205_125056 115.jpg  \n",
            "  inflating: /content/face-recognition-opencv/dataset/amar_dataset/Midhun/20200205_124803 037.jpg  \n",
            "  inflating: /content/face-recognition-opencv/dataset/amar_dataset/Amal_Vincent/VID-20200409-WA0062_050.jpg  \n",
            "  inflating: /content/face-recognition-opencv/dataset/amar_dataset/Midhun/20200205_124803 018.jpg  \n",
            "  inflating: /content/face-recognition-opencv/dataset/amar_dataset/Amal_Vincent/VID-20200409-WA0062_018.jpg  \n",
            "  inflating: /content/face-recognition-opencv/dataset/amar_dataset/Ramdas/20200205_125201 151.jpg  \n",
            "  inflating: /content/face-recognition-opencv/dataset/amar_dataset/Ramdas/20200205_125201 068.jpg  \n",
            "  inflating: /content/face-recognition-opencv/dataset/amar_dataset/Anuroop/20200205_125056 037.jpg  \n",
            "  inflating: /content/face-recognition-opencv/dataset/amar_dataset/Ramdas/20200205_125201 136.jpg  \n",
            "  inflating: /content/face-recognition-opencv/dataset/amar_dataset/Adarsh/VID-20200409-WA0069_033.jpg  \n",
            "  inflating: /content/face-recognition-opencv/dataset/amar_dataset/Anuroop/20200205_125056 105.jpg  \n",
            "  inflating: /content/face-recognition-opencv/dataset/amar_dataset/Oscar/VID-20200409-WA0060_006.jpg  \n",
            "  inflating: /content/face-recognition-opencv/dataset/amar_dataset/Oscar/VID-20200409-WA0060_054.jpg  \n",
            "  inflating: /content/face-recognition-opencv/dataset/amar_dataset/Ramdas/20200205_125201 010.jpg  \n",
            "  inflating: /content/face-recognition-opencv/dataset/amar_dataset/Anuroop/20200205_125056 053.jpg  \n",
            "  inflating: /content/face-recognition-opencv/dataset/amar_dataset/Akshay_PL/scene00095.jpeg  \n",
            "  inflating: /content/face-recognition-opencv/dataset/amar_dataset/Midhun/20200205_124803 089.jpg  \n",
            "  inflating: /content/face-recognition-opencv/dataset/amar_dataset/Midhun/20200205_124803 122.jpg  \n",
            "  inflating: /content/face-recognition-opencv/dataset/amar_dataset/Naveen/scene00212.jpeg  \n",
            "  inflating: /content/face-recognition-opencv/dataset/amar_dataset/Adarsh/VID-20200409-WA0069_034.jpg  \n",
            "  inflating: /content/face-recognition-opencv/dataset/amar_dataset/Adarsh/VID-20200409-WA0069_026.jpg  \n",
            "  inflating: /content/face-recognition-opencv/dataset/amar_dataset/Akshay_PL/scene00100.jpeg  \n",
            "  inflating: /content/face-recognition-opencv/dataset/amar_dataset/Akshay_PL/scene00044.jpeg  \n",
            "  inflating: /content/face-recognition-opencv/dataset/amar_dataset/Anuroop/20200205_125056 010.jpg  \n",
            "  inflating: /content/face-recognition-opencv/dataset/amar_dataset/Naveen/scene00137.jpeg  \n",
            "  inflating: /content/face-recognition-opencv/dataset/amar_dataset/Athira/VID-20200409-WA0061_019.jpg  \n",
            "  inflating: /content/face-recognition-opencv/dataset/amar_dataset/Uma_U/VID-20200409-WA0071_005.jpg  \n",
            "  inflating: /content/face-recognition-opencv/dataset/amar_dataset/Ramdas/20200205_125201 034.jpg  \n",
            "  inflating: /content/face-recognition-opencv/dataset/amar_dataset/Navami/VID-20200409-WA0064 62.jpg  \n",
            "  inflating: /content/face-recognition-opencv/dataset/amar_dataset/Amal_Vincent/VID-20200409-WA0062_003.jpg  \n",
            "  inflating: /content/face-recognition-opencv/dataset/amar_dataset/Navami/VID-20200409-WA0064 89.jpg  \n",
            "  inflating: /content/face-recognition-opencv/dataset/amar_dataset/Navami/VID-20200409-WA0064 56.jpg  \n",
            "  inflating: /content/face-recognition-opencv/dataset/amar_dataset/Sruthi/VID-20200409-WA0070_042.jpg  \n",
            "  inflating: /content/face-recognition-opencv/dataset/amar_dataset/Amal_Vincent/VID-20200409-WA0062_063.jpg  \n",
            "  inflating: /content/face-recognition-opencv/dataset/amar_dataset/Anuroop/20200205_125056 080.jpg  \n",
            "  inflating: /content/face-recognition-opencv/dataset/amar_dataset/Uma_U/VID-20200409-WA0071_007.jpg  \n",
            "  inflating: /content/face-recognition-opencv/dataset/amar_dataset/Athira/VID-20200409-WA0061_031.jpg  \n",
            "  inflating: /content/face-recognition-opencv/dataset/amar_dataset/Ramdas/20200205_125201 058.jpg  \n",
            "  inflating: /content/face-recognition-opencv/dataset/amar_dataset/Amal_Vincent/VID-20200409-WA0062_041.jpg  \n",
            "  inflating: /content/face-recognition-opencv/dataset/amar_dataset/Amal_Vincent/VID-20200409-WA0062_004.jpg  \n",
            "  inflating: /content/face-recognition-opencv/dataset/amar_dataset/Amal_Vincent/VID-20200409-WA0062_074.jpg  \n",
            "  inflating: /content/face-recognition-opencv/dataset/amar_dataset/Midhun/20200205_124803 125.jpg  \n",
            "  inflating: /content/face-recognition-opencv/dataset/amar_dataset/Oscar/VID-20200409-WA0060_069.jpg  \n",
            "  inflating: /content/face-recognition-opencv/dataset/amar_dataset/Akshay_PL/scene00058.jpeg  \n",
            "  inflating: /content/face-recognition-opencv/dataset/amar_dataset/Ramdas/20200205_125201 082.jpg  \n",
            "  inflating: /content/face-recognition-opencv/dataset/amar_dataset/Midhun/20200205_124803 070.jpg  \n",
            "  inflating: /content/face-recognition-opencv/dataset/amar_dataset/Amal_Vincent/VID-20200409-WA0062_066.jpg  \n",
            "  inflating: /content/face-recognition-opencv/dataset/amar_dataset/Midhun/20200205_124803 047.jpg  \n",
            "  inflating: /content/face-recognition-opencv/dataset/amar_dataset/Athira/VID-20200409-WA0061_009.jpg  \n",
            "  inflating: /content/face-recognition-opencv/dataset/amar_dataset/Anuroop/20200205_125056 020.jpg  \n",
            "  inflating: /content/face-recognition-opencv/dataset/amar_dataset/Navami/VID-20200409-WA0064 51.jpg  \n",
            "  inflating: /content/face-recognition-opencv/dataset/amar_dataset/Amal_Vincent/VID-20200409-WA0062_027.jpg  \n",
            "  inflating: /content/face-recognition-opencv/dataset/amar_dataset/Akshay_PL/scene00089.jpeg  \n",
            "  inflating: /content/face-recognition-opencv/dataset/amar_dataset/Ramdas/20200205_125201 009.jpg  \n",
            "  inflating: /content/face-recognition-opencv/dataset/amar_dataset/Navami/VID-20200409-WA0064 83.jpg  \n",
            "  inflating: /content/face-recognition-opencv/dataset/amar_dataset/Midhun/20200205_124803 127.jpg  \n",
            "  inflating: /content/face-recognition-opencv/dataset/amar_dataset/Uma_U/VID-20200409-WA0071_001.jpg  \n",
            "  inflating: /content/face-recognition-opencv/dataset/amar_dataset/Adarsh/VID-20200409-WA0069_039.jpg  \n",
            "  inflating: /content/face-recognition-opencv/dataset/amar_dataset/Ramdas/20200205_125201 123.jpg  \n",
            "  inflating: /content/face-recognition-opencv/dataset/amar_dataset/Shivatheertha/VID-20200409-WA0068_005.jpg  \n",
            "  inflating: /content/face-recognition-opencv/dataset/amar_dataset/Ramdas/20200205_125201 045.jpg  \n",
            "  inflating: /content/face-recognition-opencv/dataset/amar_dataset/Naveen/scene00173.jpeg  \n",
            "  inflating: /content/face-recognition-opencv/dataset/amar_dataset/Oscar/VID-20200409-WA0060_007.jpg  \n",
            "  inflating: /content/face-recognition-opencv/dataset/amar_dataset/Midhun/20200205_124803 138.jpg  \n",
            "  inflating: /content/face-recognition-opencv/dataset/amar_dataset/Shivatheertha/VID-20200409-WA0068_044.jpg  \n",
            "  inflating: /content/face-recognition-opencv/dataset/amar_dataset/Akshay_PL/scene00099.jpeg  \n",
            "  inflating: /content/face-recognition-opencv/dataset/amar_dataset/Ramdas/20200205_125201 046.jpg  \n",
            "  inflating: /content/face-recognition-opencv/dataset/amar_dataset/Midhun/20200205_124803 054.jpg  \n",
            "  inflating: /content/face-recognition-opencv/dataset/amar_dataset/Midhun/20200205_124803 022.jpg  \n",
            "  inflating: /content/face-recognition-opencv/dataset/amar_dataset/Amal_Vincent/VID-20200409-WA0062_034.jpg  \n",
            "  inflating: /content/face-recognition-opencv/dataset/amar_dataset/Ramdas/20200205_125201 041.jpg  \n",
            "  inflating: /content/face-recognition-opencv/dataset/amar_dataset/Ramdas/20200205_125201 017.jpg  \n",
            "  inflating: /content/face-recognition-opencv/dataset/amar_dataset/Midhun/20200205_124803 055.jpg  \n",
            "  inflating: /content/face-recognition-opencv/dataset/amar_dataset/Akshay_PL/scene00107.jpeg  \n",
            "  inflating: /content/face-recognition-opencv/dataset/amar_dataset/Akshay_PL/scene00114.jpeg  \n",
            "  inflating: /content/face-recognition-opencv/dataset/amar_dataset/Midhun/20200205_124803 130.jpg  \n",
            "  inflating: /content/face-recognition-opencv/dataset/amar_dataset/Shivatheertha/VID-20200409-WA0068_015.jpg  \n",
            "  inflating: /content/face-recognition-opencv/dataset/amar_dataset/Midhun/20200205_124803 043.jpg  \n",
            "  inflating: /content/face-recognition-opencv/dataset/amar_dataset/Ramdas/20200205_125201 012.jpg  \n",
            "  inflating: /content/face-recognition-opencv/dataset/amar_dataset/Anuroop/20200205_125056 034.jpg  \n",
            "  inflating: /content/face-recognition-opencv/dataset/amar_dataset/Navami/VID-20200409-WA0064 52.jpg  \n",
            "  inflating: /content/face-recognition-opencv/dataset/amar_dataset/Anuroop/20200205_125056 086.jpg  \n",
            "  inflating: /content/face-recognition-opencv/dataset/amar_dataset/Amal_Vincent/VID-20200409-WA0062_064.jpg  \n",
            "  inflating: /content/face-recognition-opencv/dataset/amar_dataset/Oscar/VID-20200409-WA0060_044.jpg  \n",
            "  inflating: /content/face-recognition-opencv/dataset/amar_dataset/Ramdas/20200205_125201 083.jpg  \n",
            "  inflating: /content/face-recognition-opencv/dataset/amar_dataset/Amal_Vincent/VID-20200409-WA0062_076.jpg  \n",
            "  inflating: /content/face-recognition-opencv/dataset/amar_dataset/Akshay_PL/scene00131.jpeg  \n",
            "  inflating: /content/face-recognition-opencv/dataset/amar_dataset/Midhun/20200205_124803 028.jpg  \n",
            "  inflating: /content/face-recognition-opencv/dataset/amar_dataset/Anuroop/20200205_125056 066.jpg  \n",
            "  inflating: /content/face-recognition-opencv/dataset/amar_dataset/Naveen/scene00204.jpeg  \n",
            "  inflating: /content/face-recognition-opencv/dataset/amar_dataset/Navami/VID-20200409-WA0064 88.jpg  \n",
            "  inflating: /content/face-recognition-opencv/dataset/amar_dataset/Shivatheertha/VID-20200409-WA0068_021.jpg  \n",
            "  inflating: /content/face-recognition-opencv/dataset/amar_dataset/Athira/VID-20200409-WA0061_016.jpg  \n",
            "  inflating: /content/face-recognition-opencv/dataset/amar_dataset/Oscar/VID-20200409-WA0060_059.jpg  \n",
            "  inflating: /content/face-recognition-opencv/dataset/amar_dataset/Midhun/20200205_124803 020.jpg  \n",
            "  inflating: /content/face-recognition-opencv/dataset/amar_dataset/Ramdas/20200205_125201 149.jpg  \n",
            "  inflating: /content/face-recognition-opencv/dataset/amar_dataset/Naveen/scene00154.jpeg  \n",
            "  inflating: /content/face-recognition-opencv/dataset/amar_dataset/Midhun/20200205_124803 004.jpg  \n",
            "  inflating: /content/face-recognition-opencv/dataset/amar_dataset/Oscar/VID-20200409-WA0060_047.jpg  \n",
            "  inflating: /content/face-recognition-opencv/dataset/amar_dataset/Ramdas/20200205_125201 018.jpg  \n",
            "  inflating: /content/face-recognition-opencv/dataset/amar_dataset/Midhun/20200205_124803 118.jpg  \n",
            "  inflating: /content/face-recognition-opencv/dataset/amar_dataset/Ramdas/20200205_125201 096.jpg  \n",
            "  inflating: /content/face-recognition-opencv/dataset/amar_dataset/Midhun/20200205_124803 112.jpg  \n",
            "  inflating: /content/face-recognition-opencv/dataset/amar_dataset/Midhun/20200205_124803 073.jpg  \n",
            "  inflating: /content/face-recognition-opencv/dataset/amar_dataset/Adarsh/VID-20200409-WA0069_040.jpg  \n",
            "  inflating: /content/face-recognition-opencv/dataset/amar_dataset/Midhun/20200205_124803 009.jpg  \n",
            "  inflating: /content/face-recognition-opencv/dataset/amar_dataset/Anuroop/20200205_125056 023.jpg  \n",
            "  inflating: /content/face-recognition-opencv/dataset/amar_dataset/Naveen/scene00143.jpeg  \n",
            "  inflating: /content/face-recognition-opencv/dataset/amar_dataset/Navami/VID-20200409-WA0064 67.jpg  \n",
            "  inflating: /content/face-recognition-opencv/dataset/amar_dataset/Midhun/20200205_124803 124.jpg  \n",
            "  inflating: /content/face-recognition-opencv/dataset/amar_dataset/Anuroop/20200205_125056 011.jpg  \n",
            "  inflating: /content/face-recognition-opencv/dataset/amar_dataset/Midhun/20200205_124803 026.jpg  \n",
            "  inflating: /content/face-recognition-opencv/dataset/amar_dataset/Ramdas/20200205_125201 141.jpg  \n",
            "  inflating: /content/face-recognition-opencv/dataset/amar_dataset/Akshay_PL/scene00092.jpeg  \n",
            "  inflating: /content/face-recognition-opencv/dataset/amar_dataset/Anuroop/20200205_125056 008.jpg  \n",
            "  inflating: /content/face-recognition-opencv/dataset/amar_dataset/Naveen/scene00147.jpeg  \n",
            "  inflating: /content/face-recognition-opencv/dataset/amar_dataset/Anuroop/20200205_125056 040.jpg  \n",
            "  inflating: /content/face-recognition-opencv/dataset/amar_dataset/Akshay_PL/scene00070.jpeg  \n",
            "  inflating: /content/face-recognition-opencv/dataset/amar_dataset/Naveen/scene00188.jpeg  \n",
            "  inflating: /content/face-recognition-opencv/dataset/amar_dataset/Anuroop/20200205_125056 055.jpg  \n",
            "  inflating: /content/face-recognition-opencv/dataset/amar_dataset/Midhun/20200205_124803 002.jpg  \n",
            "  inflating: /content/face-recognition-opencv/dataset/amar_dataset/Midhun/20200205_124803 082.jpg  \n",
            "  inflating: /content/face-recognition-opencv/dataset/amar_dataset/Uma_U/VID-20200409-WA0071_028.jpg  \n",
            "  inflating: /content/face-recognition-opencv/dataset/amar_dataset/Akshay_PL/scene00041.jpeg  \n",
            "  inflating: /content/face-recognition-opencv/dataset/amar_dataset/Adarsh/VID-20200409-WA0069_032.jpg  \n",
            "  inflating: /content/face-recognition-opencv/dataset/amar_dataset/Navami/VID-20200409-WA0064 31.jpg  \n",
            "  inflating: /content/face-recognition-opencv/dataset/amar_dataset/Athira/VID-20200409-WA0061_014.jpg  \n",
            "  inflating: /content/face-recognition-opencv/dataset/amar_dataset/Midhun/20200205_124803 093.jpg  \n",
            "  inflating: /content/face-recognition-opencv/dataset/amar_dataset/Anuroop/20200205_125056 032.jpg  \n",
            "  inflating: /content/face-recognition-opencv/dataset/amar_dataset/Akshay_PL/scene00007.jpeg  \n",
            "  inflating: /content/face-recognition-opencv/dataset/amar_dataset/Naveen/scene00167.jpeg  \n",
            "  inflating: /content/face-recognition-opencv/dataset/amar_dataset/Akshay_PL/scene00088.jpeg  \n",
            "  inflating: /content/face-recognition-opencv/dataset/amar_dataset/Navami/VID-20200409-WA0064 03.jpg  \n",
            "  inflating: /content/face-recognition-opencv/dataset/amar_dataset/Ramdas/20200205_125201 135.jpg  \n",
            "  inflating: /content/face-recognition-opencv/dataset/amar_dataset/Athira/VID-20200409-WA0061_012.jpg  \n",
            "  inflating: /content/face-recognition-opencv/dataset/amar_dataset/Navami/VID-20200409-WA0064 41.jpg  \n",
            "  inflating: /content/face-recognition-opencv/dataset/amar_dataset/Oscar/VID-20200409-WA0060_056.jpg  \n",
            "  inflating: /content/face-recognition-opencv/dataset/amar_dataset/Uma_U/VID-20200409-WA0071_040.jpg  \n",
            "  inflating: /content/face-recognition-opencv/dataset/amar_dataset/Adarsh/VID-20200409-WA0069_041.jpg  \n",
            "  inflating: /content/face-recognition-opencv/dataset/amar_dataset/Oscar/VID-20200409-WA0060_066.jpg  \n",
            "  inflating: /content/face-recognition-opencv/dataset/amar_dataset/Navami/VID-20200409-WA0064 26.jpg  \n",
            "  inflating: /content/face-recognition-opencv/dataset/amar_dataset/Navami/VID-20200409-WA0064 05.jpg  \n",
            "  inflating: /content/face-recognition-opencv/dataset/amar_dataset/Naveen/scene00139.jpeg  \n",
            "  inflating: /content/face-recognition-opencv/dataset/amar_dataset/Athira/VID-20200409-WA0061_001.jpg  \n",
            "  inflating: /content/face-recognition-opencv/dataset/amar_dataset/Anuroop/20200205_125056 058.jpg  \n",
            "  inflating: /content/face-recognition-opencv/dataset/amar_dataset/Anuroop/20200205_125056 061.jpg  \n",
            "  inflating: /content/face-recognition-opencv/dataset/amar_dataset/Midhun/20200205_124803 057.jpg  \n",
            "  inflating: /content/face-recognition-opencv/dataset/amar_dataset/Uma_U/VID-20200409-WA0071_042.jpg  \n",
            "  inflating: /content/face-recognition-opencv/dataset/amar_dataset/Anuroop/20200205_125056 087.jpg  \n",
            "  inflating: /content/face-recognition-opencv/dataset/amar_dataset/Akshay_PL/scene00110.jpeg  \n",
            "  inflating: /content/face-recognition-opencv/dataset/amar_dataset/Anuroop/20200205_125056 064.jpg  \n",
            "  inflating: /content/face-recognition-opencv/dataset/amar_dataset/Navami/VID-20200409-WA0064 30.jpg  \n",
            "  inflating: /content/face-recognition-opencv/dataset/amar_dataset/Midhun/20200205_124803 053.jpg  \n",
            "  inflating: /content/face-recognition-opencv/dataset/amar_dataset/Oscar/VID-20200409-WA0060_057.jpg  \n",
            "  inflating: /content/face-recognition-opencv/dataset/amar_dataset/Navami/VID-20200409-WA0064 49.jpg  \n",
            "  inflating: /content/face-recognition-opencv/dataset/amar_dataset/Midhun/20200205_124803 024.jpg  \n",
            "  inflating: /content/face-recognition-opencv/dataset/amar_dataset/Navami/VID-20200409-WA0064 75.jpg  \n",
            "  inflating: /content/face-recognition-opencv/dataset/amar_dataset/Ramdas/20200205_125201 049.jpg  \n",
            "  inflating: /content/face-recognition-opencv/dataset/amar_dataset/Oscar/VID-20200409-WA0060_055.jpg  \n",
            "  inflating: /content/face-recognition-opencv/dataset/amar_dataset/Ramdas/20200205_125201 081.jpg  \n",
            "  inflating: /content/face-recognition-opencv/dataset/amar_dataset/Uma_U/VID-20200409-WA0071_014.jpg  \n",
            "  inflating: /content/face-recognition-opencv/dataset/amar_dataset/Athira/VID-20200409-WA0061_021.jpg  \n",
            "  inflating: /content/face-recognition-opencv/dataset/amar_dataset/Akshay_PL/scene00062.jpeg  \n",
            "  inflating: /content/face-recognition-opencv/dataset/amar_dataset/Anuroop/20200205_125056 112.jpg  \n",
            "  inflating: /content/face-recognition-opencv/dataset/amar_dataset/Oscar/VID-20200409-WA0060_062.jpg  \n",
            "  inflating: /content/face-recognition-opencv/dataset/amar_dataset/Uma_U/VID-20200409-WA0071_009.jpg  \n",
            "  inflating: /content/face-recognition-opencv/dataset/amar_dataset/Akshay_PL/scene00003.jpeg  \n",
            "  inflating: /content/face-recognition-opencv/dataset/amar_dataset/Uma_U/VID-20200409-WA0071_003.jpg  \n",
            "  inflating: /content/face-recognition-opencv/dataset/amar_dataset/Ramdas/20200205_125201 110.jpg  \n",
            "  inflating: /content/face-recognition-opencv/dataset/amar_dataset/Midhun/20200205_124803 079.jpg  \n",
            "  inflating: /content/face-recognition-opencv/dataset/amar_dataset/Ramdas/20200205_125201 072.jpg  \n",
            "  inflating: /content/face-recognition-opencv/dataset/amar_dataset/Anuroop/20200205_125056 042.jpg  \n",
            "  inflating: /content/face-recognition-opencv/dataset/amar_dataset/Ramdas/20200205_125201 062.jpg  \n",
            "  inflating: /content/face-recognition-opencv/dataset/amar_dataset/Akshay_PL/scene00016.jpeg  \n",
            "  inflating: /content/face-recognition-opencv/dataset/amar_dataset/Amal_Vincent/VID-20200409-WA0062_039.jpg  \n",
            "  inflating: /content/face-recognition-opencv/dataset/amar_dataset/Athira/VID-20200409-WA0061_026.jpg  \n",
            "  inflating: /content/face-recognition-opencv/dataset/amar_dataset/Athira/VID-20200409-WA0061_027.jpg  \n",
            "  inflating: /content/face-recognition-opencv/dataset/amar_dataset/Navami/VID-20200409-WA0064 73.jpg  \n",
            "  inflating: /content/face-recognition-opencv/dataset/amar_dataset/Adarsh/VID-20200409-WA0069_007.jpg  \n",
            "  inflating: /content/face-recognition-opencv/dataset/amar_dataset/Ramdas/20200205_125201 067.jpg  \n",
            "  inflating: /content/face-recognition-opencv/dataset/amar_dataset/Amal_Vincent/VID-20200409-WA0062_067.jpg  \n",
            "  inflating: /content/face-recognition-opencv/dataset/amar_dataset/Oscar/VID-20200409-WA0060_045.jpg  \n",
            "  inflating: /content/face-recognition-opencv/dataset/amar_dataset/Ramdas/20200205_125201 051.jpg  \n",
            "  inflating: /content/face-recognition-opencv/dataset/amar_dataset/Ramdas/20200205_125201 120.jpg  \n",
            "  inflating: /content/face-recognition-opencv/dataset/amar_dataset/Midhun/20200205_124803 078.jpg  \n",
            "  inflating: /content/face-recognition-opencv/dataset/amar_dataset/Ramdas/20200205_125201 029.jpg  \n",
            "  inflating: /content/face-recognition-opencv/dataset/amar_dataset/Amal_Vincent/VID-20200409-WA0062_006.jpg  \n",
            "  inflating: /content/face-recognition-opencv/dataset/amar_dataset/Uma_U/VID-20200409-WA0071_012.jpg  \n",
            "  inflating: /content/face-recognition-opencv/dataset/amar_dataset/Anuroop/20200205_125056 017.jpg  \n",
            "  inflating: /content/face-recognition-opencv/dataset/amar_dataset/Anuroop/20200205_125056 041.jpg  \n",
            "  inflating: /content/face-recognition-opencv/dataset/amar_dataset/Anuroop/20200205_125056 075.jpg  \n",
            "  inflating: /content/face-recognition-opencv/dataset/amar_dataset/Sruthi/VID-20200409-WA0070_001.jpg  \n",
            "  inflating: /content/face-recognition-opencv/dataset/amar_dataset/Akshay_PL/scene00074.jpeg  \n",
            "  inflating: /content/face-recognition-opencv/dataset/amar_dataset/Amal_Vincent/VID-20200409-WA0062_055.jpg  \n",
            "  inflating: /content/face-recognition-opencv/dataset/amar_dataset/Ramdas/20200205_125201 111.jpg  \n",
            "  inflating: /content/face-recognition-opencv/dataset/amar_dataset/Athira/VID-20200409-WA0061_045.jpg  \n",
            "  inflating: /content/face-recognition-opencv/dataset/amar_dataset/Sruthi/VID-20200409-WA0070_038.jpg  \n",
            "  inflating: /content/face-recognition-opencv/dataset/amar_dataset/Ramdas/20200205_125201 109.jpg  \n",
            "  inflating: /content/face-recognition-opencv/dataset/amar_dataset/Midhun/20200205_124803 108.jpg  \n",
            "  inflating: /content/face-recognition-opencv/dataset/amar_dataset/Midhun/20200205_124803 044.jpg  \n",
            "  inflating: /content/face-recognition-opencv/dataset/amar_dataset/Midhun/20200205_124803 133.jpg  \n",
            "  inflating: /content/face-recognition-opencv/dataset/amar_dataset/Naveen/scene00156.jpeg  \n",
            "  inflating: /content/face-recognition-opencv/dataset/amar_dataset/Akshay_PL/scene00069.jpeg  \n",
            "  inflating: /content/face-recognition-opencv/dataset/amar_dataset/Sruthi/VID-20200409-WA0070_027.jpg  \n",
            "  inflating: /content/face-recognition-opencv/dataset/amar_dataset/Uma_U/VID-20200409-WA0071_008.jpg  \n",
            "  inflating: /content/face-recognition-opencv/dataset/amar_dataset/Navami/VID-20200409-WA0064 58.jpg  \n",
            "  inflating: /content/face-recognition-opencv/dataset/amar_dataset/Navami/VID-20200409-WA0064 65.jpg  \n",
            "  inflating: /content/face-recognition-opencv/dataset/amar_dataset/Athira/VID-20200409-WA0061_032.jpg  \n",
            "  inflating: /content/face-recognition-opencv/dataset/amar_dataset/Midhun/20200205_124803 072.jpg  \n",
            "  inflating: /content/face-recognition-opencv/dataset/amar_dataset/Adarsh/VID-20200409-WA0069_000.jpg  \n",
            "  inflating: /content/face-recognition-opencv/dataset/amar_dataset/Midhun/20200205_124803 067.jpg  \n",
            "  inflating: /content/face-recognition-opencv/dataset/amar_dataset/Ramdas/20200205_125201 131.jpg  \n",
            "  inflating: /content/face-recognition-opencv/dataset/amar_dataset/Adarsh/VID-20200409-WA0069_023.jpg  \n",
            "  inflating: /content/face-recognition-opencv/dataset/amar_dataset/Naveen/scene00183.jpeg  \n",
            "  inflating: /content/face-recognition-opencv/dataset/amar_dataset/Shivatheertha/VID-20200409-WA0068_003.jpg  \n",
            "  inflating: /content/face-recognition-opencv/dataset/amar_dataset/Akshay_PL/scene00035.jpeg  \n",
            "  inflating: /content/face-recognition-opencv/dataset/amar_dataset/Akshay_PL/scene00015.jpeg  \n",
            "  inflating: /content/face-recognition-opencv/dataset/amar_dataset/Akshay_PL/scene00093.jpeg  \n",
            "  inflating: /content/face-recognition-opencv/dataset/amar_dataset/Oscar/VID-20200409-WA0060_065.jpg  \n",
            "  inflating: /content/face-recognition-opencv/dataset/amar_dataset/Anuroop/20200205_125056 001.jpg  \n",
            "  inflating: /content/face-recognition-opencv/dataset/amar_dataset/Anuroop/20200205_125056 051.jpg  \n",
            "  inflating: /content/face-recognition-opencv/dataset/amar_dataset/Midhun/20200205_124803 083.jpg  \n",
            "  inflating: /content/face-recognition-opencv/dataset/amar_dataset/Akshay_PL/scene00057.jpeg  \n",
            "  inflating: /content/face-recognition-opencv/dataset/amar_dataset/Amal_Vincent/VID-20200409-WA0062_000.jpg  \n",
            "  inflating: /content/face-recognition-opencv/dataset/amar_dataset/Anuroop/20200205_125056 070.jpg  \n",
            "  inflating: /content/face-recognition-opencv/dataset/amar_dataset/Ramdas/20200205_125201 144.jpg  \n",
            "  inflating: /content/face-recognition-opencv/dataset/amar_dataset/Akshay_PL/scene00068.jpeg  \n",
            "  inflating: /content/face-recognition-opencv/dataset/amar_dataset/Shivatheertha/VID-20200409-WA0068_037.jpg  \n",
            "  inflating: /content/face-recognition-opencv/dataset/amar_dataset/Oscar/VID-20200409-WA0060_063.jpg  \n",
            "  inflating: /content/face-recognition-opencv/dataset/amar_dataset/Ramdas/20200205_125201 153.jpg  \n",
            "  inflating: /content/face-recognition-opencv/dataset/amar_dataset/Naveen/scene00133.jpeg  \n",
            "  inflating: /content/face-recognition-opencv/dataset/amar_dataset/Midhun/20200205_124803 036.jpg  \n",
            "  inflating: /content/face-recognition-opencv/dataset/amar_dataset/Akshay_PL/scene00129.jpeg  \n",
            "  inflating: /content/face-recognition-opencv/dataset/amar_dataset/Ramdas/20200205_125201 145.jpg  \n",
            "  inflating: /content/face-recognition-opencv/dataset/amar_dataset/Amal_Vincent/VID-20200409-WA0062_012.jpg  \n",
            "  inflating: /content/face-recognition-opencv/dataset/amar_dataset/Oscar/VID-20200409-WA0060_026.jpg  \n",
            "  inflating: /content/face-recognition-opencv/dataset/amar_dataset/Naveen/scene00168.jpeg  \n",
            "  inflating: /content/face-recognition-opencv/dataset/amar_dataset/Ramdas/20200205_125201 004.jpg  \n",
            "  inflating: /content/face-recognition-opencv/dataset/amar_dataset/Midhun/20200205_124803 095.jpg  \n",
            "  inflating: /content/face-recognition-opencv/dataset/amar_dataset/Oscar/VID-20200409-WA0060_018.jpg  \n",
            "  inflating: /content/face-recognition-opencv/dataset/amar_dataset/Anuroop/20200205_125056 047.jpg  \n",
            "  inflating: /content/face-recognition-opencv/dataset/amar_dataset/Ramdas/20200205_125201 138.jpg  \n",
            "  inflating: /content/face-recognition-opencv/dataset/amar_dataset/Naveen/scene00210.jpeg  \n",
            "  inflating: /content/face-recognition-opencv/dataset/amar_dataset/Naveen/scene00175.jpeg  \n",
            "  inflating: /content/face-recognition-opencv/dataset/amar_dataset/Amal_Vincent/VID-20200409-WA0062_046.jpg  \n",
            "  inflating: /content/face-recognition-opencv/dataset/amar_dataset/Oscar/VID-20200409-WA0060_011.jpg  \n",
            "  inflating: /content/face-recognition-opencv/dataset/amar_dataset/Naveen/scene00194.jpeg  \n",
            "  inflating: /content/face-recognition-opencv/dataset/amar_dataset/Adarsh/VID-20200409-WA0069_022.jpg  \n",
            "  inflating: /content/face-recognition-opencv/dataset/amar_dataset/Adarsh/VID-20200409-WA0069_015.jpg  \n",
            "  inflating: /content/face-recognition-opencv/dataset/amar_dataset/Ramdas/20200205_125201 112.jpg  \n",
            "  inflating: /content/face-recognition-opencv/dataset/amar_dataset/Uma_U/VID-20200409-WA0071_015.jpg  \n",
            "  inflating: /content/face-recognition-opencv/dataset/amar_dataset/Ramdas/20200205_125201 023.jpg  \n",
            "  inflating: /content/face-recognition-opencv/dataset/amar_dataset/Navami/VID-20200409-WA0064 35.jpg  \n",
            "  inflating: /content/face-recognition-opencv/dataset/amar_dataset/Amal_Vincent/VID-20200409-WA0062_011.jpg  \n",
            "  inflating: /content/face-recognition-opencv/dataset/amar_dataset/Athira/VID-20200409-WA0061_004.jpg  \n",
            "  inflating: /content/face-recognition-opencv/dataset/amar_dataset/Ramdas/20200205_125201 129.jpg  \n",
            "  inflating: /content/face-recognition-opencv/dataset/amar_dataset/Midhun/20200205_124803 042.jpg  \n",
            "  inflating: /content/face-recognition-opencv/dataset/amar_dataset/Anuroop/20200205_125056 052.jpg  \n",
            "  inflating: /content/face-recognition-opencv/dataset/amar_dataset/Anuroop/20200205_125056 083.jpg  \n",
            "  inflating: /content/face-recognition-opencv/dataset/amar_dataset/Sruthi/VID-20200409-WA0070_043.jpg  \n",
            "  inflating: /content/face-recognition-opencv/dataset/amar_dataset/Midhun/20200205_124803 137.jpg  \n",
            "  inflating: /content/face-recognition-opencv/dataset/amar_dataset/Akshay_PL/scene00001.jpeg  \n",
            "  inflating: /content/face-recognition-opencv/dataset/amar_dataset/Oscar/VID-20200409-WA0060_010.jpg  \n",
            "  inflating: /content/face-recognition-opencv/dataset/amar_dataset/Ramdas/20200205_125201 061.jpg  \n",
            "  inflating: /content/face-recognition-opencv/dataset/amar_dataset/Naveen/scene00169.jpeg  \n",
            "  inflating: /content/face-recognition-opencv/dataset/amar_dataset/Shivatheertha/VID-20200409-WA0068_010.jpg  \n",
            "  inflating: /content/face-recognition-opencv/dataset/amar_dataset/Adarsh/VID-20200409-WA0069_009.jpg  \n",
            "  inflating: /content/face-recognition-opencv/dataset/amar_dataset/Midhun/20200205_124803 136.jpg  \n",
            "  inflating: /content/face-recognition-opencv/dataset/amar_dataset/Akshay_PL/scene00125.jpeg  \n",
            "  inflating: /content/face-recognition-opencv/dataset/amar_dataset/Amal_Vincent/VID-20200409-WA0062_032.jpg  \n",
            "  inflating: /content/face-recognition-opencv/dataset/amar_dataset/Ramdas/20200205_125201 097.jpg  \n",
            "  inflating: /content/face-recognition-opencv/dataset/amar_dataset/Amal_Vincent/VID-20200409-WA0062_015.jpg  \n",
            "  inflating: /content/face-recognition-opencv/dataset/amar_dataset/Akshay_PL/scene00028(1).jpeg  \n",
            "  inflating: /content/face-recognition-opencv/dataset/amar_dataset/Athira/VID-20200409-WA0061_006.jpg  \n",
            "  inflating: /content/face-recognition-opencv/dataset/amar_dataset/Akshay_PL/scene00021.jpeg  \n",
            "  inflating: /content/face-recognition-opencv/dataset/amar_dataset/Anuroop/20200205_125056 077.jpg  \n",
            "  inflating: /content/face-recognition-opencv/dataset/amar_dataset/Adarsh/VID-20200409-WA0069_045.jpg  \n",
            "  inflating: /content/face-recognition-opencv/dataset/amar_dataset/Akshay_PL/scene00111.jpeg  \n",
            "  inflating: /content/face-recognition-opencv/dataset/amar_dataset/Naveen/scene00159.jpeg  \n",
            "  inflating: /content/face-recognition-opencv/dataset/amar_dataset/Amal_Vincent/VID-20200409-WA0062_077.jpg  \n",
            "  inflating: /content/face-recognition-opencv/dataset/amar_dataset/Sruthi/VID-20200409-WA0070_033.jpg  \n",
            "  inflating: /content/face-recognition-opencv/dataset/amar_dataset/Uma_U/VID-20200409-WA0071_041.jpg  \n",
            "  inflating: /content/face-recognition-opencv/dataset/amar_dataset/Midhun/20200205_124803 077.jpg  \n",
            "  inflating: /content/face-recognition-opencv/dataset/amar_dataset/Midhun/20200205_124803 021.jpg  \n",
            "  inflating: /content/face-recognition-opencv/dataset/amar_dataset/Midhun/20200205_124803 013.jpg  \n",
            "  inflating: /content/face-recognition-opencv/dataset/amar_dataset/Naveen/scene00171.jpeg  \n",
            "  inflating: /content/face-recognition-opencv/dataset/amar_dataset/Anuroop/20200205_125056 076.jpg  \n",
            "  inflating: /content/face-recognition-opencv/dataset/amar_dataset/Midhun/20200205_124803 115.jpg  \n",
            "  inflating: /content/face-recognition-opencv/dataset/amar_dataset/Midhun/20200205_124803 063.jpg  \n",
            "  inflating: /content/face-recognition-opencv/dataset/amar_dataset/Akshay_PL/scene00032.jpeg  \n",
            "  inflating: /content/face-recognition-opencv/dataset/amar_dataset/Athira/VID-20200409-WA0061_022.jpg  \n",
            "  inflating: /content/face-recognition-opencv/dataset/amar_dataset/Oscar/VID-20200409-WA0060_039.jpg  \n",
            "  inflating: /content/face-recognition-opencv/dataset/amar_dataset/Naveen/scene00208.jpeg  \n",
            "  inflating: /content/face-recognition-opencv/dataset/amar_dataset/Sruthi/VID-20200409-WA0070_017.jpg  \n",
            "  inflating: /content/face-recognition-opencv/dataset/amar_dataset/Anuroop/20200205_125056 003.jpg  \n",
            "  inflating: /content/face-recognition-opencv/dataset/amar_dataset/Akshay_PL/scene00116.jpeg  \n",
            "  inflating: /content/face-recognition-opencv/dataset/amar_dataset/Midhun/20200205_124803 039.jpg  \n",
            "  inflating: /content/face-recognition-opencv/dataset/amar_dataset/Akshay_PL/scene00030(1).jpeg  \n",
            "  inflating: /content/face-recognition-opencv/dataset/amar_dataset/Ramdas/20200205_125201 130.jpg  \n",
            "  inflating: /content/face-recognition-opencv/dataset/amar_dataset/Akshay_PL/scene00067.jpeg  \n",
            "  inflating: /content/face-recognition-opencv/dataset/amar_dataset/Ramdas/20200205_125201 101.jpg  \n",
            "  inflating: /content/face-recognition-opencv/dataset/amar_dataset/Midhun/20200205_124803 085.jpg  \n",
            "  inflating: /content/face-recognition-opencv/dataset/amar_dataset/Navami/VID-20200409-WA0064 01.jpg  \n",
            "  inflating: /content/face-recognition-opencv/dataset/amar_dataset/Akshay_PL/scene00009.jpeg  \n",
            "  inflating: /content/face-recognition-opencv/dataset/amar_dataset/Oscar/VID-20200409-WA0060_052.jpg  \n",
            "  inflating: /content/face-recognition-opencv/dataset/amar_dataset/Navami/VID-20200409-WA0064 53.jpg  \n",
            "  inflating: /content/face-recognition-opencv/dataset/amar_dataset/Ramdas/20200205_125201 056.jpg  \n",
            "  inflating: /content/face-recognition-opencv/dataset/amar_dataset/Anuroop/20200205_125056 002.jpg  \n",
            "  inflating: /content/face-recognition-opencv/dataset/amar_dataset/Anuroop/20200205_125056 088.jpg  \n",
            "  inflating: /content/face-recognition-opencv/dataset/amar_dataset/Uma_U/VID-20200409-WA0071_029.jpg  \n",
            "  inflating: /content/face-recognition-opencv/dataset/amar_dataset/Oscar/VID-20200409-WA0060_058.jpg  \n",
            "  inflating: /content/face-recognition-opencv/dataset/amar_dataset/Navami/VID-20200409-WA0064 32.jpg  \n",
            "  inflating: /content/face-recognition-opencv/dataset/amar_dataset/Ramdas/20200205_125201 031.jpg  \n",
            "  inflating: /content/face-recognition-opencv/dataset/amar_dataset/Anuroop/20200205_125056 109.jpg  \n",
            "  inflating: /content/face-recognition-opencv/dataset/amar_dataset/Anuroop/20200205_125056 102.jpg  \n",
            "  inflating: /content/face-recognition-opencv/dataset/amar_dataset/Akshay_PL/scene00102.jpeg  \n",
            "  inflating: /content/face-recognition-opencv/dataset/amar_dataset/Oscar/VID-20200409-WA0060_023.jpg  \n",
            "  inflating: /content/face-recognition-opencv/dataset/amar_dataset/Midhun/20200205_124803 076.jpg  \n",
            "  inflating: /content/face-recognition-opencv/dataset/amar_dataset/Ramdas/20200205_125201 015.jpg  \n",
            "  inflating: /content/face-recognition-opencv/dataset/amar_dataset/Ramdas/20200205_125201 089.jpg  \n",
            "  inflating: /content/face-recognition-opencv/dataset/amar_dataset/Sruthi/VID-20200409-WA0070_009.jpg  \n",
            "  inflating: /content/face-recognition-opencv/dataset/amar_dataset/Oscar/VID-20200409-WA0060_014.jpg  \n",
            "  inflating: /content/face-recognition-opencv/dataset/amar_dataset/Sruthi/VID-20200409-WA0070_019.jpg  \n",
            "  inflating: /content/face-recognition-opencv/dataset/amar_dataset/Anuroop/20200205_125056 110.jpg  \n",
            "  inflating: /content/face-recognition-opencv/dataset/amar_dataset/Midhun/20200205_124803 084.jpg  \n",
            "  inflating: /content/face-recognition-opencv/dataset/amar_dataset/Uma_U/VID-20200409-WA0071_038.jpg  \n",
            "  inflating: /content/face-recognition-opencv/dataset/amar_dataset/Anuroop/20200205_125056 025.jpg  \n",
            "  inflating: /content/face-recognition-opencv/dataset/amar_dataset/Oscar/VID-20200409-WA0060_024.jpg  \n",
            "  inflating: /content/face-recognition-opencv/dataset/amar_dataset/Ramdas/20200205_125201 039.jpg  \n",
            "  inflating: /content/face-recognition-opencv/dataset/amar_dataset/Ramdas/20200205_125201 103.jpg  \n",
            "  inflating: /content/face-recognition-opencv/dataset/amar_dataset/Akshay_PL/scene00005.jpeg  \n",
            "  inflating: /content/face-recognition-opencv/dataset/amar_dataset/Sruthi/VID-20200409-WA0070_002.jpg  \n",
            "  inflating: /content/face-recognition-opencv/dataset/amar_dataset/Ramdas/20200205_125201 019.jpg  \n",
            "  inflating: /content/face-recognition-opencv/dataset/amar_dataset/Uma_U/VID-20200409-WA0071_033.jpg  \n",
            "  inflating: /content/face-recognition-opencv/dataset/amar_dataset/Sruthi/VID-20200409-WA0070_029.jpg  \n",
            "  inflating: /content/face-recognition-opencv/dataset/amar_dataset/Akshay_PL/scene00045.jpeg  \n",
            "  inflating: /content/face-recognition-opencv/dataset/amar_dataset/Midhun/20200205_124803 058.jpg  \n",
            "  inflating: /content/face-recognition-opencv/dataset/amar_dataset/Anuroop/20200205_125056 006.jpg  \n",
            "  inflating: /content/face-recognition-opencv/dataset/amar_dataset/Akshay_PL/scene00118.jpeg  \n",
            "  inflating: /content/face-recognition-opencv/dataset/amar_dataset/Anuroop/20200205_125056 078.jpg  \n",
            "  inflating: /content/face-recognition-opencv/dataset/amar_dataset/Anuroop/20200205_125056 100.jpg  \n",
            "  inflating: /content/face-recognition-opencv/dataset/amar_dataset/Akshay_PL/scene00124.jpeg  \n",
            "  inflating: /content/face-recognition-opencv/dataset/amar_dataset/Sruthi/VID-20200409-WA0070_005.jpg  \n",
            "  inflating: /content/face-recognition-opencv/dataset/amar_dataset/Anuroop/20200205_125056 005.jpg  \n",
            "  inflating: /content/face-recognition-opencv/dataset/amar_dataset/Akshay_PL/scene00033.jpeg  \n",
            "  inflating: /content/face-recognition-opencv/dataset/amar_dataset/Midhun/20200205_124803 032.jpg  \n",
            "  inflating: /content/face-recognition-opencv/dataset/amar_dataset/Ramdas/20200205_125201 025.jpg  \n",
            "  inflating: /content/face-recognition-opencv/dataset/amar_dataset/Akshay_PL/scene00002.jpeg  \n",
            "  inflating: /content/face-recognition-opencv/dataset/amar_dataset/Ramdas/20200205_125201 133.jpg  \n",
            "  inflating: /content/face-recognition-opencv/dataset/amar_dataset/Midhun/20200205_124803 090.jpg  \n",
            "  inflating: /content/face-recognition-opencv/dataset/amar_dataset/Adarsh/VID-20200409-WA0069_014.jpg  \n",
            "  inflating: /content/face-recognition-opencv/dataset/amar_dataset/Amal_Vincent/VID-20200409-WA0062_005.jpg  \n",
            "  inflating: /content/face-recognition-opencv/dataset/amar_dataset/Uma_U/VID-20200409-WA0071_006.jpg  \n",
            "  inflating: /content/face-recognition-opencv/dataset/amar_dataset/Sruthi/VID-20200409-WA0070_040.jpg  \n",
            "  inflating: /content/face-recognition-opencv/dataset/amar_dataset/Oscar/VID-20200409-WA0060_020.jpg  \n",
            "  inflating: /content/face-recognition-opencv/dataset/amar_dataset/Naveen/scene00176.jpeg  \n",
            "  inflating: /content/face-recognition-opencv/dataset/amar_dataset/Ramdas/20200205_125201 087.jpg  \n",
            "  inflating: /content/face-recognition-opencv/dataset/amar_dataset/Naveen/scene00151.jpeg  \n",
            "  inflating: /content/face-recognition-opencv/dataset/amar_dataset/Ramdas/20200205_125201 154.jpg  \n",
            "  inflating: /content/face-recognition-opencv/dataset/amar_dataset/Naveen/scene00215.jpeg  \n",
            "  inflating: /content/face-recognition-opencv/dataset/amar_dataset/Ramdas/20200205_125201 016.jpg  \n",
            "  inflating: /content/face-recognition-opencv/dataset/amar_dataset/Athira/VID-20200409-WA0061_035.jpg  \n",
            "  inflating: /content/face-recognition-opencv/dataset/amar_dataset/Naveen/scene00180.jpeg  \n",
            "  inflating: /content/face-recognition-opencv/dataset/amar_dataset/Naveen/scene00182.jpeg  \n",
            "  inflating: /content/face-recognition-opencv/dataset/amar_dataset/Akshay_PL/scene00064.jpeg  \n",
            "  inflating: /content/face-recognition-opencv/dataset/amar_dataset/Ramdas/20200205_125201 099.jpg  \n",
            "  inflating: /content/face-recognition-opencv/dataset/amar_dataset/Anuroop/20200205_125056 035.jpg  \n",
            "  inflating: /content/face-recognition-opencv/dataset/amar_dataset/Akshay_PL/scene00018.jpeg  \n",
            "  inflating: /content/face-recognition-opencv/dataset/amar_dataset/Midhun/20200205_124803 003.jpg  \n",
            "  inflating: /content/face-recognition-opencv/dataset/amar_dataset/Anuroop/20200205_125056 069.jpg  \n",
            "  inflating: /content/face-recognition-opencv/dataset/amar_dataset/Adarsh/VID-20200409-WA0069_011.jpg  \n",
            "  inflating: /content/face-recognition-opencv/dataset/amar_dataset/Akshay_PL/scene00132.jpeg  \n",
            "  inflating: /content/face-recognition-opencv/dataset/amar_dataset/Midhun/20200205_124803 023.jpg  \n",
            "  inflating: /content/face-recognition-opencv/dataset/amar_dataset/Midhun/20200205_124803 134.jpg  \n",
            "  inflating: /content/face-recognition-opencv/dataset/amar_dataset/Anuroop/20200205_125056 120.jpg  \n",
            "  inflating: /content/face-recognition-opencv/dataset/amar_dataset/Navami/VID-20200409-WA0064 61.jpg  \n",
            "  inflating: /content/face-recognition-opencv/dataset/amar_dataset/Akshay_PL/scene00052.jpeg  \n",
            "  inflating: /content/face-recognition-opencv/dataset/amar_dataset/Ramdas/20200205_125201 033.jpg  \n",
            "  inflating: /content/face-recognition-opencv/dataset/amar_dataset/Sruthi/VID-20200409-WA0070_030.jpg  \n",
            "  inflating: /content/face-recognition-opencv/dataset/amar_dataset/Akshay_PL/scene00077.jpeg  \n",
            "  inflating: /content/face-recognition-opencv/dataset/amar_dataset/Naveen/scene00164.jpeg  \n",
            "  inflating: /content/face-recognition-opencv/dataset/amar_dataset/Oscar/VID-20200409-WA0060_002.jpg  \n",
            "  inflating: /content/face-recognition-opencv/dataset/amar_dataset/Amal_Vincent/VID-20200409-WA0062_037.jpg  \n",
            "  inflating: /content/face-recognition-opencv/dataset/amar_dataset/Ramdas/20200205_125201 001.jpg  \n",
            "  inflating: /content/face-recognition-opencv/dataset/amar_dataset/Uma_U/VID-20200409-WA0071_035.jpg  \n",
            "  inflating: /content/face-recognition-opencv/dataset/amar_dataset/Ramdas/20200205_125201 050.jpg  \n",
            "  inflating: /content/face-recognition-opencv/dataset/amar_dataset/Akshay_PL/scene00083.jpeg  \n",
            "  inflating: /content/face-recognition-opencv/dataset/amar_dataset/Adarsh/VID-20200409-WA0069_036.jpg  \n",
            "  inflating: /content/face-recognition-opencv/dataset/amar_dataset/Akshay_PL/scene00122.jpeg  \n",
            "  inflating: /content/face-recognition-opencv/dataset/amar_dataset/Amal_Vincent/VID-20200409-WA0062_072.jpg  \n",
            "  inflating: /content/face-recognition-opencv/dataset/amar_dataset/Midhun/20200205_124803 120.jpg  \n",
            "  inflating: /content/face-recognition-opencv/dataset/amar_dataset/Naveen/scene00201.jpeg  \n",
            "  inflating: /content/face-recognition-opencv/dataset/amar_dataset/Anuroop/20200205_125056 097.jpg  \n",
            "  inflating: /content/face-recognition-opencv/dataset/amar_dataset/Midhun/20200205_124803 099.jpg  \n",
            "  inflating: /content/face-recognition-opencv/dataset/amar_dataset/Anuroop/20200205_125056 093.jpg  \n",
            "  inflating: /content/face-recognition-opencv/dataset/amar_dataset/Oscar/VID-20200409-WA0060_050.jpg  \n",
            "  inflating: /content/face-recognition-opencv/dataset/amar_dataset/Midhun/20200205_124803 142.jpg  \n",
            "  inflating: /content/face-recognition-opencv/dataset/amar_dataset/Sruthi/VID-20200409-WA0070_035.jpg  \n",
            "  inflating: /content/face-recognition-opencv/dataset/amar_dataset/Akshay_PL/scene00051.jpeg  \n",
            "  inflating: /content/face-recognition-opencv/dataset/amar_dataset/Midhun/20200205_124803 087.jpg  \n",
            "  inflating: /content/face-recognition-opencv/dataset/amar_dataset/Akshay_PL/scene00047.jpeg  \n",
            "  inflating: /content/face-recognition-opencv/dataset/amar_dataset/Adarsh/VID-20200409-WA0069_031.jpg  \n",
            "  inflating: /content/face-recognition-opencv/dataset/amar_dataset/Navami/VID-20200409-WA0064 84.jpg  \n",
            "  inflating: /content/face-recognition-opencv/dataset/amar_dataset/Akshay_PL/scene00094.jpeg  \n",
            "  inflating: /content/face-recognition-opencv/dataset/amar_dataset/Midhun/20200205_124803 050.jpg  \n",
            "  inflating: /content/face-recognition-opencv/dataset/amar_dataset/Naveen/scene00174.jpeg  \n",
            "  inflating: /content/face-recognition-opencv/dataset/amar_dataset/Amal_Vincent/VID-20200409-WA0062_071.jpg  \n",
            "  inflating: /content/face-recognition-opencv/dataset/amar_dataset/Navami/VID-20200409-WA0064 81.jpg  \n",
            "  inflating: /content/face-recognition-opencv/dataset/amar_dataset/Ramdas/20200205_125201 024.jpg  \n",
            "  inflating: /content/face-recognition-opencv/dataset/amar_dataset/Midhun/20200205_124803 129.jpg  \n",
            "  inflating: /content/face-recognition-opencv/dataset/amar_dataset/Navami/VID-20200409-WA0064 82.jpg  \n",
            "  inflating: /content/face-recognition-opencv/dataset/amar_dataset/Anuroop/20200205_125056 094.jpg  \n",
            "  inflating: /content/face-recognition-opencv/dataset/amar_dataset/Ramdas/20200205_125201 042.jpg  \n",
            "  inflating: /content/face-recognition-opencv/dataset/amar_dataset/Akshay_PL/scene00091.jpeg  \n",
            "  inflating: /content/face-recognition-opencv/dataset/amar_dataset/Navami/VID-20200409-WA0064 40.jpg  \n",
            "  inflating: /content/face-recognition-opencv/dataset/amar_dataset/Akshay_PL/scene00076.jpeg  \n",
            "  inflating: /content/face-recognition-opencv/dataset/amar_dataset/Shivatheertha/VID-20200409-WA0068_004.jpg  \n",
            "  inflating: /content/face-recognition-opencv/dataset/amar_dataset/Uma_U/VID-20200409-WA0071_020.jpg  \n",
            "  inflating: /content/face-recognition-opencv/dataset/amar_dataset/Naveen/scene00161.jpeg  \n",
            "  inflating: /content/face-recognition-opencv/dataset/amar_dataset/Amal_Vincent/VID-20200409-WA0062_014.jpg  \n",
            "  inflating: /content/face-recognition-opencv/dataset/amar_dataset/Uma_U/VID-20200409-WA0071_002.jpg  \n",
            "  inflating: /content/face-recognition-opencv/dataset/amar_dataset/Midhun/20200205_124803 116.jpg  \n",
            "  inflating: /content/face-recognition-opencv/dataset/amar_dataset/Midhun/20200205_124803 061.jpg  \n",
            "  inflating: /content/face-recognition-opencv/dataset/amar_dataset/Anuroop/20200205_125056 027.jpg  \n",
            "  inflating: /content/face-recognition-opencv/dataset/amar_dataset/Naveen/scene00170.jpeg  \n",
            "  inflating: /content/face-recognition-opencv/dataset/amar_dataset/Athira/VID-20200409-WA0061_028.jpg  \n",
            "  inflating: /content/face-recognition-opencv/dataset/amar_dataset/Oscar/VID-20200409-WA0060_042.jpg  \n",
            "  inflating: /content/face-recognition-opencv/dataset/amar_dataset/Oscar/VID-20200409-WA0060_070.jpg  \n",
            "  inflating: /content/face-recognition-opencv/dataset/amar_dataset/Navami/VID-20200409-WA0064 66.jpg  \n",
            "  inflating: /content/face-recognition-opencv/dataset/amar_dataset/Akshay_PL/scene00029.jpeg  \n",
            "  inflating: /content/face-recognition-opencv/dataset/amar_dataset/Oscar/VID-20200409-WA0060_036.jpg  \n",
            "  inflating: /content/face-recognition-opencv/dataset/amar_dataset/Midhun/20200205_124803 011.jpg  \n",
            "  inflating: /content/face-recognition-opencv/dataset/amar_dataset/Amal_Vincent/VID-20200409-WA0062_068.jpg  \n",
            "  inflating: /content/face-recognition-opencv/dataset/amar_dataset/Anuroop/20200205_125056 050.jpg  \n",
            "  inflating: /content/face-recognition-opencv/dataset/amar_dataset/Athira/VID-20200409-WA0061_037.jpg  \n",
            "  inflating: /content/face-recognition-opencv/dataset/amar_dataset/Midhun/20200205_124803 113.jpg  \n",
            "  inflating: /content/face-recognition-opencv/dataset/amar_dataset/Akshay_PL/scene00013.jpeg  \n",
            "  inflating: /content/face-recognition-opencv/dataset/amar_dataset/Anuroop/20200205_125056 057.jpg  \n",
            "  inflating: /content/face-recognition-opencv/dataset/amar_dataset/Adarsh/VID-20200409-WA0069_006.jpg  \n",
            "  inflating: /content/face-recognition-opencv/dataset/amar_dataset/Amal_Vincent/VID-20200409-WA0062_069.jpg  \n",
            "  inflating: /content/face-recognition-opencv/dataset/amar_dataset/Ramdas/20200205_125201 150.jpg  \n",
            "  inflating: /content/face-recognition-opencv/dataset/amar_dataset/Ramdas/20200205_125201 079.jpg  \n",
            "  inflating: /content/face-recognition-opencv/dataset/amar_dataset/Uma_U/VID-20200409-WA0071_016.jpg  \n",
            "  inflating: /content/face-recognition-opencv/dataset/amar_dataset/Anuroop/20200205_125056 036.jpg  \n",
            "  inflating: /content/face-recognition-opencv/dataset/amar_dataset/Amal_Vincent/VID-20200409-WA0062_024.jpg  \n",
            "  inflating: /content/face-recognition-opencv/dataset/amar_dataset/Shivatheertha/VID-20200409-WA0068_001.jpg  \n",
            "  inflating: /content/face-recognition-opencv/dataset/amar_dataset/Navami/VID-20200409-WA0064 69.jpg  \n",
            "  inflating: /content/face-recognition-opencv/dataset/amar_dataset/Adarsh/VID-20200409-WA0069_001.jpg  \n",
            "  inflating: /content/face-recognition-opencv/dataset/amar_dataset/Akshay_PL/scene00042.jpeg  \n",
            "  inflating: /content/face-recognition-opencv/dataset/amar_dataset/Anuroop/20200205_125056 012.jpg  \n",
            "  inflating: /content/face-recognition-opencv/dataset/amar_dataset/Akshay_PL/scene00034(1).jpeg  \n",
            "  inflating: /content/face-recognition-opencv/dataset/amar_dataset/Akshay_PL/scene00033(1).jpeg  \n",
            "  inflating: /content/face-recognition-opencv/dataset/amar_dataset/Anuroop/20200205_125056 119.jpg  \n",
            "  inflating: /content/face-recognition-opencv/dataset/amar_dataset/Adarsh/VID-20200409-WA0069_024.jpg  \n",
            "  inflating: /content/face-recognition-opencv/dataset/amar_dataset/Midhun/20200205_124803 098.jpg  \n",
            "  inflating: /content/face-recognition-opencv/dataset/amar_dataset/Ramdas/20200205_125201 022.jpg  \n",
            "  inflating: /content/face-recognition-opencv/dataset/amar_dataset/Anuroop/20200205_125056 049.jpg  \n",
            "  inflating: /content/face-recognition-opencv/dataset/amar_dataset/Akshay_PL/scene00029(1).jpeg  \n",
            "  inflating: /content/face-recognition-opencv/dataset/amar_dataset/Ramdas/20200205_125201 091.jpg  \n",
            "  inflating: /content/face-recognition-opencv/dataset/amar_dataset/Oscar/VID-20200409-WA0060_001.jpg  \n",
            "  inflating: /content/face-recognition-opencv/dataset/amar_dataset/Anuroop/20200205_125056 091.jpg  \n",
            "  inflating: /content/face-recognition-opencv/dataset/amar_dataset/Ramdas/20200205_125201 121.jpg  \n",
            "  inflating: /content/face-recognition-opencv/dataset/amar_dataset/Athira/VID-20200409-WA0061_013.jpg  \n",
            "  inflating: /content/face-recognition-opencv/dataset/amar_dataset/Ramdas/20200205_125201 113.jpg  \n",
            "  inflating: /content/face-recognition-opencv/dataset/amar_dataset/Anuroop/20200205_125056 084.jpg  \n",
            "  inflating: /content/face-recognition-opencv/dataset/amar_dataset/Anuroop/20200205_125056 108.jpg  \n",
            "  inflating: /content/face-recognition-opencv/dataset/amar_dataset/Naveen/scene00138.jpeg  \n",
            "  inflating: /content/face-recognition-opencv/dataset/amar_dataset/Midhun/20200205_124803 119.jpg  \n",
            "  inflating: /content/face-recognition-opencv/dataset/amar_dataset/Uma_U/VID-20200409-WA0071_030.jpg  \n",
            "  inflating: /content/face-recognition-opencv/dataset/amar_dataset/Oscar/VID-20200409-WA0060_030.jpg  \n",
            "  inflating: /content/face-recognition-opencv/dataset/amar_dataset/Midhun/20200205_124803 081.jpg  \n",
            "  inflating: /content/face-recognition-opencv/dataset/amar_dataset/Oscar/VID-20200409-WA0060_005.jpg  \n",
            "  inflating: /content/face-recognition-opencv/dataset/amar_dataset/Oscar/VID-20200409-WA0060_012.jpg  \n",
            "  inflating: /content/face-recognition-opencv/dataset/amar_dataset/Akshay_PL/scene00063.jpeg  \n",
            "  inflating: /content/face-recognition-opencv/dataset/amar_dataset/Navami/VID-20200409-WA0064 79.jpg  \n",
            "  inflating: /content/face-recognition-opencv/dataset/amar_dataset/Oscar/VID-20200409-WA0060_008.jpg  \n",
            "  inflating: /content/face-recognition-opencv/dataset/amar_dataset/Ramdas/20200205_125201 032.jpg  \n",
            "  inflating: /content/face-recognition-opencv/dataset/amar_dataset/Ramdas/20200205_125201 106.jpg  \n",
            "  inflating: /content/face-recognition-opencv/dataset/amar_dataset/Anuroop/20200205_125056 054.jpg  \n",
            "  inflating: /content/face-recognition-opencv/dataset/amar_dataset/Anuroop/20200205_125056 096.jpg  \n",
            "  inflating: /content/face-recognition-opencv/dataset/amar_dataset/Navami/VID-20200409-WA0064 16.jpg  \n",
            "  inflating: /content/face-recognition-opencv/dataset/amar_dataset/Oscar/VID-20200409-WA0060_025.jpg  \n",
            "  inflating: /content/face-recognition-opencv/dataset/amar_dataset/Athira/VID-20200409-WA0061_010.jpg  \n",
            "  inflating: /content/face-recognition-opencv/dataset/amar_dataset/Midhun/20200205_124803 016.jpg  \n",
            "  inflating: /content/face-recognition-opencv/dataset/amar_dataset/Oscar/VID-20200409-WA0060_067.jpg  \n",
            "  inflating: /content/face-recognition-opencv/dataset/amar_dataset/Ramdas/20200205_125201 125.jpg  \n",
            "  inflating: /content/face-recognition-opencv/dataset/amar_dataset/Anuroop/20200205_125056 072.jpg  \n",
            "  inflating: /content/face-recognition-opencv/dataset/amar_dataset/Athira/VID-20200409-WA0061_017.jpg  \n",
            "  inflating: /content/face-recognition-opencv/dataset/amar_dataset/Oscar/VID-20200409-WA0060_048.jpg  \n",
            "  inflating: /content/face-recognition-opencv/dataset/amar_dataset/Amal_Vincent/VID-20200409-WA0062_062.jpg  \n",
            "  inflating: /content/face-recognition-opencv/dataset/amar_dataset/Midhun/20200205_124803 111.jpg  \n",
            "  inflating: /content/face-recognition-opencv/dataset/amar_dataset/Shivatheertha/VID-20200409-WA0068_008.jpg  \n",
            "  inflating: /content/face-recognition-opencv/dataset/amar_dataset/Anuroop/20200205_125056 019.jpg  \n",
            "  inflating: /content/face-recognition-opencv/dataset/amar_dataset/Amal_Vincent/VID-20200409-WA0062_020.jpg  \n",
            "  inflating: /content/face-recognition-opencv/dataset/amar_dataset/Ramdas/20200205_125201 020.jpg  \n",
            "  inflating: /content/face-recognition-opencv/dataset/amar_dataset/Oscar/VID-20200409-WA0060_017.jpg  \n",
            "  inflating: /content/face-recognition-opencv/dataset/amar_dataset/Akshay_PL/scene00059.jpeg  \n",
            "  inflating: /content/face-recognition-opencv/dataset/amar_dataset/Athira/VID-20200409-WA0061_005.jpg  \n",
            "  inflating: /content/face-recognition-opencv/dataset/amar_dataset/Ramdas/20200205_125201 027.jpg  \n",
            "  inflating: /content/face-recognition-opencv/dataset/amar_dataset/Uma_U/VID-20200409-WA0071_021.jpg  \n",
            "  inflating: /content/face-recognition-opencv/dataset/amar_dataset/Akshay_PL/scene00108.jpeg  \n",
            "  inflating: /content/face-recognition-opencv/dataset/amar_dataset/Midhun/20200205_124803 103.jpg  \n",
            "  inflating: /content/face-recognition-opencv/dataset/amar_dataset/Athira/VID-20200409-WA0061_020.jpg  \n",
            "  inflating: /content/face-recognition-opencv/dataset/amar_dataset/Anuroop/20200205_125056 048.jpg  \n",
            "  inflating: /content/face-recognition-opencv/dataset/amar_dataset/Shivatheertha/VID-20200409-WA0068_013.jpg  \n",
            "  inflating: /content/face-recognition-opencv/dataset/amar_dataset/Shivatheertha/VID-20200409-WA0068_002.jpg  \n",
            "  inflating: /content/face-recognition-opencv/dataset/amar_dataset/Uma_U/VID-20200409-WA0071_037.jpg  \n",
            "  inflating: /content/face-recognition-opencv/dataset/amar_dataset/Naveen/scene00149.jpeg  \n",
            "  inflating: /content/face-recognition-opencv/dataset/amar_dataset/Oscar/VID-20200409-WA0060_035.jpg  \n",
            "  inflating: /content/face-recognition-opencv/dataset/amar_dataset/Naveen/scene00160.jpeg  \n",
            "  inflating: /content/face-recognition-opencv/dataset/amar_dataset/Amal_Vincent/VID-20200409-WA0062_078.jpg  \n",
            "  inflating: /content/face-recognition-opencv/dataset/amar_dataset/Oscar/VID-20200409-WA0060_064.jpg  \n",
            "  inflating: /content/face-recognition-opencv/dataset/amar_dataset/Naveen/scene00177.jpeg  \n",
            "  inflating: /content/face-recognition-opencv/dataset/amar_dataset/Midhun/20200205_124803 029.jpg  \n",
            "  inflating: /content/face-recognition-opencv/dataset/amar_dataset/Shivatheertha/VID-20200409-WA0068_012.jpg  \n",
            "  inflating: /content/face-recognition-opencv/dataset/amar_dataset/Ramdas/20200205_125201 035.jpg  \n",
            "  inflating: /content/face-recognition-opencv/dataset/amar_dataset/Amal_Vincent/VID-20200409-WA0062_017.jpg  \n",
            "  inflating: /content/face-recognition-opencv/dataset/amar_dataset/Naveen/scene00144.jpeg  \n",
            "  inflating: /content/face-recognition-opencv/dataset/amar_dataset/Sruthi/VID-20200409-WA0070_039.jpg  \n",
            "  inflating: /content/face-recognition-opencv/dataset/amar_dataset/Adarsh/VID-20200409-WA0069_043.jpg  \n",
            "  inflating: /content/face-recognition-opencv/dataset/amar_dataset/Navami/VID-20200409-WA0064 77.jpg  \n",
            "  inflating: /content/face-recognition-opencv/dataset/amar_dataset/Ramdas/20200205_125201 054.jpg  \n",
            "  inflating: /content/face-recognition-opencv/dataset/amar_dataset/Naveen/scene00152.jpeg  \n",
            "  inflating: /content/face-recognition-opencv/dataset/amar_dataset/Akshay_PL/scene00038(1).jpeg  \n",
            "  inflating: /content/face-recognition-opencv/dataset/amar_dataset/Anuroop/20200205_125056 098.jpg  \n",
            "  inflating: /content/face-recognition-opencv/dataset/amar_dataset/Uma_U/VID-20200409-WA0071_034.jpg  \n",
            "  inflating: /content/face-recognition-opencv/dataset/amar_dataset/Oscar/VID-20200409-WA0060_032.jpg  \n",
            "  inflating: /content/face-recognition-opencv/dataset/amar_dataset/Adarsh/VID-20200409-WA0069_003.jpg  \n",
            "  inflating: /content/face-recognition-opencv/dataset/amar_dataset/Midhun/20200205_124803 109.jpg  \n",
            "  inflating: /content/face-recognition-opencv/dataset/amar_dataset/Anuroop/20200205_125056 065.jpg  \n",
            "  inflating: /content/face-recognition-opencv/dataset/amar_dataset/Sruthi/VID-20200409-WA0070_032.jpg  \n",
            "  inflating: /content/face-recognition-opencv/dataset/amar_dataset/Anuroop/20200205_125056 030.jpg  \n",
            "  inflating: /content/face-recognition-opencv/dataset/amar_dataset/Amal_Vincent/VID-20200409-WA0062_033.jpg  \n",
            "  inflating: /content/face-recognition-opencv/dataset/amar_dataset/Ramdas/20200205_125201 066.jpg  \n",
            "  inflating: /content/face-recognition-opencv/dataset/amar_dataset/Adarsh/VID-20200409-WA0069_030.jpg  \n",
            "  inflating: /content/face-recognition-opencv/dataset/amar_dataset/Sruthi/VID-20200409-WA0070_018.jpg  \n",
            "  inflating: /content/face-recognition-opencv/dataset/amar_dataset/Midhun/20200205_124803 015.jpg  \n",
            "  inflating: /content/face-recognition-opencv/dataset/amar_dataset/Navami/VID-20200409-WA0064 06.jpg  \n",
            "  inflating: /content/face-recognition-opencv/dataset/amar_dataset/Navami/VID-20200409-WA0064 71.jpg  \n",
            "  inflating: /content/face-recognition-opencv/dataset/amar_dataset/Anuroop/20200205_125056 071.jpg  \n",
            "  inflating: /content/face-recognition-opencv/dataset/amar_dataset/Ramdas/20200205_125201 107.jpg  \n",
            "  inflating: /content/face-recognition-opencv/dataset/amar_dataset/Athira/VID-20200409-WA0061_011.jpg  \n",
            "  inflating: /content/face-recognition-opencv/dataset/amar_dataset/Navami/VID-20200409-WA0064 54.jpg  \n",
            "  inflating: /content/face-recognition-opencv/dataset/amar_dataset/Ramdas/20200205_125201 092.jpg  \n",
            "  inflating: /content/face-recognition-opencv/dataset/amar_dataset/Midhun/20200205_124803 139.jpg  \n",
            "  inflating: /content/face-recognition-opencv/dataset/amar_dataset/Athira/VID-20200409-WA0061_044.jpg  \n",
            "  inflating: /content/face-recognition-opencv/dataset/amar_dataset/Adarsh/VID-20200409-WA0069_042.jpg  \n",
            "  inflating: /content/face-recognition-opencv/dataset/amar_dataset/Anuroop/20200205_125056 081.jpg  \n",
            "  inflating: /content/face-recognition-opencv/dataset/amar_dataset/Sruthi/VID-20200409-WA0070_037.jpg  \n",
            "  inflating: /content/face-recognition-opencv/dataset/amar_dataset/Midhun/20200205_124803 048.jpg  \n",
            "  inflating: /content/face-recognition-opencv/dataset/amar_dataset/Midhun/20200205_124803 012.jpg  \n",
            "  inflating: /content/face-recognition-opencv/dataset/amar_dataset/Shivatheertha/VID-20200409-WA0068_016.jpg  \n",
            "  inflating: /content/face-recognition-opencv/dataset/amar_dataset/Navami/VID-20200409-WA0064 78.jpg  \n",
            "  inflating: /content/face-recognition-opencv/dataset/amar_dataset/Naveen/scene00207.jpeg  \n",
            "  inflating: /content/face-recognition-opencv/dataset/amar_dataset/Midhun/20200205_124803 074.jpg  \n",
            "  inflating: /content/face-recognition-opencv/dataset/amar_dataset/Ramdas/20200205_125201 069.jpg  \n",
            "  inflating: /content/face-recognition-opencv/dataset/amar_dataset/Midhun/20200205_124803 114.jpg  \n",
            "  inflating: /content/face-recognition-opencv/dataset/amar_dataset/Navami/VID-20200409-WA0064 86.jpg  \n",
            "  inflating: /content/face-recognition-opencv/dataset/amar_dataset/Sruthi/VID-20200409-WA0070_013.jpg  \n",
            "  inflating: /content/face-recognition-opencv/dataset/amar_dataset/Naveen/scene00178.jpeg  \n",
            "  inflating: /content/face-recognition-opencv/dataset/amar_dataset/Midhun/20200205_124803 046.jpg  \n",
            "  inflating: /content/face-recognition-opencv/dataset/amar_dataset/Anuroop/20200205_125056 089.jpg  \n",
            "  inflating: /content/face-recognition-opencv/dataset/amar_dataset/Akshay_PL/scene00019.jpeg  \n",
            "  inflating: /content/face-recognition-opencv/dataset/amar_dataset/Akshay_PL/scene00024.jpeg  \n",
            "  inflating: /content/face-recognition-opencv/dataset/amar_dataset/Midhun/20200205_124803 030.jpg  \n",
            "  inflating: /content/face-recognition-opencv/dataset/amar_dataset/Sruthi/VID-20200409-WA0070_021.jpg  \n",
            "  inflating: /content/face-recognition-opencv/dataset/amar_dataset/Uma_U/VID-20200409-WA0071_044.jpg  \n",
            "  inflating: /content/face-recognition-opencv/dataset/amar_dataset/Athira/VID-20200409-WA0061_039.jpg  \n",
            "  inflating: /content/face-recognition-opencv/dataset/amar_dataset/Akshay_PL/scene00120.jpeg  \n",
            "  inflating: /content/face-recognition-opencv/dataset/amar_dataset/Akshay_PL/scene00026.jpeg  \n",
            "  inflating: /content/face-recognition-opencv/dataset/amar_dataset/Akshay_PL/scene00119.jpeg  \n",
            "  inflating: /content/face-recognition-opencv/dataset/amar_dataset/Akshay_PL/scene00071.jpeg  \n",
            "  inflating: /content/face-recognition-opencv/dataset/amar_dataset/Anuroop/20200205_125056 031.jpg  \n",
            "  inflating: /content/face-recognition-opencv/dataset/amar_dataset/Adarsh/VID-20200409-WA0069_019.jpg  \n",
            "  inflating: /content/face-recognition-opencv/dataset/amar_dataset/Midhun/20200205_124803 060.jpg  \n",
            "  inflating: /content/face-recognition-opencv/dataset/amar_dataset/Naveen/scene00187.jpeg  \n",
            "  inflating: /content/face-recognition-opencv/dataset/amar_dataset/Adarsh/VID-20200409-WA0069_018.jpg  \n",
            "  inflating: /content/face-recognition-opencv/dataset/amar_dataset/Ramdas/20200205_125201 134.jpg  \n",
            "  inflating: /content/face-recognition-opencv/dataset/amar_dataset/Ramdas/20200205_125201 063.jpg  \n",
            "  inflating: /content/face-recognition-opencv/dataset/amar_dataset/Adarsh/VID-20200409-WA0069_002.jpg  \n",
            "  inflating: /content/face-recognition-opencv/dataset/amar_dataset/Anuroop/20200205_125056 021.jpg  \n",
            "  inflating: /content/face-recognition-opencv/dataset/amar_dataset/Navami/VID-20200409-WA0064 25.jpg  \n",
            "  inflating: /content/face-recognition-opencv/dataset/amar_dataset/Sruthi/VID-20200409-WA0070_015.jpg  \n",
            "  inflating: /content/face-recognition-opencv/dataset/amar_dataset/Anuroop/20200205_125056 101.jpg  \n",
            "  inflating: /content/face-recognition-opencv/dataset/amar_dataset/Naveen/scene00192.jpeg  \n",
            "  inflating: /content/face-recognition-opencv/dataset/amar_dataset/Athira/VID-20200409-WA0061_036.jpg  \n",
            "  inflating: /content/face-recognition-opencv/dataset/amar_dataset/Ramdas/20200205_125201 088.jpg  \n",
            "  inflating: /content/face-recognition-opencv/dataset/amar_dataset/Naveen/scene00181.jpeg  \n",
            "  inflating: /content/face-recognition-opencv/dataset/amar_dataset/Amal_Vincent/VID-20200409-WA0062_036.jpg  \n",
            "  inflating: /content/face-recognition-opencv/dataset/amar_dataset/Akshay_PL/scene00097.jpeg  \n",
            "  inflating: /content/face-recognition-opencv/dataset/amar_dataset/Ramdas/20200205_125201 013.jpg  \n",
            "  inflating: /content/face-recognition-opencv/dataset/amar_dataset/Amal_Vincent/VID-20200409-WA0062_002.jpg  \n",
            "  inflating: /content/face-recognition-opencv/dataset/amar_dataset/Shivatheertha/VID-20200409-WA0068_026.jpg  \n",
            "  inflating: /content/face-recognition-opencv/dataset/amar_dataset/Uma_U/VID-20200409-WA0071_018.jpg  \n",
            "  inflating: /content/face-recognition-opencv/dataset/amar_dataset/Uma_U/VID-20200409-WA0071_017.jpg  \n",
            "  inflating: /content/face-recognition-opencv/dataset/amar_dataset/Amal_Vincent/VID-20200409-WA0062_019.jpg  \n",
            "  inflating: /content/face-recognition-opencv/dataset/amar_dataset/Anuroop/20200205_125056 044.jpg  \n",
            "  inflating: /content/face-recognition-opencv/dataset/amar_dataset/Ramdas/20200205_125201 074.jpg  \n",
            "  inflating: /content/face-recognition-opencv/dataset/amar_dataset/Naveen/scene00186.jpeg  \n",
            "  inflating: /content/face-recognition-opencv/dataset/amar_dataset/Akshay_PL/scene00050.jpeg  \n",
            "  inflating: /content/face-recognition-opencv/dataset/amar_dataset/Ramdas/20200205_125201 094.jpg  \n",
            "  inflating: /content/face-recognition-opencv/dataset/amar_dataset/Navami/VID-20200409-WA0064 87.jpg  \n",
            "  inflating: /content/face-recognition-opencv/dataset/amar_dataset/Ramdas/20200205_125201 073.jpg  \n",
            "  inflating: /content/face-recognition-opencv/dataset/amar_dataset/Akshay_PL/scene00004.jpeg  \n",
            "  inflating: /content/face-recognition-opencv/dataset/amar_dataset/Shivatheertha/VID-20200409-WA0068_000.jpg  \n",
            "  inflating: /content/face-recognition-opencv/dataset/amar_dataset/Amal_Vincent/VID-20200409-WA0062_013.jpg  \n",
            "  inflating: /content/face-recognition-opencv/dataset/amar_dataset/Amal_Vincent/VID-20200409-WA0062_007.jpg  \n",
            "  inflating: /content/face-recognition-opencv/dataset/amar_dataset/Uma_U/VID-20200409-WA0071_032.jpg  \n",
            "  inflating: /content/face-recognition-opencv/dataset/amar_dataset/Navami/VID-20200409-WA0064 39.jpg  \n",
            "  inflating: /content/face-recognition-opencv/dataset/amar_dataset/Navami/VID-20200409-WA0064 19.jpg  \n",
            "  inflating: /content/face-recognition-opencv/dataset/amar_dataset/Amal_Vincent/VID-20200409-WA0062_058.jpg  \n",
            "  inflating: /content/face-recognition-opencv/dataset/amar_dataset/Midhun/20200205_124803 051.jpg  \n",
            "  inflating: /content/face-recognition-opencv/dataset/amar_dataset/Navami/VID-20200409-WA0064 23.jpg  \n",
            "  inflating: /content/face-recognition-opencv/dataset/amar_dataset/Oscar/VID-20200409-WA0060_060.jpg  \n",
            "  inflating: /content/face-recognition-opencv/dataset/amar_dataset/Ramdas/20200205_125201 140.jpg  \n",
            "  inflating: /content/face-recognition-opencv/dataset/amar_dataset/Akshay_PL/scene00105.jpeg  \n",
            "  inflating: /content/face-recognition-opencv/dataset/amar_dataset/Sruthi/VID-20200409-WA0070_007.jpg  \n",
            "  inflating: /content/face-recognition-opencv/dataset/amar_dataset/Adarsh/VID-20200409-WA0069_005.jpg  \n",
            "  inflating: /content/face-recognition-opencv/dataset/amar_dataset/Navami/VID-20200409-WA0064 55.jpg  \n",
            "  inflating: /content/face-recognition-opencv/dataset/amar_dataset/Oscar/VID-20200409-WA0060_041.jpg  \n",
            "  inflating: /content/face-recognition-opencv/dataset/amar_dataset/Akshay_PL/scene00023.jpeg  \n",
            "  inflating: /content/face-recognition-opencv/dataset/amar_dataset/Oscar/VID-20200409-WA0060_003.jpg  \n",
            "  inflating: /content/face-recognition-opencv/dataset/amar_dataset/Naveen/scene00214.jpeg  \n",
            "  inflating: /content/face-recognition-opencv/dataset/amar_dataset/Ramdas/20200205_125201 038.jpg  \n",
            "  inflating: /content/face-recognition-opencv/dataset/amar_dataset/Uma_U/VID-20200409-WA0071_024.jpg  \n",
            "  inflating: /content/face-recognition-opencv/dataset/amar_dataset/Midhun/20200205_124803 038.jpg  \n",
            "  inflating: /content/face-recognition-opencv/dataset/amar_dataset/Akshay_PL/scene00030.jpeg  \n",
            "  inflating: /content/face-recognition-opencv/dataset/amar_dataset/Midhun/20200205_124803 075.jpg  \n",
            "  inflating: /content/face-recognition-opencv/dataset/amar_dataset/Sruthi/VID-20200409-WA0070_010.jpg  \n",
            "  inflating: /content/face-recognition-opencv/dataset/amar_dataset/Sruthi/VID-20200409-WA0070_011.jpg  \n",
            "  inflating: /content/face-recognition-opencv/dataset/amar_dataset/Anuroop/20200205_125056 043.jpg  \n",
            "  inflating: /content/face-recognition-opencv/dataset/amar_dataset/Navami/VID-20200409-WA0064 63.jpg  \n",
            "  inflating: /content/face-recognition-opencv/dataset/amar_dataset/Sruthi/VID-20200409-WA0070_036.jpg  \n"
          ],
          "name": "stdout"
        }
      ]
    },
    {
      "cell_type": "markdown",
      "metadata": {
        "id": "dsiXmAvTjmmO"
      },
      "source": [
        "## AIM : Learnign The Encodings for the Cut_dataset"
      ]
    },
    {
      "cell_type": "code",
      "metadata": {
        "id": "BghHE0LsjtE2",
        "colab": {
          "base_uri": "https://localhost:8080/",
          "height": 32
        },
        "outputId": "c144a1f2-f9de-4011-a761-99f35ddf91ff"
      },
      "source": [
        "# deleting any preexisting encodings_new.pickle\n",
        "!rm encodings_new.pickle"
      ],
      "execution_count": null,
      "outputs": [
        {
          "output_type": "stream",
          "text": [
            "rm: cannot remove 'encodings_new.pickle': No such file or directory\n"
          ],
          "name": "stdout"
        }
      ]
    },
    {
      "cell_type": "code",
      "metadata": {
        "id": "YLjgKvOjj2Bm"
      },
      "source": [
        "# we're removing amal's folder cause it's causing some problems.\n",
        "!rm -r /content/face-recognition-opencv/dataset/cut_dataset/Amal"
      ],
      "execution_count": null,
      "outputs": []
    },
    {
      "cell_type": "code",
      "metadata": {
        "id": "D0qzGRoWj_XL",
        "colab": {
          "base_uri": "https://localhost:8080/",
          "height": 807
        },
        "outputId": "e6efcf94-0508-4941-e14c-ec7629fa87a7"
      },
      "source": [
        "# Subsection       : A-3\n",
        "# Aim              : Training on the dataset containing Anuroop, kunju, midhun, Ramdas\n",
        "# Note             : running the encode_faces file.\n",
        "# Status           : testing\n",
        "# Mission control  : If running to observe pickle on bigass dataset, GO\n",
        "\n",
        "!python /content/face-recognition-opencv/encode_faces.py --dataset /content/face-recognition-opencv/dataset/cut_dataset --encodings encodings_new.pickle"
      ],
      "execution_count": null,
      "outputs": [
        {
          "output_type": "stream",
          "text": [
            "[INFO] quantifying faces...\n",
            "[INFO] processing image 1/46\n",
            "[INFO] processing image 2/46\n",
            "[INFO] processing image 3/46\n",
            "[INFO] processing image 4/46\n",
            "[INFO] processing image 5/46\n",
            "[INFO] processing image 6/46\n",
            "[INFO] processing image 7/46\n",
            "[INFO] processing image 8/46\n",
            "[INFO] processing image 9/46\n",
            "[INFO] processing image 10/46\n",
            "[INFO] processing image 11/46\n",
            "[INFO] processing image 12/46\n",
            "[INFO] processing image 13/46\n",
            "[INFO] processing image 14/46\n",
            "[INFO] processing image 15/46\n",
            "[INFO] processing image 16/46\n",
            "[INFO] processing image 17/46\n",
            "[INFO] processing image 18/46\n",
            "[INFO] processing image 19/46\n",
            "[INFO] processing image 20/46\n",
            "[INFO] processing image 21/46\n",
            "[INFO] processing image 22/46\n",
            "[INFO] processing image 23/46\n",
            "[INFO] processing image 24/46\n",
            "[INFO] processing image 25/46\n",
            "[INFO] processing image 26/46\n",
            "[INFO] processing image 27/46\n",
            "[INFO] processing image 28/46\n",
            "[INFO] processing image 29/46\n",
            "[INFO] processing image 30/46\n",
            "[INFO] processing image 31/46\n",
            "[INFO] processing image 32/46\n",
            "[INFO] processing image 33/46\n",
            "[INFO] processing image 34/46\n",
            "[INFO] processing image 35/46\n",
            "[INFO] processing image 36/46\n",
            "[INFO] processing image 37/46\n",
            "[INFO] processing image 38/46\n",
            "[INFO] processing image 39/46\n",
            "[INFO] processing image 40/46\n",
            "[INFO] processing image 41/46\n",
            "[INFO] processing image 42/46\n",
            "[INFO] processing image 43/46\n",
            "[INFO] processing image 44/46\n",
            "[INFO] processing image 45/46\n",
            "[INFO] processing image 46/46\n",
            "[INFO] serializing encodings...\n"
          ],
          "name": "stdout"
        }
      ]
    },
    {
      "cell_type": "code",
      "metadata": {
        "id": "xrf6mbGBkIft",
        "colab": {
          "base_uri": "https://localhost:8080/",
          "height": 49
        },
        "outputId": "0b1de9d4-0146-478c-961b-beaf93c691be"
      },
      "source": [
        "# loading the pickle and find the kind of data is input in\n",
        "\n",
        "pickle_in = open(\"/content/face-recognition-opencv/encodings_new.pickle\",\"rb\")\n",
        "samp_1 = pickle.load(pickle_in)\n",
        "pickle_in.close()\n",
        "\n",
        "print(\"Class of the dumped thing\")\n",
        "print(type(samp_1))\n"
      ],
      "execution_count": null,
      "outputs": [
        {
          "output_type": "stream",
          "text": [
            "Class of the dumped thing\n",
            "<class 'dict'>\n"
          ],
          "name": "stdout"
        }
      ]
    },
    {
      "cell_type": "markdown",
      "metadata": {
        "id": "TXdvWF1XHW38"
      },
      "source": [
        "## AIM : LEARNING THE ENCODINGS FOR THE AMAR_DATASET  \n",
        "> The encodings learned are encodings_new.pickle  \n",
        "> The dataset used is cut_dataset"
      ]
    },
    {
      "cell_type": "code",
      "metadata": {
        "id": "r6QaclvqgE-0",
        "colab": {
          "base_uri": "https://localhost:8080/",
          "height": 32
        },
        "outputId": "ddcd78c8-cb49-48c0-92a6-6ffb91997f9a"
      },
      "source": [
        "# deleting any preexisting encodings_new.pickle\n",
        "!rm encodings_new.pickle"
      ],
      "execution_count": null,
      "outputs": [
        {
          "output_type": "stream",
          "text": [
            "rm: cannot remove 'encodings_new.pickle': No such file or directory\n"
          ],
          "name": "stdout"
        }
      ]
    },
    {
      "cell_type": "code",
      "metadata": {
        "id": "NQTIYBi2Zkvb"
      },
      "source": [
        "# we're removing amal's folder cause it's causing some problems.\n",
        "!rm -r /content/face-recognition-opencv/dataset/amar_dataset/Amal_Mohan\n",
        "!rm -r /content/face-recognition-opencv/dataset/amar_dataset/Bharath"
      ],
      "execution_count": null,
      "outputs": []
    },
    {
      "cell_type": "code",
      "metadata": {
        "id": "Oqn8rTuzDFJW",
        "colab": {
          "base_uri": "https://localhost:8080/",
          "height": 69
        },
        "outputId": "2f3e38e3-c252-4d84-9ae9-9c276229e165"
      },
      "source": [
        "# This piece of code is just to check if we are able to get the path to all the folders.\n",
        "\n",
        "# create a list containing the path to all subfolders\n",
        "path_list = [x[0] for x in os.walk(\"/content/face-recognition-opencv/dataset/amar_dataset/\")][1:]\n",
        "print(\"The following is the path to all subfolders\")\n",
        "print(path_list)"
      ],
      "execution_count": null,
      "outputs": [
        {
          "output_type": "stream",
          "text": [
            "The following is the path to all subfolders\n",
            "['/content/face-recognition-opencv/dataset/amar_dataset/Oscar', '/content/face-recognition-opencv/dataset/amar_dataset/Athira', '/content/face-recognition-opencv/dataset/amar_dataset/Anuroop', '/content/face-recognition-opencv/dataset/amar_dataset/Adarsh', '/content/face-recognition-opencv/dataset/amar_dataset/Sruthi', '/content/face-recognition-opencv/dataset/amar_dataset/Ramdas', '/content/face-recognition-opencv/dataset/amar_dataset/Akshay_PL', '/content/face-recognition-opencv/dataset/amar_dataset/Naveen', '/content/face-recognition-opencv/dataset/amar_dataset/Navami', '/content/face-recognition-opencv/dataset/amar_dataset/Amal_Vincent', '/content/face-recognition-opencv/dataset/amar_dataset/Midhun', '/content/face-recognition-opencv/dataset/amar_dataset/Shivatheertha', '/content/face-recognition-opencv/dataset/amar_dataset/Uma_U']\n"
          ],
          "name": "stdout"
        }
      ]
    },
    {
      "cell_type": "code",
      "metadata": {
        "id": "tI2nV9Iklww0",
        "colab": {
          "base_uri": "https://localhost:8080/",
          "height": 852
        },
        "outputId": "6f2f287e-d846-47bd-c301-5448403b6d64"
      },
      "source": [
        "# create a list containing the path to all subfolders\n",
        "path_list = [x[0] for x in os.walk(\"/content/face-recognition-opencv/dataset/amar_dataset/\")][1:]\n",
        "print(\"The following is the path to all subfolders\")\n",
        "print(path_list)\n",
        "\n",
        "# defining an empty list\n",
        "list_encodings = []\n",
        "list_names = []\n",
        "\n",
        "i = 0\n",
        "while i<len(path_list): # looping over all the folders in the dataset directory\n",
        "\n",
        "    # root folder contains the path for an individual folder\n",
        "    root_folder = path_list[i]\n",
        "\n",
        "    # the part where we run the script on the dataset. This guy produces encodings_new.pickle\n",
        "    !python /content/face-recognition-opencv/encode_faces.py --dataset $root_folder --encodings encodings_new.pickle\n",
        "\n",
        "    # we open the pickle file\n",
        "    pickle_in = open(\"/content/face-recognition-opencv/encodings_new.pickle\",\"rb\")\n",
        "    samp_1 = pickle.load(pickle_in)\n",
        "    pickle_in.close()\n",
        "\n",
        "    # deleting the file since it shouldn't cause a problem for\n",
        "    !rm /content/face-recognition-opencv/encodings_new.pickle\n",
        "\n",
        "    # appending the list\n",
        "    list_encodings.extend(samp_1['encodings'])\n",
        "    list_names.extend(samp_1['names'])\n",
        "\n",
        "    #printing the status\n",
        "    print(\"The class of samp_1['encodings']\")\n",
        "    print(type(samp_1['encodings']))\n",
        "\n",
        "    print(\"The number of encodings in the pickle\")\n",
        "    print(len(samp_1['encodings']))\n",
        "\n",
        "    print(\"The number of encodings in the list_encodings\")\n",
        "    print(len(list_encodings))\n",
        "\n",
        "    # updating the i\n",
        "    i+=1\n",
        "\n",
        "# printing the final length\n",
        "print(\"The length of list_encodings\")\n",
        "print(len(list_encodings))\n",
        "\n",
        "print(\"The length of list_names\")\n",
        "print(len(list_names))"
      ],
      "execution_count": null,
      "outputs": [
        {
          "output_type": "stream",
          "text": [
            "The following is the path to all subfolders\n",
            "['/content/face-recognition-opencv/dataset/amar_dataset/Oscar', '/content/face-recognition-opencv/dataset/amar_dataset/Athira', '/content/face-recognition-opencv/dataset/amar_dataset/Anuroop', '/content/face-recognition-opencv/dataset/amar_dataset/Adarsh', '/content/face-recognition-opencv/dataset/amar_dataset/Sruthi', '/content/face-recognition-opencv/dataset/amar_dataset/Ramdas', '/content/face-recognition-opencv/dataset/amar_dataset/Akshay_PL', '/content/face-recognition-opencv/dataset/amar_dataset/Naveen', '/content/face-recognition-opencv/dataset/amar_dataset/Navami', '/content/face-recognition-opencv/dataset/amar_dataset/Amal_Vincent', '/content/face-recognition-opencv/dataset/amar_dataset/Midhun', '/content/face-recognition-opencv/dataset/amar_dataset/Shivatheertha', '/content/face-recognition-opencv/dataset/amar_dataset/Uma_U']\n",
            "[INFO] quantifying faces...\n",
            "[INFO] processing image 1/71\n",
            "[INFO] processing image 2/71\n",
            "[INFO] processing image 3/71\n",
            "[INFO] processing image 4/71\n",
            "[INFO] processing image 5/71\n",
            "[INFO] processing image 6/71\n",
            "[INFO] processing image 7/71\n",
            "[INFO] processing image 8/71\n",
            "[INFO] processing image 9/71\n",
            "[INFO] processing image 10/71\n",
            "[INFO] processing image 11/71\n",
            "[INFO] processing image 12/71\n",
            "[INFO] processing image 13/71\n",
            "[INFO] processing image 14/71\n",
            "[INFO] processing image 15/71\n",
            "[INFO] processing image 16/71\n",
            "[INFO] processing image 17/71\n",
            "[INFO] processing image 18/71\n",
            "[INFO] processing image 19/71\n",
            "[INFO] processing image 20/71\n",
            "[INFO] processing image 21/71\n",
            "[INFO] processing image 22/71\n",
            "[INFO] processing image 23/71\n",
            "[INFO] processing image 24/71\n",
            "[INFO] processing image 25/71\n",
            "[INFO] processing image 26/71\n",
            "[INFO] processing image 27/71\n",
            "[INFO] processing image 28/71\n",
            "[INFO] processing image 29/71\n",
            "[INFO] processing image 30/71\n",
            "[INFO] processing image 31/71\n",
            "[INFO] processing image 32/71\n",
            "[INFO] processing image 33/71\n",
            "[INFO] processing image 34/71\n",
            "[INFO] processing image 35/71\n",
            "[INFO] processing image 36/71\n",
            "[INFO] processing image 37/71\n",
            "[INFO] processing image 38/71\n",
            "[INFO] processing image 39/71\n",
            "[INFO] processing image 40/71\n",
            "[INFO] processing image 41/71\n",
            "[INFO] processing image 42/71\n",
            "[INFO] processing image 43/71\n",
            "[INFO] processing image 44/71\n",
            "[INFO] processing image 45/71\n"
          ],
          "name": "stdout"
        }
      ]
    },
    {
      "cell_type": "code",
      "metadata": {
        "id": "5hVrzFyuy--l",
        "colab": {
          "base_uri": "https://localhost:8080/",
          "height": 32
        },
        "outputId": "0d16a295-4b69-4a0a-b47f-0bdc9b464081"
      },
      "source": [
        "# Listing All the encodings in the directory\n",
        "!ls -lh encodings*"
      ],
      "execution_count": null,
      "outputs": [
        {
          "output_type": "stream",
          "text": [
            "-rw-r--r-- 1 root root 235K May 29  2018 encodings.pickle\n"
          ],
          "name": "stdout"
        }
      ]
    },
    {
      "cell_type": "code",
      "metadata": {
        "id": "ZPm6zk7Fl7bG",
        "colab": {
          "base_uri": "https://localhost:8080/",
          "height": 32
        },
        "outputId": "3ac5ef2f-451b-436c-8f58-6f268e85a6ca"
      },
      "source": [
        "# The encodings and names are combined and made into a pickle here\n",
        "# pickle file: aggregatepickle.pkl\n",
        "# database\n",
        "db = {}\n",
        "db['encodings'] = list_encodings\n",
        "db['names'] = list_names\n",
        "\n",
        "#opening a pickle file to write\n",
        "dbfile = open('/content/face-recognition-opencv/aggregatepickle.pkl','wb')\n",
        "pickle.dump(db,dbfile)\n",
        "dbfile.close\n",
        "\n",
        "print(type(db))"
      ],
      "execution_count": null,
      "outputs": [
        {
          "output_type": "stream",
          "text": [
            "<class 'dict'>\n"
          ],
          "name": "stdout"
        }
      ]
    },
    {
      "cell_type": "code",
      "metadata": {
        "id": "Jf5xp5Ivi1ST",
        "colab": {
          "base_uri": "https://localhost:8080/",
          "height": 49
        },
        "outputId": "f41acc19-a035-4ab0-d055-385609adc9e5"
      },
      "source": [
        "#Reading the aggregate pickle file\n",
        "dbfile = open('/content/face-recognition-opencv/aggregatepickle.pkl','rb')\n",
        "db_read = pickle.load(dbfile)\n",
        "dbfile.close()\n",
        "\n",
        "print(\"The length of db_read['encodings']\")\n",
        "print(len(db_read['encodings']))\n"
      ],
      "execution_count": null,
      "outputs": [
        {
          "output_type": "stream",
          "text": [
            "The length of db_read['encodings']\n",
            "1290\n"
          ],
          "name": "stdout"
        }
      ]
    },
    {
      "cell_type": "markdown",
      "metadata": {
        "id": "jDmR5wqgWNUw"
      },
      "source": [
        "## AIM : To Find The Names In The Encodings"
      ]
    },
    {
      "cell_type": "code",
      "metadata": {
        "id": "P84utsp3D5S3",
        "colab": {
          "base_uri": "https://localhost:8080/",
          "height": 230
        },
        "outputId": "c440a568-715f-4e51-e3f5-4ba48a5ff67e"
      },
      "source": [
        "def unique(list1):\n",
        "\n",
        "    # intilize a null list\n",
        "    unique_list = []\n",
        "\n",
        "    # traverse for all elements\n",
        "    for x in list1:\n",
        "        # check if exists in unique_list or not\n",
        "        if x not in unique_list:\n",
        "            unique_list.append(x)\n",
        "    # print list\n",
        "    for x in unique_list:\n",
        "        print(x)\n",
        "\n",
        "unique(list_names)"
      ],
      "execution_count": null,
      "outputs": [
        {
          "output_type": "stream",
          "text": [
            "Oscar\n",
            "Athira\n",
            "Anuroop\n",
            "Adarsh\n",
            "Sruthi\n",
            "Ramdas\n",
            "Akshay_PL\n",
            "Naveen\n",
            "Navami\n",
            "Amal_Vincent\n",
            "Midhun\n",
            "Shivatheertha\n",
            "Uma_U\n"
          ],
          "name": "stdout"
        }
      ]
    },
    {
      "cell_type": "markdown",
      "metadata": {
        "id": "1n6K2DbAhP72"
      },
      "source": [
        "## AIM : Creating A Loop for The Recognizing Images"
      ]
    },
    {
      "cell_type": "code",
      "metadata": {
        "id": "QhSQQW2uXzmN",
        "colab": {
          "base_uri": "https://localhost:8080/",
          "height": 135
        },
        "outputId": "aa24a980-a9f6-4b00-86c6-5d0988ab0595"
      },
      "source": [
        "# copying the test_folder dataset\n",
        "!cp -avr /content/drive/My\\ Drive/dataset_local/test_image_folder /content/face-recognition-opencv/dataset/"
      ],
      "execution_count": null,
      "outputs": [
        {
          "output_type": "stream",
          "text": [
            "'/content/drive/My Drive/dataset_local/test_image_folder' -> '/content/face-recognition-opencv/dataset/test_image_folder'\n",
            "'/content/drive/My Drive/dataset_local/test_image_folder/test_image_2.jpg' -> '/content/face-recognition-opencv/dataset/test_image_folder/test_image_2.jpg'\n",
            "'/content/drive/My Drive/dataset_local/test_image_folder/test_image_3.jpg' -> '/content/face-recognition-opencv/dataset/test_image_folder/test_image_3.jpg'\n",
            "'/content/drive/My Drive/dataset_local/test_image_folder/test_image_1.jpg' -> '/content/face-recognition-opencv/dataset/test_image_folder/test_image_1.jpg'\n",
            "'/content/drive/My Drive/dataset_local/test_image_folder/test_image_0.jpg' -> '/content/face-recognition-opencv/dataset/test_image_folder/test_image_0.jpg'\n",
            "'/content/drive/My Drive/dataset_local/test_image_folder/vincent.jpg' -> '/content/face-recognition-opencv/dataset/test_image_folder/vincent.jpg'\n"
          ],
          "name": "stdout"
        }
      ]
    },
    {
      "cell_type": "code",
      "metadata": {
        "id": "Khvby24TYUzA"
      },
      "source": [
        "# create a list containing the path to all subfolders\n",
        "import glob"
      ],
      "execution_count": null,
      "outputs": []
    },
    {
      "cell_type": "code",
      "metadata": {
        "id": "ts1v2Ou3buSL",
        "colab": {
          "base_uri": "https://localhost:8080/",
          "height": 52
        },
        "outputId": "e7cbe347-5805-49ab-bc16-23fa75c06046"
      },
      "source": [
        "# test_paths contain the list of complete paths to all files\n",
        "test_paths = glob.glob(\"/content/face-recognition-opencv/dataset/test_image_folder/*.jpg\")\n",
        "print(test_paths)"
      ],
      "execution_count": null,
      "outputs": [
        {
          "output_type": "stream",
          "text": [
            "['/content/face-recognition-opencv/dataset/test_image_folder/test_image_3.jpg', '/content/face-recognition-opencv/dataset/test_image_folder/test_image_2.jpg', '/content/face-recognition-opencv/dataset/test_image_folder/test_image_0.jpg', '/content/face-recognition-opencv/dataset/test_image_folder/vincent.jpg', '/content/face-recognition-opencv/dataset/test_image_folder/test_image_1.jpg']\n"
          ],
          "name": "stdout"
        }
      ]
    },
    {
      "cell_type": "code",
      "metadata": {
        "id": "zIdqMzfNA603",
        "colab": {
          "base_uri": "https://localhost:8080/",
          "height": 263
        },
        "outputId": "004be3db-49a5-4c96-c47a-3c26608aa02a"
      },
      "source": [
        "# creating attendance matrix\n",
        "name_matrix = [\"Naveen\", \"Sruthi\", \"Anuroop\", \"Amal_Vincent\", \"Navami\", \"Uma_U\", \"Midhun\", \"Shivatheertha\", \"Adarsh\", \"Athira\", \"Oscar\", \"Akshay_PL\", \"Ramdas\"]\n",
        "attendance_matrix_test = np.zeros([len(name_matrix),len(test_paths)])\n",
        "\n",
        "print(\"The shape of attendance_matrix_test =\", attendance_matrix_test.shape)\n",
        "print(\"This is the attendance_matrix_test\")\n",
        "print(attendance_matrix_test)"
      ],
      "execution_count": null,
      "outputs": [
        {
          "output_type": "stream",
          "text": [
            "The shape of attendance_matrix_test = (13, 5)\n",
            "This is the attendance_matrix_test\n",
            "[[0. 0. 0. 0. 0.]\n",
            " [0. 0. 0. 0. 0.]\n",
            " [0. 0. 0. 0. 0.]\n",
            " [0. 0. 0. 0. 0.]\n",
            " [0. 0. 0. 0. 0.]\n",
            " [0. 0. 0. 0. 0.]\n",
            " [0. 0. 0. 0. 0.]\n",
            " [0. 0. 0. 0. 0.]\n",
            " [0. 0. 0. 0. 0.]\n",
            " [0. 0. 0. 0. 0.]\n",
            " [0. 0. 0. 0. 0.]\n",
            " [0. 0. 0. 0. 0.]\n",
            " [0. 0. 0. 0. 0.]]\n"
          ],
          "name": "stdout"
        }
      ]
    },
    {
      "cell_type": "markdown",
      "metadata": {
        "id": "bjVEEqZ9Y2N_"
      },
      "source": [
        "# AIM: Recognising part"
      ]
    },
    {
      "cell_type": "markdown",
      "metadata": {
        "id": "hVLykIznu15Z"
      },
      "source": [
        "Here, we find the encoding for a single image"
      ]
    },
    {
      "cell_type": "code",
      "metadata": {
        "id": "Df48GoFFY5Ty",
        "colab": {
          "base_uri": "https://localhost:8080/",
          "height": 576
        },
        "outputId": "c2dc4154-1b16-4665-c4b4-2f271ef39e0e"
      },
      "source": [
        "# USAGE\n",
        "# python recognize_faces_image.py --encodings encodings.pickle --image examples/example_01.png\n",
        "\n",
        "\n",
        "# import the necessary packages\n",
        "import face_recognition\n",
        "import pickle\n",
        "import cv2\n",
        "import os\n",
        "\n",
        "# load the input image and convert it from BGR to RGB\n",
        "image = cv2.imread('/content/face-recognition-opencv/dataset/test_image_folder/test_image_3.jpg')\n",
        "rgb = cv2.cvtColor(image, cv2.COLOR_BGR2RGB)\n",
        "\n",
        "# detect the (x, y)-coordinates of the bounding boxes corresponding\n",
        "# to each face in the input image, then compute the facial embeddings\n",
        "# for each face\n",
        "print(\"[INFO] recognizing faces...\")\n",
        "boxes = face_recognition.face_locations(rgb,\n",
        "    model=\"cnn\")\n",
        "encodings = face_recognition.face_encodings(rgb, boxes) # this is the guy that takes the encodings\n",
        "\n",
        "# the output will be a list.\n",
        "print(\n",
        "    \"The encoding of the image is \",\n",
        "    encodings[1]\n",
        ")\n",
        "\n",
        "number_of_people_in_image = len(encodings)\n",
        "print(\n",
        "    \"The number of people in the image is \",\n",
        "    number_of_people_in_image\n",
        ")"
      ],
      "execution_count": null,
      "outputs": [
        {
          "output_type": "stream",
          "text": [
            "[INFO] recognizing faces...\n",
            "The encoding of the image is  [-1.20307729e-01  1.18554533e-01  9.40645188e-02 -1.92211792e-02\n",
            " -7.91855529e-02 -3.61851901e-02  1.35016814e-02  1.98641792e-02\n",
            "  1.46640182e-01 -2.61861086e-02  1.77343935e-01 -2.37914622e-02\n",
            " -2.01898620e-01 -1.39666155e-01  2.98371911e-02  1.32413849e-01\n",
            " -8.72153938e-02 -1.80034071e-01 -2.22388767e-02 -6.57090992e-02\n",
            "  2.14263797e-02  2.17185952e-02  5.30094653e-03  6.53399378e-02\n",
            " -1.38054609e-01 -3.15690577e-01 -5.75329773e-02 -1.86954260e-01\n",
            "  3.12569812e-02 -1.68628797e-01 -5.74095100e-02  6.99947476e-02\n",
            " -1.41596243e-01 -6.33031130e-02 -2.26126090e-02  1.15321763e-01\n",
            "  1.63331628e-04 -8.33646134e-02  1.68369502e-01  5.57099730e-02\n",
            " -1.24932535e-01 -1.24682888e-01 -8.02362710e-03  3.31975281e-01\n",
            "  1.67372674e-01 -1.91462040e-03  6.54978156e-02  2.08953507e-02\n",
            "  5.44446334e-02 -2.03163326e-01  6.67375326e-02  1.13851875e-01\n",
            "  1.65222198e-01  5.64715900e-02  4.57051247e-02 -1.30480081e-01\n",
            "  3.76441851e-02 -5.61153740e-02 -1.69113681e-01  3.90539765e-02\n",
            "  4.33707312e-02 -4.46763523e-02 -1.02504142e-01 -4.60738279e-02\n",
            "  2.79722363e-01  5.37419915e-02 -1.00384146e-01 -9.46542174e-02\n",
            "  1.31834447e-01 -1.56230092e-01 -8.50638747e-02  5.79538606e-02\n",
            " -1.43867105e-01 -8.53262693e-02 -2.83480287e-01  4.48674038e-02\n",
            "  3.34459007e-01  1.22058444e-01 -2.12081119e-01  1.84403732e-02\n",
            " -1.34871006e-01 -9.15495679e-03 -8.37811455e-03  8.97761285e-02\n",
            " -1.06622294e-01  9.72321332e-02 -1.44231454e-01  4.86383811e-02\n",
            "  1.55123770e-01 -6.29358888e-02 -4.93098572e-02  1.21634319e-01\n",
            "  1.07436329e-02  3.23736519e-02  2.56849602e-02 -1.03515685e-02\n",
            " -2.23652795e-02 -2.81473994e-03 -5.02436385e-02 -3.19832936e-02\n",
            "  1.41805395e-01 -1.02672189e-01 -3.69208232e-02  1.19042426e-01\n",
            " -2.02461049e-01  8.83363634e-02  2.74281111e-02 -2.08830535e-02\n",
            "  2.60116160e-03  2.45380551e-02 -1.90957963e-01 -8.90618190e-02\n",
            "  1.77331880e-01 -1.89884424e-01  1.06573343e-01  1.96333215e-01\n",
            " -1.39754750e-02  8.41834545e-02  9.03097093e-02  9.56856087e-02\n",
            " -3.05116698e-02 -4.17205393e-02 -1.08073518e-01 -5.24354130e-02\n",
            "  6.46529198e-02  1.05877593e-02  2.50756964e-02  4.87704799e-02]\n",
            "The number of people in the image is  2\n"
          ],
          "name": "stdout"
        }
      ]
    },
    {
      "cell_type": "markdown",
      "metadata": {
        "id": "hi4db4pFu7g8"
      },
      "source": [
        "Here, we compare the encoding of a single photo with every other encoding in the database"
      ]
    },
    {
      "cell_type": "code",
      "metadata": {
        "id": "XBGxXCBhhrkN",
        "colab": {
          "base_uri": "https://localhost:8080/",
          "height": 82
        },
        "outputId": "202b8ff3-d968-4a01-e794-180dc884e51f"
      },
      "source": [
        "# to compare the encoding of the people in the image with our database\n",
        "\n",
        "#first, we need to load our database\n",
        "# we'll be using the aggregatepickle file\n",
        "print(\"[INFO] loading encodings...\")\n",
        "dbfile = open('/content/face-recognition-opencv/aggregatepickle.pkl','rb')\n",
        "db_read = pickle.load(dbfile) # db_read file contains the dictionary\n",
        "dbfile.close()\n",
        "\n",
        "database_encodings = db_read[\"encodings\"] # note that database_encodings is a list\n",
        "# there are 1290 encodings\n",
        "print(\n",
        "    \"The number of encodings in the pickle\",\n",
        "    len(database_encodings)\n",
        ")\n",
        "\n",
        "#first find the distance between the database. Find the max. If the max is more than a threshold,\n",
        "# find the index and assign the name.\n",
        "\n",
        "distance_vector = np.empty(len(database_encodings), dtype = np.float32)\n",
        "\n",
        "i = 0\n",
        "while i<len(database_encodings):\n",
        "    distance_vector[i] = np.sqrt(np.sum(np.square(encodings[0] - database_encodings[i])))\n",
        "    i+=1\n",
        "\n",
        "print(\n",
        "    \"The maximum value in the distance_vector is \",\n",
        "    np.max(distance_vector)\n",
        ")\n",
        "\n",
        "print(\n",
        "    \"The minimum value in the distance_vector is \",\n",
        "    np.min(distance_vector)\n",
        ")\n"
      ],
      "execution_count": null,
      "outputs": [
        {
          "output_type": "stream",
          "text": [
            "[INFO] loading encodings...\n",
            "The number of encodings in the pickle 1290\n",
            "The maximum value in the distance_vector is  0.8990908\n",
            "The minimum value in the distance_vector is  0.40332505\n"
          ],
          "name": "stdout"
        }
      ]
    },
    {
      "cell_type": "markdown",
      "metadata": {
        "id": "uwrJoHlsvCnE"
      },
      "source": [
        "Here, we try to find the appropriate threshold.  \n",
        "We took the image of midhun and compared it with the database and found the min, max and mean distances with the rest of the images in the cluster"
      ]
    },
    {
      "cell_type": "code",
      "metadata": {
        "id": "mz2NlnqAt9Aw"
      },
      "source": [
        "# copying midhuns image from the drive to our thingy\n",
        "!cp /content/drive/My\\ Drive/dataset_local/test_image_folder/midhun_1.jpg /content/face-recognition-opencv/dataset/test_image_folder/"
      ],
      "execution_count": null,
      "outputs": []
    },
    {
      "cell_type": "code",
      "metadata": {
        "id": "mgAYxhPRbjlm",
        "colab": {
          "base_uri": "https://localhost:8080/",
          "height": 82
        },
        "outputId": "7d8f604e-7836-4b52-c004-1889b699f289"
      },
      "source": [
        "# this cell is to decide on a threshold value\n",
        "\n",
        "\n",
        "# import the necessary packages\n",
        "import face_recognition\n",
        "import pickle\n",
        "import cv2\n",
        "import os\n",
        "\n",
        "# load the input image and convert it from BGR to RGB\n",
        "image = cv2.imread('/content/face-recognition-opencv/dataset/test_image_folder/midhun_1.jpg')\n",
        "rgb = cv2.cvtColor(image, cv2.COLOR_BGR2RGB)\n",
        "\n",
        "# detect the (x, y)-coordinates of the bounding boxes corresponding\n",
        "# to each face in the input image, then compute the facial embeddings\n",
        "# for each face\n",
        "print(\"[INFO] recognizing faces...\")\n",
        "boxes = face_recognition.face_locations(rgb,\n",
        "    model=\"cnn\")\n",
        "encodings = face_recognition.face_encodings(rgb, boxes) # this is the guy that takes the encodings\n",
        " #------------------------------------------------------------------------------\n",
        "\n",
        "# we shall be doing it with midhun\n",
        "\n",
        "indice_list = [i for i, n in enumerate(db_read[\"names\"]) if n == 'Midhun'] # List comprehension\n",
        "\n",
        "distance_vector_midhun = np.empty(len(indice_list), dtype=np.float32)\n",
        "\n",
        "i = 0\n",
        "while i<len(indice_list):\n",
        "\n",
        "    distance_vector_midhun[i] = np.sqrt(np.sum(np.square(db_read[\"encodings\"][indice_list[i]] - encodings)))\n",
        "    i += 1\n",
        "\n",
        "print(\n",
        "    \"The maximum value in distance_vector_midhun is \",\n",
        "    np.max(distance_vector_midhun)\n",
        ")\n",
        "\n",
        "print(\n",
        "    \"The minimum value in distance_vector_midhun is \",\n",
        "    np.min(distance_vector_midhun)\n",
        ")\n",
        "\n",
        "print(\n",
        "    \"The mean value in distance_vector_midhun is \",\n",
        "    np.mean(distance_vector_midhun)\n",
        ")\n",
        "\n"
      ],
      "execution_count": null,
      "outputs": [
        {
          "output_type": "stream",
          "text": [
            "[INFO] recognizing faces...\n",
            "The maximum value in distance_vector_midhun is  0.7393695\n",
            "The minimum value in distance_vector_midhun is  0.40332505\n",
            "The mean value in distance_vector_midhun is  0.5898415\n"
          ],
          "name": "stdout"
        }
      ]
    },
    {
      "cell_type": "markdown",
      "metadata": {
        "id": "IbbF-GRmvPOD"
      },
      "source": [
        "Uptil here was done last night"
      ]
    },
    {
      "cell_type": "code",
      "metadata": {
        "id": "kWD-ueZNhW2B",
        "colab": {
          "base_uri": "https://localhost:8080/",
          "height": 1000
        },
        "outputId": "fe5aca2d-53b6-4a55-aecc-5de468f77f07"
      },
      "source": [
        "# defining an empty list\n",
        "list_encodings = []\n",
        "list_names = []\n",
        "\n",
        "# initialing an empty attendance matrix\n",
        "attendance_matrix_test = np.zeros([len(name_matrix),len(test_paths)])\n",
        "\n",
        "i = 0\n",
        "while i<len(test_paths): # looping over all the folders in the dataset directory\n",
        "\n",
        "    # root folder contains the path for an individual folder\n",
        "    root_folder = test_paths[i]\n",
        "    print(\"This is the image we're processing in this iteration\")\n",
        "    print(root_folder)\n",
        "\n",
        "    # the part where we run the script on the dataset.\n",
        "    !python /content/drive/My\\ Drive/dataset_local/recognise_faces_test_1.py --encodings /content/face-recognition-opencv/aggregatepickle.pkl --image $root_folder\n",
        "\n",
        "    # we open the pickle file\n",
        "    pickle_in = open(\"/content/face-recognition-opencv/names_parrot.pickle\",\"rb\")\n",
        "    samp_2 = pickle.load(pickle_in)\n",
        "    pickle_in.close()\n",
        "\n",
        "    # deleting the file since it shouldn't be empty the next time\n",
        "    !rm /content/face-recognition-opencv/names_parrot.pickle\n",
        "\n",
        "    # with each photo, you need to append attendance\n",
        "\n",
        "    k = 0\n",
        "    while k<len(samp_2):\n",
        "        j = 0\n",
        "        while j<len(name_matrix):\n",
        "            if name_matrix[j]==samp_2[k]:\n",
        "                attendance_matrix_test[j,i]=1\n",
        "            j+=1\n",
        "        k+=1\n",
        "\n",
        "\n",
        "    # printing the attendance_matrix_test\n",
        "    print(\"This is the attendance_matrix_test\")\n",
        "    print(attendance_matrix_test)\n",
        "\n",
        "    # updating the i\n",
        "    i+=1\n"
      ],
      "execution_count": null,
      "outputs": [
        {
          "output_type": "stream",
          "text": [
            "This is the image we're processing in this iteration\n",
            "/content/face-recognition-opencv/dataset/test_image_folder/test_image_3.jpg\n",
            "[INFO] loading encodings...\n",
            "[INFO] recognizing faces...\n",
            "<class 'list'>\n",
            "['Ramdas', 'Midhun']\n",
            "THE LIST NAMES HAS BEEN SUCCESSFULLY PICKLED\n",
            "This is the attendance_matrix_test\n",
            "[[0. 0. 0. 0. 0.]\n",
            " [0. 0. 0. 0. 0.]\n",
            " [0. 0. 0. 0. 0.]\n",
            " [0. 0. 0. 0. 0.]\n",
            " [0. 0. 0. 0. 0.]\n",
            " [0. 0. 0. 0. 0.]\n",
            " [1. 0. 0. 0. 0.]\n",
            " [0. 0. 0. 0. 0.]\n",
            " [0. 0. 0. 0. 0.]\n",
            " [0. 0. 0. 0. 0.]\n",
            " [0. 0. 0. 0. 0.]\n",
            " [0. 0. 0. 0. 0.]\n",
            " [1. 0. 0. 0. 0.]]\n",
            "This is the image we're processing in this iteration\n",
            "/content/face-recognition-opencv/dataset/test_image_folder/test_image_2.jpg\n",
            "[INFO] loading encodings...\n",
            "[INFO] recognizing faces...\n",
            "<class 'list'>\n",
            "['Ramdas', 'Anuroop']\n",
            "THE LIST NAMES HAS BEEN SUCCESSFULLY PICKLED\n",
            "This is the attendance_matrix_test\n",
            "[[0. 0. 0. 0. 0.]\n",
            " [0. 0. 0. 0. 0.]\n",
            " [0. 1. 0. 0. 0.]\n",
            " [0. 0. 0. 0. 0.]\n",
            " [0. 0. 0. 0. 0.]\n",
            " [0. 0. 0. 0. 0.]\n",
            " [1. 0. 0. 0. 0.]\n",
            " [0. 0. 0. 0. 0.]\n",
            " [0. 0. 0. 0. 0.]\n",
            " [0. 0. 0. 0. 0.]\n",
            " [0. 0. 0. 0. 0.]\n",
            " [0. 0. 0. 0. 0.]\n",
            " [1. 1. 0. 0. 0.]]\n",
            "This is the image we're processing in this iteration\n",
            "/content/face-recognition-opencv/dataset/test_image_folder/test_image_0.jpg\n",
            "[INFO] loading encodings...\n",
            "[INFO] recognizing faces...\n",
            "<class 'list'>\n",
            "['Ramdas', 'Anuroop']\n",
            "THE LIST NAMES HAS BEEN SUCCESSFULLY PICKLED\n",
            "This is the attendance_matrix_test\n",
            "[[0. 0. 0. 0. 0.]\n",
            " [0. 0. 0. 0. 0.]\n",
            " [0. 1. 1. 0. 0.]\n",
            " [0. 0. 0. 0. 0.]\n",
            " [0. 0. 0. 0. 0.]\n",
            " [0. 0. 0. 0. 0.]\n",
            " [1. 0. 0. 0. 0.]\n",
            " [0. 0. 0. 0. 0.]\n",
            " [0. 0. 0. 0. 0.]\n",
            " [0. 0. 0. 0. 0.]\n",
            " [0. 0. 0. 0. 0.]\n",
            " [0. 0. 0. 0. 0.]\n",
            " [1. 1. 1. 0. 0.]]\n",
            "This is the image we're processing in this iteration\n",
            "/content/face-recognition-opencv/dataset/test_image_folder/vincent.jpg\n",
            "[INFO] loading encodings...\n",
            "[INFO] recognizing faces...\n",
            "<class 'list'>\n",
            "['Ramdas', 'Ramdas', 'Sruthi', 'Sruthi', 'Amal_Vincent', 'Anuroop', 'Anuroop', 'Uma_U', 'Amal_Vincent', 'Anuroop', 'Anuroop', 'Amal_Vincent', 'Midhun', 'Anuroop']\n",
            "THE LIST NAMES HAS BEEN SUCCESSFULLY PICKLED\n",
            "This is the attendance_matrix_test\n",
            "[[0. 0. 0. 0. 0.]\n",
            " [0. 0. 0. 1. 0.]\n",
            " [0. 1. 1. 1. 0.]\n",
            " [0. 0. 0. 1. 0.]\n",
            " [0. 0. 0. 0. 0.]\n",
            " [0. 0. 0. 1. 0.]\n",
            " [1. 0. 0. 1. 0.]\n",
            " [0. 0. 0. 0. 0.]\n",
            " [0. 0. 0. 0. 0.]\n",
            " [0. 0. 0. 0. 0.]\n",
            " [0. 0. 0. 0. 0.]\n",
            " [0. 0. 0. 0. 0.]\n",
            " [1. 1. 1. 1. 0.]]\n",
            "This is the image we're processing in this iteration\n",
            "/content/face-recognition-opencv/dataset/test_image_folder/test_image_1.jpg\n",
            "[INFO] loading encodings...\n",
            "[INFO] recognizing faces...\n",
            "<class 'list'>\n",
            "['Ramdas', 'Midhun']\n",
            "THE LIST NAMES HAS BEEN SUCCESSFULLY PICKLED\n",
            "This is the attendance_matrix_test\n",
            "[[0. 0. 0. 0. 0.]\n",
            " [0. 0. 0. 1. 0.]\n",
            " [0. 1. 1. 1. 0.]\n",
            " [0. 0. 0. 1. 0.]\n",
            " [0. 0. 0. 0. 0.]\n",
            " [0. 0. 0. 1. 0.]\n",
            " [1. 0. 0. 1. 1.]\n",
            " [0. 0. 0. 0. 0.]\n",
            " [0. 0. 0. 0. 0.]\n",
            " [0. 0. 0. 0. 0.]\n",
            " [0. 0. 0. 0. 0.]\n",
            " [0. 0. 0. 0. 0.]\n",
            " [1. 1. 1. 1. 1.]]\n"
          ],
          "name": "stdout"
        }
      ]
    },
    {
      "cell_type": "markdown",
      "metadata": {
        "id": "Z_4gcYJEJmiJ"
      },
      "source": [
        "## AIM : CREATING THE ATTENDANCE MATRICES  \n",
        "> One matrix containing the names  \n",
        "> The other matrix containing the attendance"
      ]
    },
    {
      "cell_type": "code",
      "metadata": {
        "id": "WvkOn5wZGCuO"
      },
      "source": [
        "number_of_students = 4\n",
        "name_matrix = [\"Anuroop\",\"kunju\",\"midhun\",\"Ramdas\"]\n",
        "#attendance_matrix = np.empty([number_of_students,7,5])\n",
        "attendance_matrix_test = np.zeros([number_of_students,1])"
      ],
      "execution_count": null,
      "outputs": []
    },
    {
      "cell_type": "markdown",
      "metadata": {
        "id": "a_S6W7v9P47V"
      },
      "source": [
        "## AIM : TAKING ATTENDANCE FOR AN HOUR  \n",
        "> Running recognize_faces on multiple images and updating the attendance_matrix correspondingly  "
      ]
    },
    {
      "cell_type": "code",
      "metadata": {
        "id": "H6pyfmtNQU_J"
      },
      "source": [
        "#running the recognize_faces with 5 images (since 5 images an hour)\n",
        "# for now, we do with one image\n",
        "# since we already have a pickled list, we're just gonna start comparing that\n",
        "\n",
        "i=0\n",
        "while i<len(samp_2): # we consider one name from the samp_2 pickle and search the database\n",
        "  j=0\n",
        "  while j<len(name_matrix):\n",
        "    if name_matrix[j]==samp_2[i]: #if the name is in the database,\n",
        "      attendance_matrix_test[j]=1 # we mark the attendance.\n",
        "    j+=1\n",
        "  i+=1\n"
      ],
      "execution_count": null,
      "outputs": []
    },
    {
      "cell_type": "code",
      "metadata": {
        "id": "e2N0omhiZgBO",
        "colab": {
          "base_uri": "https://localhost:8080/",
          "height": 86
        },
        "outputId": "f2252fd9-be37-48c4-ce49-c5718d7cf79a"
      },
      "source": [
        "print(attendance_matrix_test)"
      ],
      "execution_count": null,
      "outputs": [
        {
          "output_type": "stream",
          "text": [
            "[[0.]\n",
            " [0.]\n",
            " [1.]\n",
            " [1.]]\n"
          ],
          "name": "stdout"
        }
      ]
    },
    {
      "cell_type": "markdown",
      "metadata": {
        "id": "Wv5QWpyNhWYN"
      },
      "source": [
        "## AIM : TO LOOP THE RECOGNIZE SCRIPT OVER THE IMAGES IN A FOLDER  \n",
        "> This is assuming that we're taking only one photo an hour"
      ]
    },
    {
      "cell_type": "markdown",
      "metadata": {
        "id": "6kNo0jW4sVLf"
      },
      "source": [
        "> Finding the number of files"
      ]
    },
    {
      "cell_type": "code",
      "metadata": {
        "id": "xCBN-p_GlvaF",
        "colab": {
          "base_uri": "https://localhost:8080/",
          "height": 34
        },
        "outputId": "2c8965cb-2b8f-4b61-aede-288cc5d63b93"
      },
      "source": [
        "import os\n",
        "\n",
        "list = os.listdir('/content/drive/My Drive/dataset_local/test_image_folder')         # dir is your directory path\n",
        "number_files = len(list)\n",
        "print(\" The number of files in the directory = \", number_files)"
      ],
      "execution_count": null,
      "outputs": [
        {
          "output_type": "stream",
          "text": [
            " The number of files in the directory =  4\n"
          ],
          "name": "stdout"
        }
      ]
    },
    {
      "cell_type": "markdown",
      "metadata": {
        "id": "wegxmBmtHJMM"
      },
      "source": [
        "> The script is run on an image under a loop  \n",
        "> I intend to open the pickle, store the value to a matrix, delete the pickle and let the thing loop  \n",
        "> Note that this scripting is for the cut_dataset"
      ]
    },
    {
      "cell_type": "code",
      "metadata": {
        "id": "WCPmchFG9hYe",
        "colab": {
          "base_uri": "https://localhost:8080/",
          "height": 1000
        },
        "outputId": "7879c8d0-5cde-4450-dd8b-1a030a498db0"
      },
      "source": [
        "attendance_matrix = np.zeros([4,4])\n",
        "\n",
        "#name_string contains the command to recognise faces of an image in the string format\n",
        "name_string = \"python /content/drive/My\\ Drive/dataset_local/recognise_faces_test_1.py --encodings encodings_new.pickle --image /content/drive/My\\ Drive/dataset_local/test_image_folder/test_image_\"\n",
        "i=0\n",
        "\n",
        "\n",
        "while i<number_files:                         # 'i' is to go through the images\n",
        "  name_string = name_string + str(i) + '.jpg' #done so as to name the target image. read the whole of name_string\n",
        "  print(name_string)                          # to check if we got the string right\n",
        "  !$name_string                               # running the script to recognise faces\n",
        "  # once that is done, we reset the name_string to the initial string since this is a loop\n",
        "  name_string = \"python /content/drive/My\\ Drive/dataset_local/recognise_faces_test_1.py --encodings encodings_new.pickle --image /content/drive/My\\ Drive/dataset_local/test_image_folder/test_image_\"\n",
        "\n",
        "  # samp_2 contains the pickle that is produced by the recognise faces\n",
        "  print(\"enter pickle\")\n",
        "  pickle_in = open(\"/content/face-recognition-opencv/names_parrot.pickle\",\"rb\")\n",
        "  samp_2 = pickle.load(pickle_in)\n",
        "  pickle_in.close()\n",
        "  print(\"Exit pickle \")\n",
        "\n",
        "  # marking attendance\n",
        "  print(\"Entered attendance part\")\n",
        "\n",
        "  k=0                               # variable to go through the recognized names\n",
        "  while k<len(samp_2):\n",
        "    j=0\n",
        "    while j<len(name_matrix):       # j is used to go through the record\n",
        "      if name_matrix[j]==samp_2[k]:\n",
        "        attendance_matrix[j,i]+=1   # marking the attendance\n",
        "      j+=1\n",
        "    k+=1\n",
        "\n",
        "  # the row values contain attendance corresponding to names\n",
        "  # the column indicates the photo number\n",
        "  print(\"i=\",i)\n",
        "  print(\"shape of attendance matrix\",attendance_matrix.shape)\n",
        "  print(attendance_matrix)\n",
        "\n",
        "  !rm /content/face-recognition-opencv/names_parrot.pickle\n",
        "  i+=1\n",
        "\n"
      ],
      "execution_count": null,
      "outputs": [
        {
          "output_type": "stream",
          "text": [
            "python /content/drive/My\\ Drive/dataset_local/recognise_faces_test_1.py --encodings encodings_new.pickle --image /content/drive/My\\ Drive/dataset_local/test_image_folder/test_image_0.jpg\n",
            "[INFO] loading encodings...\n",
            "[INFO] recognizing faces...\n",
            "<class 'list'>\n",
            "['Ramdas', 'Anuroop']\n",
            "THE LIST NAMES HAS BEEN SUCCESSFULLY PICKLED\n",
            "enter pickle\n",
            "Exit pickle \n",
            "Entered attendance part\n",
            "i= 0\n",
            "shape of attendance matrix (4, 4)\n",
            "[[1. 0. 0. 0.]\n",
            " [0. 0. 0. 0.]\n",
            " [0. 0. 0. 0.]\n",
            " [1. 0. 0. 0.]]\n",
            "python /content/drive/My\\ Drive/dataset_local/recognise_faces_test_1.py --encodings encodings_new.pickle --image /content/drive/My\\ Drive/dataset_local/test_image_folder/test_image_1.jpg\n",
            "[INFO] loading encodings...\n",
            "[INFO] recognizing faces...\n",
            "<class 'list'>\n",
            "['Ramdas', 'midhun']\n",
            "THE LIST NAMES HAS BEEN SUCCESSFULLY PICKLED\n",
            "enter pickle\n",
            "Exit pickle \n",
            "Entered attendance part\n",
            "i= 1\n",
            "shape of attendance matrix (4, 4)\n",
            "[[1. 0. 0. 0.]\n",
            " [0. 0. 0. 0.]\n",
            " [0. 1. 0. 0.]\n",
            " [1. 1. 0. 0.]]\n",
            "python /content/drive/My\\ Drive/dataset_local/recognise_faces_test_1.py --encodings encodings_new.pickle --image /content/drive/My\\ Drive/dataset_local/test_image_folder/test_image_2.jpg\n",
            "[INFO] loading encodings...\n",
            "[INFO] recognizing faces...\n",
            "<class 'list'>\n",
            "['Ramdas', 'Anuroop']\n",
            "THE LIST NAMES HAS BEEN SUCCESSFULLY PICKLED\n",
            "enter pickle\n",
            "Exit pickle \n",
            "Entered attendance part\n",
            "i= 2\n",
            "shape of attendance matrix (4, 4)\n",
            "[[1. 0. 1. 0.]\n",
            " [0. 0. 0. 0.]\n",
            " [0. 1. 0. 0.]\n",
            " [1. 1. 1. 0.]]\n",
            "python /content/drive/My\\ Drive/dataset_local/recognise_faces_test_1.py --encodings encodings_new.pickle --image /content/drive/My\\ Drive/dataset_local/test_image_folder/test_image_3.jpg\n",
            "[INFO] loading encodings...\n",
            "[INFO] recognizing faces...\n",
            "<class 'list'>\n",
            "['Ramdas', 'midhun']\n",
            "THE LIST NAMES HAS BEEN SUCCESSFULLY PICKLED\n",
            "enter pickle\n",
            "Exit pickle \n",
            "Entered attendance part\n",
            "i= 3\n",
            "shape of attendance matrix (4, 4)\n",
            "[[1. 0. 1. 0.]\n",
            " [0. 0. 0. 0.]\n",
            " [0. 1. 0. 1.]\n",
            " [1. 1. 1. 1.]]\n"
          ],
          "name": "stdout"
        }
      ]
    },
    {
      "cell_type": "markdown",
      "metadata": {
        "id": "9_LPyplXM6sV"
      },
      "source": [
        "stack overflow to write to an excel sheet\n",
        "https://stackoverflow.com/questions/31909722/how-to-write-python-array-into-excel-spread-sheet"
      ]
    },
    {
      "cell_type": "markdown",
      "metadata": {
        "id": "N4PHMaycPSe2"
      },
      "source": [
        "this should help in pickling the names list too   \n",
        "https://stackoverflow.com/questions/25464295/how-to-pickle-a-list"
      ]
    },
    {
      "cell_type": "markdown",
      "metadata": {
        "id": "FCajkGn4YLO8"
      },
      "source": [
        "## WRITING TO AN EXCEL FILE  "
      ]
    },
    {
      "cell_type": "code",
      "metadata": {
        "id": "7IIv-ezI2Qp4",
        "colab": {
          "base_uri": "https://localhost:8080/",
          "height": 34
        },
        "outputId": "5cec27ed-8e56-4ec3-e13b-29bdc0b485de"
      },
      "source": [
        "!rm /content/array.xlsx"
      ],
      "execution_count": null,
      "outputs": [
        {
          "output_type": "stream",
          "text": [
            "rm: cannot remove '/content/array.xlsx': No such file or directory\n"
          ],
          "name": "stdout"
        }
      ]
    },
    {
      "cell_type": "code",
      "metadata": {
        "id": "4R_084kFsu_J"
      },
      "source": [
        "workbook = xlsxwriter.Workbook(\"/content/array.xlsx\")\n",
        "worksheet = workbook.add_worksheet()\n",
        "\n",
        "# the dimension of the names list is 1x4\n",
        "\n",
        "col = 2 # starting column\n",
        "row = 2 # starting row\n",
        "i=0\n",
        "\n",
        "# Name column ezhuthi edukkal\n",
        "while i<len(name_matrix):\n",
        "  worksheet.write(row+i,col,name_matrix[i])\n",
        "  i+=1\n",
        "\n",
        "\n",
        "row = 2 # starting row\n",
        "col = 3 # starting column\n",
        "i = 0\n",
        "\n",
        "#printing is done column wise\n",
        "while i < attendance_matrix.shape[0]:                       # i represents parsing through the row\n",
        "  j = 0\n",
        "  while j < attendance_matrix.shape[1]:                     # printing column first\n",
        "    worksheet.write(row + i,col+j,attendance_matrix[i,j])\n",
        "    j+=1\n",
        "\n",
        "  i+=1\n",
        "\n",
        "workbook.close()"
      ],
      "execution_count": null,
      "outputs": []
    },
    {
      "cell_type": "markdown",
      "metadata": {
        "id": "YwGDnYjVMhOe"
      },
      "source": [
        "# Checkpoint - Works well"
      ]
    },
    {
      "cell_type": "markdown",
      "metadata": {
        "id": "nSwbDf21FVPd"
      },
      "source": [
        "## NOTE : HOW THE DIRECTORIES MUST BE  \n",
        "> There must be a folder for an hour. Each such hour_folder must contain 5 photos.  \n",
        "> The hour_folders must be named as hour_1, hour_2 and so on.  \n",
        "> A day_folder must contain six hour_folder.  \n",
        "> The day folder must be named as per the date. Preferably in dd_mm_yyyy  \n"
      ]
    },
    {
      "cell_type": "code",
      "metadata": {
        "id": "l5sEet0jJDHw",
        "colab": {
          "base_uri": "https://localhost:8080/",
          "height": 34
        },
        "outputId": "df6f5a43-c625-4a84-9c95-8a9779c574d8"
      },
      "source": [
        "import os\n",
        "print(os.path.splitext(\"/path/to/some/file.txt\")[0])"
      ],
      "execution_count": null,
      "outputs": [
        {
          "output_type": "stream",
          "text": [
            "/path/to/some/file\n"
          ],
          "name": "stdout"
        }
      ]
    },
    {
      "cell_type": "code",
      "metadata": {
        "id": "4Ia93IheJG7b",
        "colab": {
          "base_uri": "https://localhost:8080/",
          "height": 34
        },
        "outputId": "48d07dfa-3688-4082-8092-bcc5ac2df13d"
      },
      "source": [
        "# code to test moving through the libraries\n",
        "from imutils import paths\n",
        "import face_recognition\n",
        "import argparse\n",
        "import pickle\n",
        "import cv2\n",
        "import os\n",
        "\n",
        "imagePaths = paths.list_images(\"/content/face-recognition-opencv/dataset/cut_dataset/Anuroop\")\n",
        "print(type(imagePaths))"
      ],
      "execution_count": null,
      "outputs": [
        {
          "output_type": "stream",
          "text": [
            "<class 'generator'>\n"
          ],
          "name": "stdout"
        }
      ]
    },
    {
      "cell_type": "code",
      "metadata": {
        "id": "VpNO5ewiL5z2"
      },
      "source": [
        "def imlist(path):\n",
        "    \"\"\"\n",
        "    The function imlist returns all the names of the files in\n",
        "    the directory path supplied as argument to the function.\n",
        "    \"\"\"\n",
        "    return [os.path.join(path, f) for f in os.listdir(path)]\n"
      ],
      "execution_count": null,
      "outputs": []
    },
    {
      "cell_type": "code",
      "metadata": {
        "id": "9Jm8430WNgY-",
        "colab": {
          "base_uri": "https://localhost:8080/",
          "height": 34
        },
        "outputId": "bc12b871-d3dc-4438-d08a-89ec4c36d2ca"
      },
      "source": [
        "print(type(imlist(\"/content/face-recognition-opencv/dataset/cut_dataset/Anuroop\")))"
      ],
      "execution_count": null,
      "outputs": [
        {
          "output_type": "stream",
          "text": [
            "<class 'list'>\n"
          ],
          "name": "stdout"
        }
      ]
    },
    {
      "cell_type": "code",
      "metadata": {
        "id": "ACracm0gNpf8",
        "colab": {
          "base_uri": "https://localhost:8080/",
          "height": 34
        },
        "outputId": "09d20d96-81b3-4016-924a-c3c83582e9a5"
      },
      "source": [
        "print(len(imlist(\"/content/face-recognition-opencv/dataset/cut_dataset/Anuroop\")))"
      ],
      "execution_count": null,
      "outputs": [
        {
          "output_type": "stream",
          "text": [
            "11\n"
          ],
          "name": "stdout"
        }
      ]
    },
    {
      "cell_type": "markdown",
      "metadata": {
        "id": "b7wmI1d4RTtn"
      },
      "source": [
        "> The following code needs to be edited so that this thing canloop over folders that contains folders. NOTE that this folder has not be edited"
      ]
    },
    {
      "cell_type": "code",
      "metadata": {
        "id": "H99ZYaI4N6jM"
      },
      "source": [
        "attendance_matrix = np.zeros([4,4])\n",
        "i=0\n",
        "name_string = \"python /content/drive/My\\ Drive/dataset_local/recognise_faces_test_1.py --encodings encodings_new.pickle --image /content/drive/My\\ Drive/dataset_local/test_image_folder/test_image_\"\n",
        "while i<number_files:\n",
        "  name_string = name_string + str(i) + '.jpg'\n",
        "  print(name_string)\n",
        "  !$name_string\n",
        "  name_string = \"python /content/drive/My\\ Drive/dataset_local/recognise_faces_test_1.py --encodings encodings_new.pickle --image /content/drive/My\\ Drive/dataset_local/test_image_folder/test_image_\"\n",
        "\n",
        "  print(\"enter pickle\")\n",
        "  pickle_in = open(\"/content/face-recognition-opencv/names_parrot.pickle\",\"rb\")\n",
        "  samp_2 = pickle.load(pickle_in)\n",
        "  pickle_in.close()\n",
        "  print(\"Exit pickle \")\n",
        "\n",
        "  print(\"Entered attendance part\")\n",
        "\n",
        "  k=0\n",
        "  while k<len(samp_2):\n",
        "    j=0\n",
        "    while j<len(name_matrix):\n",
        "      if name_matrix[j]==samp_2[k]:\n",
        "        attendance_matrix[j,i]+=1\n",
        "      j+=1\n",
        "    k+=1\n",
        "\n",
        "  print(\"i=\",i)\n",
        "  print(\"shape of attendance matrix\",attendance_matrix.shape)\n",
        "  print(attendance_matrix)\n",
        "\n",
        "  !rm /content/face-recognition-opencv/names_parrot.pickle\n",
        "  i+=1\n",
        "\n"
      ],
      "execution_count": null,
      "outputs": []
    }
  ]
}